{
 "cells": [
  {
   "cell_type": "code",
   "execution_count": 1,
   "id": "c7ea8534",
   "metadata": {},
   "outputs": [],
   "source": [
    "# A company started to invest in digital marketing as a new way of their product promotions. For that they \n",
    "# collected data and decided to carry out a study on it.\n",
    "\n",
    "# ● The company wishes to clarify whether there is any increase in sales after stepping into digital marketing.\n",
    "\n",
    "\n",
    "# ● The company needs to check whether there is any dependency between the  features “Region” and “Manager”.\n",
    "# Help the company to carry out their study with the help of data provided.\n"
   ]
  },
  {
   "cell_type": "code",
   "execution_count": 8,
   "id": "50356e74",
   "metadata": {
    "scrolled": false
   },
   "outputs": [
    {
     "name": "stdout",
     "output_type": "stream",
     "text": [
      "       Month      Region      Manager  Sales_before_digital_add(in $)  Sales_After_digital_add(in $)\n",
      "0    Month-1  Region - A  Manager - A                          132921                         270390\n",
      "1    Month-2  Region - A  Manager - C                          149559                         223334\n",
      "2    Month-3  Region - B  Manager - A                          146278                         244243\n",
      "3    Month-4  Region - B  Manager - B                          152167                         231808\n",
      "4    Month-5  Region - C  Manager - B                          159525                         258402\n",
      "5    Month-6  Region - A  Manager - B                          137163                         256948\n",
      "6    Month-7  Region - C  Manager - C                          130625                         222106\n",
      "7    Month-8  Region - A  Manager - A                          131140                         230637\n",
      "8    Month-9  Region - B  Manager - C                          171259                         226261\n",
      "9   Month-10  Region - C  Manager - B                          141956                         193735\n",
      "10  Month-11  Region - B  Manager - C                          159339                         203175\n",
      "11  Month-12  Region - A  Manager - A                          178939                         276279\n",
      "12  Month-13  Region - B  Manager - A                          145062                         205180\n",
      "13  Month-14  Region - A  Manager - A                          151514                         253131\n",
      "14  Month-15  Region - C  Manager - A                          147463                         229336\n",
      "15  Month-16  Region - A  Manager - B                          177195                         187305\n",
      "16  Month-17  Region - A  Manager - C                          140862                         234908\n",
      "17  Month-18  Region - C  Manager - B                          167996                         191517\n",
      "18  Month-19  Region - B  Manager - A                          132135                         227040\n",
      "19  Month-20  Region - A  Manager - B                          152493                         212579\n",
      "20  Month-21  Region - B  Manager - A                          147425                         263388\n",
      "21  Month-22  Region - A  Manager - C                          130263                         243020\n"
     ]
    }
   ],
   "source": [
    "import numpy as np\n",
    "import pandas as pd\n",
    "import seaborn as sns\n",
    "import matplotlib.pyplot as plt\n",
    "\n",
    "from scipy.stats import chi2_contingency\n",
    " \n",
    "\n",
    "\n",
    "df=pd.read_csv('sales_add.csv')\n",
    "print(df.to_string())"
   ]
  },
  {
   "cell_type": "code",
   "execution_count": 9,
   "id": "52a23b25",
   "metadata": {},
   "outputs": [
    {
     "data": {
      "text/html": [
       "<div>\n",
       "<style scoped>\n",
       "    .dataframe tbody tr th:only-of-type {\n",
       "        vertical-align: middle;\n",
       "    }\n",
       "\n",
       "    .dataframe tbody tr th {\n",
       "        vertical-align: top;\n",
       "    }\n",
       "\n",
       "    .dataframe thead th {\n",
       "        text-align: right;\n",
       "    }\n",
       "</style>\n",
       "<table border=\"1\" class=\"dataframe\">\n",
       "  <thead>\n",
       "    <tr style=\"text-align: right;\">\n",
       "      <th>Manager</th>\n",
       "      <th>Manager - A</th>\n",
       "      <th>Manager - B</th>\n",
       "      <th>Manager - C</th>\n",
       "    </tr>\n",
       "    <tr>\n",
       "      <th>Region</th>\n",
       "      <th></th>\n",
       "      <th></th>\n",
       "      <th></th>\n",
       "    </tr>\n",
       "  </thead>\n",
       "  <tbody>\n",
       "    <tr>\n",
       "      <th>Region - A</th>\n",
       "      <td>4</td>\n",
       "      <td>3</td>\n",
       "      <td>3</td>\n",
       "    </tr>\n",
       "    <tr>\n",
       "      <th>Region - B</th>\n",
       "      <td>4</td>\n",
       "      <td>1</td>\n",
       "      <td>2</td>\n",
       "    </tr>\n",
       "    <tr>\n",
       "      <th>Region - C</th>\n",
       "      <td>1</td>\n",
       "      <td>3</td>\n",
       "      <td>1</td>\n",
       "    </tr>\n",
       "  </tbody>\n",
       "</table>\n",
       "</div>"
      ],
      "text/plain": [
       "Manager     Manager - A  Manager - B  Manager - C\n",
       "Region                                           \n",
       "Region - A            4            3            3\n",
       "Region - B            4            1            2\n",
       "Region - C            1            3            1"
      ]
     },
     "execution_count": 9,
     "metadata": {},
     "output_type": "execute_result"
    }
   ],
   "source": [
    "contigency_table=pd.crosstab(df['Region'],df['Manager'])\n",
    "contigency_table"
   ]
  },
  {
   "cell_type": "code",
   "execution_count": 32,
   "id": "910606d5",
   "metadata": {},
   "outputs": [
    {
     "name": "stdout",
     "output_type": "stream",
     "text": [
      "The Test chi-square value is : 3.050566893424036\n",
      "\n",
      "The p-Value is : 0.5493991051158094\n",
      "\n",
      "The Degree of freedom is :  4\n"
     ]
    }
   ],
   "source": [
    "stat, p, dof, expected = chi2_contingency(contigency_table)\n",
    "\n",
    "print(\"The Test chi-square value is :\",stat)\n",
    "print(\"\\nThe p-Value is :\",p )\n",
    "print(\"\\nThe Degree of freedom is : \",dof)"
   ]
  },
  {
   "cell_type": "code",
   "execution_count": null,
   "id": "720d7cea",
   "metadata": {},
   "outputs": [],
   "source": []
  },
  {
   "cell_type": "code",
   "execution_count": null,
   "id": "703e7dd0",
   "metadata": {},
   "outputs": [],
   "source": []
  },
  {
   "cell_type": "code",
   "execution_count": 16,
   "id": "fc56166a",
   "metadata": {},
   "outputs": [
    {
     "data": {
      "text/plain": [
       "0.5493991051158094"
      ]
     },
     "execution_count": 16,
     "metadata": {},
     "output_type": "execute_result"
    }
   ],
   "source": [
    "contingency_table = pd.crosstab(df['Region'], df['Manager'])\n",
    "chi2, p_value1, dof, exp_values = chi2_contingency(contingency_table)\n",
    "p_value1"
   ]
  },
  {
   "cell_type": "code",
   "execution_count": 30,
   "id": "f413d29b",
   "metadata": {},
   "outputs": [
    {
     "data": {
      "text/plain": [
       "array([[4.09090909, 3.18181818, 2.72727273],\n",
       "       [2.86363636, 2.22727273, 1.90909091],\n",
       "       [2.04545455, 1.59090909, 1.36363636]])"
      ]
     },
     "execution_count": 30,
     "metadata": {},
     "output_type": "execute_result"
    }
   ],
   "source": [
    "exp_values"
   ]
  },
  {
   "cell_type": "code",
   "execution_count": 21,
   "id": "1d3253af",
   "metadata": {},
   "outputs": [],
   "source": [
    "from scipy.stats import ttest_rel\n",
    "\n",
    "t_score, p_value = ttest_rel(df['Sales_before_digital_add(in $)'], df['Sales_After_digital_add(in $)'])\n",
    "\n"
   ]
  },
  {
   "cell_type": "code",
   "execution_count": 22,
   "id": "0968ae88",
   "metadata": {},
   "outputs": [
    {
     "data": {
      "text/plain": [
       "-12.09070525287017"
      ]
     },
     "execution_count": 22,
     "metadata": {},
     "output_type": "execute_result"
    }
   ],
   "source": [
    "t_score"
   ]
  },
  {
   "cell_type": "code",
   "execution_count": null,
   "id": "61e74a30",
   "metadata": {},
   "outputs": [],
   "source": []
  },
  {
   "cell_type": "code",
   "execution_count": 42,
   "id": "ad9b419d",
   "metadata": {},
   "outputs": [
    {
     "name": "stdout",
     "output_type": "stream",
     "text": [
      "there is no dependency between the  features Region and Manager\n"
     ]
    }
   ],
   "source": [
    "print(\"There is no dependency between the  features Region and Manager\")\n"
   ]
  },
  {
   "cell_type": "code",
   "execution_count": null,
   "id": "5958f0c4",
   "metadata": {},
   "outputs": [],
   "source": []
  }
 ],
 "metadata": {
  "kernelspec": {
   "display_name": "Python 3 (ipykernel)",
   "language": "python",
   "name": "python3"
  },
  "language_info": {
   "codemirror_mode": {
    "name": "ipython",
    "version": 3
   },
   "file_extension": ".py",
   "mimetype": "text/x-python",
   "name": "python",
   "nbconvert_exporter": "python",
   "pygments_lexer": "ipython3",
   "version": "3.9.13"
  }
 },
 "nbformat": 4,
 "nbformat_minor": 5
}
