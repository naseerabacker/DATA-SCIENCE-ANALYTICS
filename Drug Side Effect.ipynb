{
 "cells": [
  {
   "cell_type": "code",
   "execution_count": 5,
   "id": "b1c4090d",
   "metadata": {
    "_cell_guid": "b1076dfc-b9ad-4769-8c92-a6c4dae69d19",
    "_uuid": "8f2839f25d086af736a60e9eeb907d3b93b6e0e5",
    "execution": {
     "iopub.execute_input": "2023-05-09T02:39:52.278506Z",
     "iopub.status.busy": "2023-05-09T02:39:52.277728Z",
     "iopub.status.idle": "2023-05-09T02:39:52.302094Z",
     "shell.execute_reply": "2023-05-09T02:39:52.300574Z"
    },
    "papermill": {
     "duration": 0.052395,
     "end_time": "2023-05-09T02:39:52.304685",
     "exception": false,
     "start_time": "2023-05-09T02:39:52.252290",
     "status": "completed"
    },
    "tags": []
   },
   "outputs": [],
   "source": [
    "\n",
    "\n",
    "import numpy as np \n",
    "import pandas as pd\n",
    "\n",
    "\n",
    "import os\n"
   ]
  },
  {
   "cell_type": "code",
   "execution_count": 11,
   "id": "894cbde1",
   "metadata": {
    "execution": {
     "iopub.execute_input": "2023-05-09T02:39:52.356881Z",
     "iopub.status.busy": "2023-05-09T02:39:52.356207Z",
     "iopub.status.idle": "2023-05-09T02:40:09.160564Z",
     "shell.execute_reply": "2023-05-09T02:40:09.159555Z"
    },
    "papermill": {
     "duration": 16.833034,
     "end_time": "2023-05-09T02:40:09.163032",
     "exception": false,
     "start_time": "2023-05-09T02:39:52.329998",
     "status": "completed"
    },
    "tags": []
   },
   "outputs": [],
   "source": [
    "import numpy as np\n",
    "import pandas as pd\n",
    "from random import choice, sample\n",
    "import matplotlib.pyplot as plt\n",
    "import seaborn as sns\n",
    "%matplotlib inline\n",
    "\n",
    "from sklearn.preprocessing import PowerTransformer\n",
    "from sklearn.preprocessing import MinMaxScaler\n",
    "from sklearn.pipeline import Pipeline\n",
    "\n",
    "import itertools\n",
    "import math\n",
    "import re\n",
    "import string\n",
    "import spacy\n",
    "import warnings\n",
    "warnings.filterwarnings(\"ignore\")\n",
    "\n",
    "from collections import Counter\n",
    "from nltk.corpus import stopwords\n",
    "\n",
    "from sklearn.ensemble import RandomForestClassifier\n",
    "from sklearn.feature_extraction.text import ENGLISH_STOP_WORDS as sklearn_stop_words\n",
    "from sklearn.feature_extraction.text import CountVectorizer\n",
    "from sklearn.feature_extraction.text import TfidfVectorizer\n",
    "from sklearn.naive_bayes import MultinomialNB\n",
    "from sklearn.model_selection import train_test_split\n",
    "from sklearn.metrics import classification_report, confusion_matrix, accuracy_score"
   ]
  },
  {
   "cell_type": "markdown",
   "id": "f5146f44",
   "metadata": {
    "papermill": {
     "duration": 0.024931,
     "end_time": "2023-05-09T02:40:09.212370",
     "exception": false,
     "start_time": "2023-05-09T02:40:09.187439",
     "status": "completed"
    },
    "tags": []
   },
   "source": [
    "# Loading Dataset"
   ]
  },
  {
   "cell_type": "code",
   "execution_count": 12,
   "id": "29bcd63b",
   "metadata": {
    "execution": {
     "iopub.execute_input": "2023-05-09T02:40:09.265565Z",
     "iopub.status.busy": "2023-05-09T02:40:09.264815Z",
     "iopub.status.idle": "2023-05-09T02:40:14.566528Z",
     "shell.execute_reply": "2023-05-09T02:40:14.565601Z"
    },
    "papermill": {
     "duration": 5.3295,
     "end_time": "2023-05-09T02:40:14.569012",
     "exception": false,
     "start_time": "2023-05-09T02:40:09.239512",
     "status": "completed"
    },
    "tags": []
   },
   "outputs": [],
   "source": [
    "data = pd.read_csv(\"drugeffect.csv\")"
   ]
  },
  {
   "cell_type": "code",
   "execution_count": 13,
   "id": "9594786e",
   "metadata": {
    "execution": {
     "iopub.execute_input": "2023-05-09T02:40:14.621387Z",
     "iopub.status.busy": "2023-05-09T02:40:14.620815Z",
     "iopub.status.idle": "2023-05-09T02:40:14.663130Z",
     "shell.execute_reply": "2023-05-09T02:40:14.662077Z"
    },
    "papermill": {
     "duration": 0.070393,
     "end_time": "2023-05-09T02:40:14.665508",
     "exception": false,
     "start_time": "2023-05-09T02:40:14.595115",
     "status": "completed"
    },
    "tags": []
   },
   "outputs": [
    {
     "data": {
      "text/html": [
       "<div>\n",
       "<style scoped>\n",
       "    .dataframe tbody tr th:only-of-type {\n",
       "        vertical-align: middle;\n",
       "    }\n",
       "\n",
       "    .dataframe tbody tr th {\n",
       "        vertical-align: top;\n",
       "    }\n",
       "\n",
       "    .dataframe thead th {\n",
       "        text-align: right;\n",
       "    }\n",
       "</style>\n",
       "<table border=\"1\" class=\"dataframe\">\n",
       "  <thead>\n",
       "    <tr style=\"text-align: right;\">\n",
       "      <th></th>\n",
       "      <th>Age</th>\n",
       "      <th>Condition</th>\n",
       "      <th>Date</th>\n",
       "      <th>Drug</th>\n",
       "      <th>DrugId</th>\n",
       "      <th>EaseofUse</th>\n",
       "      <th>Effectiveness</th>\n",
       "      <th>Reviews</th>\n",
       "      <th>Satisfaction</th>\n",
       "      <th>Sex</th>\n",
       "      <th>Sides</th>\n",
       "      <th>UsefulCount</th>\n",
       "    </tr>\n",
       "  </thead>\n",
       "  <tbody>\n",
       "    <tr>\n",
       "      <th>0</th>\n",
       "      <td>75 or over</td>\n",
       "      <td>Stuffy Nose</td>\n",
       "      <td>9/21/2014</td>\n",
       "      <td>25dph-7.5peh</td>\n",
       "      <td>146724</td>\n",
       "      <td>5</td>\n",
       "      <td>5</td>\n",
       "      <td>I'm a retired physician and of all the meds I ...</td>\n",
       "      <td>5</td>\n",
       "      <td>Male</td>\n",
       "      <td>Drowsiness,  dizziness ,  dry mouth /nose/thro...</td>\n",
       "      <td>0</td>\n",
       "    </tr>\n",
       "    <tr>\n",
       "      <th>1</th>\n",
       "      <td>25-34</td>\n",
       "      <td>Cold Symptoms</td>\n",
       "      <td>1/13/2011</td>\n",
       "      <td>25dph-7.5peh</td>\n",
       "      <td>146724</td>\n",
       "      <td>5</td>\n",
       "      <td>5</td>\n",
       "      <td>cleared me right up even with my throat hurtin...</td>\n",
       "      <td>5</td>\n",
       "      <td>Female</td>\n",
       "      <td>Drowsiness,  dizziness ,  dry mouth /nose/thro...</td>\n",
       "      <td>1</td>\n",
       "    </tr>\n",
       "    <tr>\n",
       "      <th>2</th>\n",
       "      <td>65-74</td>\n",
       "      <td>Other</td>\n",
       "      <td>7/16/2012</td>\n",
       "      <td>warfarin (bulk) 100 % powder</td>\n",
       "      <td>144731</td>\n",
       "      <td>2</td>\n",
       "      <td>3</td>\n",
       "      <td>why did my PTINR go from a normal of 2.5 to ov...</td>\n",
       "      <td>3</td>\n",
       "      <td>Female</td>\n",
       "      <td></td>\n",
       "      <td>0</td>\n",
       "    </tr>\n",
       "    <tr>\n",
       "      <th>3</th>\n",
       "      <td>75 or over</td>\n",
       "      <td>Other</td>\n",
       "      <td>9/23/2010</td>\n",
       "      <td>warfarin (bulk) 100 % powder</td>\n",
       "      <td>144731</td>\n",
       "      <td>2</td>\n",
       "      <td>2</td>\n",
       "      <td>FALLING AND DON'T REALISE IT</td>\n",
       "      <td>1</td>\n",
       "      <td>Female</td>\n",
       "      <td></td>\n",
       "      <td>0</td>\n",
       "    </tr>\n",
       "    <tr>\n",
       "      <th>4</th>\n",
       "      <td>35-44</td>\n",
       "      <td>Other</td>\n",
       "      <td>1/6/2009</td>\n",
       "      <td>warfarin (bulk) 100 % powder</td>\n",
       "      <td>144731</td>\n",
       "      <td>1</td>\n",
       "      <td>1</td>\n",
       "      <td>My grandfather was prescribed this medication ...</td>\n",
       "      <td>1</td>\n",
       "      <td>Male</td>\n",
       "      <td></td>\n",
       "      <td>1</td>\n",
       "    </tr>\n",
       "    <tr>\n",
       "      <th>...</th>\n",
       "      <td>...</td>\n",
       "      <td>...</td>\n",
       "      <td>...</td>\n",
       "      <td>...</td>\n",
       "      <td>...</td>\n",
       "      <td>...</td>\n",
       "      <td>...</td>\n",
       "      <td>...</td>\n",
       "      <td>...</td>\n",
       "      <td>...</td>\n",
       "      <td>...</td>\n",
       "      <td>...</td>\n",
       "    </tr>\n",
       "    <tr>\n",
       "      <th>362801</th>\n",
       "      <td>55-64</td>\n",
       "      <td>Stop Smoking</td>\n",
       "      <td>11/14/2008</td>\n",
       "      <td>chantix</td>\n",
       "      <td>144470</td>\n",
       "      <td>5</td>\n",
       "      <td>5</td>\n",
       "      <td>I took the whole 12 weeks.I could have stopped...</td>\n",
       "      <td>5</td>\n",
       "      <td>Female</td>\n",
       "      <td>Nausea ,  headache ,  vomiting , drowsiness, g...</td>\n",
       "      <td>2</td>\n",
       "    </tr>\n",
       "    <tr>\n",
       "      <th>362802</th>\n",
       "      <td></td>\n",
       "      <td>Other</td>\n",
       "      <td>11/14/2008</td>\n",
       "      <td>chantix</td>\n",
       "      <td>144470</td>\n",
       "      <td>2</td>\n",
       "      <td>3</td>\n",
       "      <td>My dad strated taking Chantix about 1 month ag...</td>\n",
       "      <td>1</td>\n",
       "      <td></td>\n",
       "      <td>Nausea ,  headache ,  vomiting , drowsiness, g...</td>\n",
       "      <td>16</td>\n",
       "    </tr>\n",
       "    <tr>\n",
       "      <th>362803</th>\n",
       "      <td>25-34</td>\n",
       "      <td>Stop Smoking</td>\n",
       "      <td>11/13/2008</td>\n",
       "      <td>chantix</td>\n",
       "      <td>144470</td>\n",
       "      <td>2</td>\n",
       "      <td>4</td>\n",
       "      <td>As long as I was on chantix, I didn't smoke.  ...</td>\n",
       "      <td>2</td>\n",
       "      <td>Female</td>\n",
       "      <td>Nausea ,  headache ,  vomiting , drowsiness, g...</td>\n",
       "      <td>3</td>\n",
       "    </tr>\n",
       "    <tr>\n",
       "      <th>362804</th>\n",
       "      <td>55-64</td>\n",
       "      <td>Stop Smoking</td>\n",
       "      <td>11/13/2008</td>\n",
       "      <td>chantix</td>\n",
       "      <td>144470</td>\n",
       "      <td>5</td>\n",
       "      <td>5</td>\n",
       "      <td>Started this medication Oct 5th 2008. Haven't ...</td>\n",
       "      <td>5</td>\n",
       "      <td>Male</td>\n",
       "      <td>Nausea ,  headache ,  vomiting , drowsiness, g...</td>\n",
       "      <td>1</td>\n",
       "    </tr>\n",
       "    <tr>\n",
       "      <th>362805</th>\n",
       "      <td>45-54</td>\n",
       "      <td>Stop Smoking</td>\n",
       "      <td>11/12/2008</td>\n",
       "      <td>chantix</td>\n",
       "      <td>144470</td>\n",
       "      <td>4</td>\n",
       "      <td>5</td>\n",
       "      <td>One year ago, I tried Chantix and had to stop ...</td>\n",
       "      <td>5</td>\n",
       "      <td>Female</td>\n",
       "      <td>Nausea ,  headache ,  vomiting , drowsiness, g...</td>\n",
       "      <td>3</td>\n",
       "    </tr>\n",
       "  </tbody>\n",
       "</table>\n",
       "<p>362806 rows × 12 columns</p>\n",
       "</div>"
      ],
      "text/plain": [
       "               Age      Condition        Date                          Drug  \\\n",
       "0       75 or over    Stuffy Nose   9/21/2014                  25dph-7.5peh   \n",
       "1            25-34  Cold Symptoms   1/13/2011                  25dph-7.5peh   \n",
       "2            65-74          Other   7/16/2012  warfarin (bulk) 100 % powder   \n",
       "3       75 or over          Other   9/23/2010  warfarin (bulk) 100 % powder   \n",
       "4            35-44          Other    1/6/2009  warfarin (bulk) 100 % powder   \n",
       "...            ...            ...         ...                           ...   \n",
       "362801       55-64   Stop Smoking  11/14/2008                       chantix   \n",
       "362802                      Other  11/14/2008                       chantix   \n",
       "362803       25-34   Stop Smoking  11/13/2008                       chantix   \n",
       "362804       55-64   Stop Smoking  11/13/2008                       chantix   \n",
       "362805       45-54   Stop Smoking  11/12/2008                       chantix   \n",
       "\n",
       "        DrugId  EaseofUse  Effectiveness  \\\n",
       "0       146724          5              5   \n",
       "1       146724          5              5   \n",
       "2       144731          2              3   \n",
       "3       144731          2              2   \n",
       "4       144731          1              1   \n",
       "...        ...        ...            ...   \n",
       "362801  144470          5              5   \n",
       "362802  144470          2              3   \n",
       "362803  144470          2              4   \n",
       "362804  144470          5              5   \n",
       "362805  144470          4              5   \n",
       "\n",
       "                                                  Reviews  Satisfaction  \\\n",
       "0       I'm a retired physician and of all the meds I ...             5   \n",
       "1       cleared me right up even with my throat hurtin...             5   \n",
       "2       why did my PTINR go from a normal of 2.5 to ov...             3   \n",
       "3                            FALLING AND DON'T REALISE IT             1   \n",
       "4       My grandfather was prescribed this medication ...             1   \n",
       "...                                                   ...           ...   \n",
       "362801  I took the whole 12 weeks.I could have stopped...             5   \n",
       "362802  My dad strated taking Chantix about 1 month ag...             1   \n",
       "362803  As long as I was on chantix, I didn't smoke.  ...             2   \n",
       "362804  Started this medication Oct 5th 2008. Haven't ...             5   \n",
       "362805  One year ago, I tried Chantix and had to stop ...             5   \n",
       "\n",
       "           Sex                                              Sides  UsefulCount  \n",
       "0         Male  Drowsiness,  dizziness ,  dry mouth /nose/thro...            0  \n",
       "1       Female  Drowsiness,  dizziness ,  dry mouth /nose/thro...            1  \n",
       "2       Female                                                               0  \n",
       "3       Female                                                               0  \n",
       "4         Male                                                               1  \n",
       "...        ...                                                ...          ...  \n",
       "362801  Female  Nausea ,  headache ,  vomiting , drowsiness, g...            2  \n",
       "362802          Nausea ,  headache ,  vomiting , drowsiness, g...           16  \n",
       "362803  Female  Nausea ,  headache ,  vomiting , drowsiness, g...            3  \n",
       "362804    Male  Nausea ,  headache ,  vomiting , drowsiness, g...            1  \n",
       "362805  Female  Nausea ,  headache ,  vomiting , drowsiness, g...            3  \n",
       "\n",
       "[362806 rows x 12 columns]"
      ]
     },
     "execution_count": 13,
     "metadata": {},
     "output_type": "execute_result"
    }
   ],
   "source": [
    "data"
   ]
  },
  {
   "cell_type": "markdown",
   "id": "26b84b1c",
   "metadata": {
    "papermill": {
     "duration": 0.024382,
     "end_time": "2023-05-09T02:40:14.714903",
     "exception": false,
     "start_time": "2023-05-09T02:40:14.690521",
     "status": "completed"
    },
    "tags": []
   },
   "source": [
    "#### Description of the dataset\n",
    "Name : Name of the patient\n",
    "\n",
    "Race : Race of the patient\n",
    "\n",
    "Age : Age of the patient\n",
    "\n",
    "Condition : Condition/symptom from which the patient is suffering\n",
    "\n",
    "Date : Date of usage\n",
    "\n",
    "Drug : Name of the drug\n",
    "\n",
    "DrugId : Identity/code of drug\n",
    "\n",
    "EaseofUse : Patient's 10-Star rating on the ease of use of drug\n",
    "\n",
    "Effectiveness : Patient's 10-Star rating on the effectiveness of drug\n",
    "\n",
    "Reviews : Patient's review\n",
    "\n",
    "Satisfaction : Patient's 10-Star rating on satisfaction\n",
    "\n",
    "Sex : Gender of the patient\n",
    "\n",
    "Sides : Side effects of the drug\n",
    "\n",
    "UsefulCount : Number of users who found the review useful"
   ]
  },
  {
   "cell_type": "code",
   "execution_count": 9,
   "id": "290caf3f",
   "metadata": {
    "execution": {
     "iopub.execute_input": "2023-05-09T02:40:14.765765Z",
     "iopub.status.busy": "2023-05-09T02:40:14.765343Z",
     "iopub.status.idle": "2023-05-09T02:40:15.205508Z",
     "shell.execute_reply": "2023-05-09T02:40:15.204300Z"
    },
    "papermill": {
     "duration": 0.46865,
     "end_time": "2023-05-09T02:40:15.207918",
     "exception": false,
     "start_time": "2023-05-09T02:40:14.739268",
     "status": "completed"
    },
    "tags": []
   },
   "outputs": [
    {
     "name": "stdout",
     "output_type": "stream",
     "text": [
      "<class 'pandas.core.frame.DataFrame'>\n",
      "RangeIndex: 362806 entries, 0 to 362805\n",
      "Data columns (total 12 columns):\n",
      " #   Column         Non-Null Count   Dtype \n",
      "---  ------         --------------   ----- \n",
      " 0   Age            362806 non-null  object\n",
      " 1   Condition      362806 non-null  object\n",
      " 2   Date           362806 non-null  object\n",
      " 3   Drug           362806 non-null  object\n",
      " 4   DrugId         362806 non-null  int64 \n",
      " 5   EaseofUse      362806 non-null  int64 \n",
      " 6   Effectiveness  362806 non-null  int64 \n",
      " 7   Reviews        362769 non-null  object\n",
      " 8   Satisfaction   362806 non-null  int64 \n",
      " 9   Sex            362806 non-null  object\n",
      " 10  Sides          362806 non-null  object\n",
      " 11  UsefulCount    362806 non-null  int64 \n",
      "dtypes: int64(5), object(7)\n",
      "memory usage: 33.2+ MB\n"
     ]
    }
   ],
   "source": [
    "data.info()"
   ]
  },
  {
   "cell_type": "code",
   "execution_count": 10,
   "id": "13c1d677",
   "metadata": {
    "execution": {
     "iopub.execute_input": "2023-05-09T02:40:15.258776Z",
     "iopub.status.busy": "2023-05-09T02:40:15.257818Z",
     "iopub.status.idle": "2023-05-09T02:40:15.264694Z",
     "shell.execute_reply": "2023-05-09T02:40:15.263835Z"
    },
    "papermill": {
     "duration": 0.034761,
     "end_time": "2023-05-09T02:40:15.266680",
     "exception": false,
     "start_time": "2023-05-09T02:40:15.231919",
     "status": "completed"
    },
    "tags": []
   },
   "outputs": [
    {
     "data": {
      "text/plain": [
       "Index(['Age', 'Condition', 'Date', 'Drug', 'DrugId', 'EaseofUse',\n",
       "       'Effectiveness', 'Reviews', 'Satisfaction', 'Sex', 'Sides',\n",
       "       'UsefulCount'],\n",
       "      dtype='object')"
      ]
     },
     "execution_count": 10,
     "metadata": {},
     "output_type": "execute_result"
    }
   ],
   "source": [
    "data.columns"
   ]
  },
  {
   "cell_type": "code",
   "execution_count": 11,
   "id": "145054b0",
   "metadata": {
    "execution": {
     "iopub.execute_input": "2023-05-09T02:40:15.318149Z",
     "iopub.status.busy": "2023-05-09T02:40:15.317525Z",
     "iopub.status.idle": "2023-05-09T02:40:15.399689Z",
     "shell.execute_reply": "2023-05-09T02:40:15.398559Z"
    },
    "papermill": {
     "duration": 0.110423,
     "end_time": "2023-05-09T02:40:15.401989",
     "exception": false,
     "start_time": "2023-05-09T02:40:15.291566",
     "status": "completed"
    },
    "tags": []
   },
   "outputs": [
    {
     "data": {
      "text/html": [
       "<div>\n",
       "<style scoped>\n",
       "    .dataframe tbody tr th:only-of-type {\n",
       "        vertical-align: middle;\n",
       "    }\n",
       "\n",
       "    .dataframe tbody tr th {\n",
       "        vertical-align: top;\n",
       "    }\n",
       "\n",
       "    .dataframe thead th {\n",
       "        text-align: right;\n",
       "    }\n",
       "</style>\n",
       "<table border=\"1\" class=\"dataframe\">\n",
       "  <thead>\n",
       "    <tr style=\"text-align: right;\">\n",
       "      <th></th>\n",
       "      <th>DrugId</th>\n",
       "      <th>EaseofUse</th>\n",
       "      <th>Effectiveness</th>\n",
       "      <th>Satisfaction</th>\n",
       "      <th>UsefulCount</th>\n",
       "    </tr>\n",
       "  </thead>\n",
       "  <tbody>\n",
       "    <tr>\n",
       "      <th>count</th>\n",
       "      <td>362806.000000</td>\n",
       "      <td>362806.000000</td>\n",
       "      <td>362806.000000</td>\n",
       "      <td>362806.000000</td>\n",
       "      <td>362806.000000</td>\n",
       "    </tr>\n",
       "    <tr>\n",
       "      <th>mean</th>\n",
       "      <td>36879.370774</td>\n",
       "      <td>4.019829</td>\n",
       "      <td>3.532061</td>\n",
       "      <td>3.135408</td>\n",
       "      <td>6.744916</td>\n",
       "    </tr>\n",
       "    <tr>\n",
       "      <th>std</th>\n",
       "      <td>52624.412971</td>\n",
       "      <td>1.317711</td>\n",
       "      <td>1.455961</td>\n",
       "      <td>1.611106</td>\n",
       "      <td>9.324240</td>\n",
       "    </tr>\n",
       "    <tr>\n",
       "      <th>min</th>\n",
       "      <td>1.000000</td>\n",
       "      <td>1.000000</td>\n",
       "      <td>1.000000</td>\n",
       "      <td>1.000000</td>\n",
       "      <td>0.000000</td>\n",
       "    </tr>\n",
       "    <tr>\n",
       "      <th>25%</th>\n",
       "      <td>4896.000000</td>\n",
       "      <td>3.000000</td>\n",
       "      <td>3.000000</td>\n",
       "      <td>1.000000</td>\n",
       "      <td>1.000000</td>\n",
       "    </tr>\n",
       "    <tr>\n",
       "      <th>50%</th>\n",
       "      <td>9548.000000</td>\n",
       "      <td>5.000000</td>\n",
       "      <td>4.000000</td>\n",
       "      <td>3.000000</td>\n",
       "      <td>4.000000</td>\n",
       "    </tr>\n",
       "    <tr>\n",
       "      <th>75%</th>\n",
       "      <td>63522.000000</td>\n",
       "      <td>5.000000</td>\n",
       "      <td>5.000000</td>\n",
       "      <td>5.000000</td>\n",
       "      <td>9.000000</td>\n",
       "    </tr>\n",
       "    <tr>\n",
       "      <th>max</th>\n",
       "      <td>178546.000000</td>\n",
       "      <td>10.000000</td>\n",
       "      <td>10.000000</td>\n",
       "      <td>10.000000</td>\n",
       "      <td>255.000000</td>\n",
       "    </tr>\n",
       "  </tbody>\n",
       "</table>\n",
       "</div>"
      ],
      "text/plain": [
       "              DrugId      EaseofUse  Effectiveness   Satisfaction  \\\n",
       "count  362806.000000  362806.000000  362806.000000  362806.000000   \n",
       "mean    36879.370774       4.019829       3.532061       3.135408   \n",
       "std     52624.412971       1.317711       1.455961       1.611106   \n",
       "min         1.000000       1.000000       1.000000       1.000000   \n",
       "25%      4896.000000       3.000000       3.000000       1.000000   \n",
       "50%      9548.000000       5.000000       4.000000       3.000000   \n",
       "75%     63522.000000       5.000000       5.000000       5.000000   \n",
       "max    178546.000000      10.000000      10.000000      10.000000   \n",
       "\n",
       "         UsefulCount  \n",
       "count  362806.000000  \n",
       "mean        6.744916  \n",
       "std         9.324240  \n",
       "min         0.000000  \n",
       "25%         1.000000  \n",
       "50%         4.000000  \n",
       "75%         9.000000  \n",
       "max       255.000000  "
      ]
     },
     "execution_count": 11,
     "metadata": {},
     "output_type": "execute_result"
    }
   ],
   "source": [
    "data.describe()"
   ]
  },
  {
   "cell_type": "markdown",
   "id": "6224259b",
   "metadata": {
    "papermill": {
     "duration": 0.025032,
     "end_time": "2023-05-09T02:40:15.452623",
     "exception": false,
     "start_time": "2023-05-09T02:40:15.427591",
     "status": "completed"
    },
    "tags": []
   },
   "source": [
    "## Name and race column addition"
   ]
  },
  {
   "cell_type": "code",
   "execution_count": 12,
   "id": "b23363a0",
   "metadata": {
    "execution": {
     "iopub.execute_input": "2023-05-09T02:40:15.506168Z",
     "iopub.status.busy": "2023-05-09T02:40:15.505436Z",
     "iopub.status.idle": "2023-05-09T02:40:30.399624Z",
     "shell.execute_reply": "2023-05-09T02:40:30.397990Z"
    },
    "papermill": {
     "duration": 14.924322,
     "end_time": "2023-05-09T02:40:30.402150",
     "exception": false,
     "start_time": "2023-05-09T02:40:15.477828",
     "status": "completed"
    },
    "tags": []
   },
   "outputs": [
    {
     "name": "stdout",
     "output_type": "stream",
     "text": [
      "Requirement already satisfied: mimesis in c:\\users\\user\\anaconda3\\lib\\site-packages (11.1.0)\n",
      "Note: you may need to restart the kernel to use updated packages.\n"
     ]
    }
   ],
   "source": [
    "pip install mimesis"
   ]
  },
  {
   "cell_type": "code",
   "execution_count": 13,
   "id": "1603adbc",
   "metadata": {
    "execution": {
     "iopub.execute_input": "2023-05-09T02:40:30.457826Z",
     "iopub.status.busy": "2023-05-09T02:40:30.457402Z",
     "iopub.status.idle": "2023-05-09T02:40:32.492606Z",
     "shell.execute_reply": "2023-05-09T02:40:32.491430Z"
    },
    "papermill": {
     "duration": 2.06564,
     "end_time": "2023-05-09T02:40:32.495307",
     "exception": false,
     "start_time": "2023-05-09T02:40:30.429667",
     "status": "completed"
    },
    "tags": []
   },
   "outputs": [
    {
     "data": {
      "text/html": [
       "<div>\n",
       "<style scoped>\n",
       "    .dataframe tbody tr th:only-of-type {\n",
       "        vertical-align: middle;\n",
       "    }\n",
       "\n",
       "    .dataframe tbody tr th {\n",
       "        vertical-align: top;\n",
       "    }\n",
       "\n",
       "    .dataframe thead th {\n",
       "        text-align: right;\n",
       "    }\n",
       "</style>\n",
       "<table border=\"1\" class=\"dataframe\">\n",
       "  <thead>\n",
       "    <tr style=\"text-align: right;\">\n",
       "      <th></th>\n",
       "      <th>Name</th>\n",
       "    </tr>\n",
       "  </thead>\n",
       "  <tbody>\n",
       "    <tr>\n",
       "      <th>0</th>\n",
       "      <td>Saran</td>\n",
       "    </tr>\n",
       "    <tr>\n",
       "      <th>1</th>\n",
       "      <td>Theola</td>\n",
       "    </tr>\n",
       "    <tr>\n",
       "      <th>2</th>\n",
       "      <td>Jenee</td>\n",
       "    </tr>\n",
       "    <tr>\n",
       "      <th>3</th>\n",
       "      <td>Inger</td>\n",
       "    </tr>\n",
       "    <tr>\n",
       "      <th>4</th>\n",
       "      <td>Kimberli</td>\n",
       "    </tr>\n",
       "  </tbody>\n",
       "</table>\n",
       "</div>"
      ],
      "text/plain": [
       "       Name\n",
       "0     Saran\n",
       "1    Theola\n",
       "2     Jenee\n",
       "3     Inger\n",
       "4  Kimberli"
      ]
     },
     "execution_count": 13,
     "metadata": {},
     "output_type": "execute_result"
    }
   ],
   "source": [
    "from mimesis import Person\n",
    "person = Person('en')\n",
    "\n",
    "# function to create names to exact rows\n",
    "def fake_names(n):\n",
    "   name = []\n",
    "   for _ in range(0, n):\n",
    "        name.append(person.name())\n",
    "   return name\n",
    "\n",
    "names = fake_names(362806)\n",
    "\n",
    "data_name = pd.DataFrame(list(zip(names)),columns = ['Name'])\n",
    "\n",
    "data_name.head()"
   ]
  },
  {
   "cell_type": "code",
   "execution_count": 14,
   "id": "6da76d4b",
   "metadata": {
    "execution": {
     "iopub.execute_input": "2023-05-09T02:40:32.551006Z",
     "iopub.status.busy": "2023-05-09T02:40:32.549920Z",
     "iopub.status.idle": "2023-05-09T02:40:33.876924Z",
     "shell.execute_reply": "2023-05-09T02:40:33.875623Z"
    },
    "papermill": {
     "duration": 1.357012,
     "end_time": "2023-05-09T02:40:33.879282",
     "exception": false,
     "start_time": "2023-05-09T02:40:32.522270",
     "status": "completed"
    },
    "tags": []
   },
   "outputs": [
    {
     "data": {
      "text/html": [
       "<div>\n",
       "<style scoped>\n",
       "    .dataframe tbody tr th:only-of-type {\n",
       "        vertical-align: middle;\n",
       "    }\n",
       "\n",
       "    .dataframe tbody tr th {\n",
       "        vertical-align: top;\n",
       "    }\n",
       "\n",
       "    .dataframe thead th {\n",
       "        text-align: right;\n",
       "    }\n",
       "</style>\n",
       "<table border=\"1\" class=\"dataframe\">\n",
       "  <thead>\n",
       "    <tr style=\"text-align: right;\">\n",
       "      <th></th>\n",
       "      <th>Race</th>\n",
       "    </tr>\n",
       "  </thead>\n",
       "  <tbody>\n",
       "    <tr>\n",
       "      <th>0</th>\n",
       "      <td>White</td>\n",
       "    </tr>\n",
       "    <tr>\n",
       "      <th>1</th>\n",
       "      <td>White</td>\n",
       "    </tr>\n",
       "    <tr>\n",
       "      <th>2</th>\n",
       "      <td>White</td>\n",
       "    </tr>\n",
       "    <tr>\n",
       "      <th>3</th>\n",
       "      <td>Asian</td>\n",
       "    </tr>\n",
       "    <tr>\n",
       "      <th>4</th>\n",
       "      <td>White</td>\n",
       "    </tr>\n",
       "  </tbody>\n",
       "</table>\n",
       "</div>"
      ],
      "text/plain": [
       "    Race\n",
       "0  White\n",
       "1  White\n",
       "2  White\n",
       "3  Asian\n",
       "4  White"
      ]
     },
     "execution_count": 14,
     "metadata": {},
     "output_type": "execute_result"
    }
   ],
   "source": [
    "import random\n",
    "\n",
    "options = [(\"White\", 0.32), (\"Hispanic\", .28), (\"Black\", 0.22), (\"Asian\", 0.18)]\n",
    "words = []\n",
    "\n",
    "for i in range(362806):\n",
    "    word = random.choices([o[0] for o in options], [o[1] for o in options])[0]\n",
    "    words.append(word)\n",
    "\n",
    "data_race=pd.DataFrame(words, columns = ['Race'])\n",
    "\n",
    "data_race.head()"
   ]
  },
  {
   "cell_type": "code",
   "execution_count": 15,
   "id": "0b31b4b4",
   "metadata": {
    "execution": {
     "iopub.execute_input": "2023-05-09T02:40:33.934287Z",
     "iopub.status.busy": "2023-05-09T02:40:33.933108Z",
     "iopub.status.idle": "2023-05-09T02:40:34.217566Z",
     "shell.execute_reply": "2023-05-09T02:40:34.216470Z"
    },
    "papermill": {
     "duration": 0.314464,
     "end_time": "2023-05-09T02:40:34.220001",
     "exception": false,
     "start_time": "2023-05-09T02:40:33.905537",
     "status": "completed"
    },
    "tags": []
   },
   "outputs": [
    {
     "data": {
      "text/html": [
       "<div>\n",
       "<style scoped>\n",
       "    .dataframe tbody tr th:only-of-type {\n",
       "        vertical-align: middle;\n",
       "    }\n",
       "\n",
       "    .dataframe tbody tr th {\n",
       "        vertical-align: top;\n",
       "    }\n",
       "\n",
       "    .dataframe thead th {\n",
       "        text-align: right;\n",
       "    }\n",
       "</style>\n",
       "<table border=\"1\" class=\"dataframe\">\n",
       "  <thead>\n",
       "    <tr style=\"text-align: right;\">\n",
       "      <th></th>\n",
       "      <th>Name</th>\n",
       "      <th>Race</th>\n",
       "      <th>Age</th>\n",
       "      <th>Condition</th>\n",
       "      <th>Date</th>\n",
       "      <th>Drug</th>\n",
       "      <th>DrugId</th>\n",
       "      <th>EaseofUse</th>\n",
       "      <th>Effectiveness</th>\n",
       "      <th>Reviews</th>\n",
       "      <th>Satisfaction</th>\n",
       "      <th>Sex</th>\n",
       "      <th>Sides</th>\n",
       "      <th>UsefulCount</th>\n",
       "    </tr>\n",
       "  </thead>\n",
       "  <tbody>\n",
       "    <tr>\n",
       "      <th>0</th>\n",
       "      <td>Saran</td>\n",
       "      <td>White</td>\n",
       "      <td>75 or over</td>\n",
       "      <td>Stuffy Nose</td>\n",
       "      <td>9/21/2014</td>\n",
       "      <td>25dph-7.5peh</td>\n",
       "      <td>146724</td>\n",
       "      <td>5</td>\n",
       "      <td>5</td>\n",
       "      <td>I'm a retired physician and of all the meds I ...</td>\n",
       "      <td>5</td>\n",
       "      <td>Male</td>\n",
       "      <td>Drowsiness,  dizziness ,  dry mouth /nose/thro...</td>\n",
       "      <td>0</td>\n",
       "    </tr>\n",
       "    <tr>\n",
       "      <th>1</th>\n",
       "      <td>Theola</td>\n",
       "      <td>White</td>\n",
       "      <td>25-34</td>\n",
       "      <td>Cold Symptoms</td>\n",
       "      <td>1/13/2011</td>\n",
       "      <td>25dph-7.5peh</td>\n",
       "      <td>146724</td>\n",
       "      <td>5</td>\n",
       "      <td>5</td>\n",
       "      <td>cleared me right up even with my throat hurtin...</td>\n",
       "      <td>5</td>\n",
       "      <td>Female</td>\n",
       "      <td>Drowsiness,  dizziness ,  dry mouth /nose/thro...</td>\n",
       "      <td>1</td>\n",
       "    </tr>\n",
       "    <tr>\n",
       "      <th>2</th>\n",
       "      <td>Jenee</td>\n",
       "      <td>White</td>\n",
       "      <td>65-74</td>\n",
       "      <td>Other</td>\n",
       "      <td>7/16/2012</td>\n",
       "      <td>warfarin (bulk) 100 % powder</td>\n",
       "      <td>144731</td>\n",
       "      <td>2</td>\n",
       "      <td>3</td>\n",
       "      <td>why did my PTINR go from a normal of 2.5 to ov...</td>\n",
       "      <td>3</td>\n",
       "      <td>Female</td>\n",
       "      <td></td>\n",
       "      <td>0</td>\n",
       "    </tr>\n",
       "    <tr>\n",
       "      <th>3</th>\n",
       "      <td>Inger</td>\n",
       "      <td>Asian</td>\n",
       "      <td>75 or over</td>\n",
       "      <td>Other</td>\n",
       "      <td>9/23/2010</td>\n",
       "      <td>warfarin (bulk) 100 % powder</td>\n",
       "      <td>144731</td>\n",
       "      <td>2</td>\n",
       "      <td>2</td>\n",
       "      <td>FALLING AND DON'T REALISE IT</td>\n",
       "      <td>1</td>\n",
       "      <td>Female</td>\n",
       "      <td></td>\n",
       "      <td>0</td>\n",
       "    </tr>\n",
       "    <tr>\n",
       "      <th>4</th>\n",
       "      <td>Kimberli</td>\n",
       "      <td>White</td>\n",
       "      <td>35-44</td>\n",
       "      <td>Other</td>\n",
       "      <td>1/6/2009</td>\n",
       "      <td>warfarin (bulk) 100 % powder</td>\n",
       "      <td>144731</td>\n",
       "      <td>1</td>\n",
       "      <td>1</td>\n",
       "      <td>My grandfather was prescribed this medication ...</td>\n",
       "      <td>1</td>\n",
       "      <td>Male</td>\n",
       "      <td></td>\n",
       "      <td>1</td>\n",
       "    </tr>\n",
       "  </tbody>\n",
       "</table>\n",
       "</div>"
      ],
      "text/plain": [
       "       Name   Race         Age      Condition       Date  \\\n",
       "0     Saran  White  75 or over    Stuffy Nose  9/21/2014   \n",
       "1    Theola  White       25-34  Cold Symptoms  1/13/2011   \n",
       "2     Jenee  White       65-74          Other  7/16/2012   \n",
       "3     Inger  Asian  75 or over          Other  9/23/2010   \n",
       "4  Kimberli  White       35-44          Other   1/6/2009   \n",
       "\n",
       "                           Drug  DrugId  EaseofUse  Effectiveness  \\\n",
       "0                  25dph-7.5peh  146724          5              5   \n",
       "1                  25dph-7.5peh  146724          5              5   \n",
       "2  warfarin (bulk) 100 % powder  144731          2              3   \n",
       "3  warfarin (bulk) 100 % powder  144731          2              2   \n",
       "4  warfarin (bulk) 100 % powder  144731          1              1   \n",
       "\n",
       "                                             Reviews  Satisfaction     Sex  \\\n",
       "0  I'm a retired physician and of all the meds I ...             5    Male   \n",
       "1  cleared me right up even with my throat hurtin...             5  Female   \n",
       "2  why did my PTINR go from a normal of 2.5 to ov...             3  Female   \n",
       "3                       FALLING AND DON'T REALISE IT             1  Female   \n",
       "4  My grandfather was prescribed this medication ...             1    Male   \n",
       "\n",
       "                                               Sides  UsefulCount  \n",
       "0  Drowsiness,  dizziness ,  dry mouth /nose/thro...            0  \n",
       "1  Drowsiness,  dizziness ,  dry mouth /nose/thro...            1  \n",
       "2                                                               0  \n",
       "3                                                               0  \n",
       "4                                                               1  "
      ]
     },
     "execution_count": 15,
     "metadata": {},
     "output_type": "execute_result"
    }
   ],
   "source": [
    "data1 = pd.concat([data_name, data_race, data], axis=1).reindex(data.index)\n",
    "data1.head()"
   ]
  },
  {
   "cell_type": "markdown",
   "id": "d702bbdb",
   "metadata": {
    "papermill": {
     "duration": 0.028203,
     "end_time": "2023-05-09T02:40:34.274896",
     "exception": false,
     "start_time": "2023-05-09T02:40:34.246693",
     "status": "completed"
    },
    "tags": []
   },
   "source": [
    "# Dataset is ready for EDA and Preprocessing"
   ]
  },
  {
   "cell_type": "markdown",
   "id": "d84ee6e4",
   "metadata": {
    "papermill": {
     "duration": 0.027201,
     "end_time": "2023-05-09T02:40:34.329374",
     "exception": false,
     "start_time": "2023-05-09T02:40:34.302173",
     "status": "completed"
    },
    "tags": []
   },
   "source": [
    "# A drug named Lisinopril solution with DrugId 6873 is selected in building a classification model to determine side effects"
   ]
  },
  {
   "cell_type": "code",
   "execution_count": 16,
   "id": "68bee141",
   "metadata": {
    "execution": {
     "iopub.execute_input": "2023-05-09T02:40:34.384531Z",
     "iopub.status.busy": "2023-05-09T02:40:34.384121Z",
     "iopub.status.idle": "2023-05-09T02:40:34.392394Z",
     "shell.execute_reply": "2023-05-09T02:40:34.391255Z"
    },
    "papermill": {
     "duration": 0.038825,
     "end_time": "2023-05-09T02:40:34.394731",
     "exception": false,
     "start_time": "2023-05-09T02:40:34.355906",
     "status": "completed"
    },
    "tags": []
   },
   "outputs": [],
   "source": [
    "data2 = data1[data1.DrugId == 6873]"
   ]
  },
  {
   "cell_type": "markdown",
   "id": "636bf3fc",
   "metadata": {
    "papermill": {
     "duration": 0.026135,
     "end_time": "2023-05-09T02:40:34.447476",
     "exception": false,
     "start_time": "2023-05-09T02:40:34.421341",
     "status": "completed"
    },
    "tags": []
   },
   "source": [
    "# Missing Value Handling"
   ]
  },
  {
   "cell_type": "code",
   "execution_count": 17,
   "id": "84babd41",
   "metadata": {
    "execution": {
     "iopub.execute_input": "2023-05-09T02:40:34.502156Z",
     "iopub.status.busy": "2023-05-09T02:40:34.501717Z",
     "iopub.status.idle": "2023-05-09T02:40:34.523070Z",
     "shell.execute_reply": "2023-05-09T02:40:34.522006Z"
    },
    "papermill": {
     "duration": 0.050683,
     "end_time": "2023-05-09T02:40:34.525011",
     "exception": false,
     "start_time": "2023-05-09T02:40:34.474328",
     "status": "completed"
    },
    "tags": []
   },
   "outputs": [
    {
     "data": {
      "text/plain": [
       "Name             0\n",
       "Race             0\n",
       "Age              0\n",
       "Condition        0\n",
       "Date             0\n",
       "Drug             0\n",
       "DrugId           0\n",
       "EaseofUse        0\n",
       "Effectiveness    0\n",
       "Reviews          4\n",
       "Satisfaction     0\n",
       "Sex              0\n",
       "Sides            0\n",
       "UsefulCount      0\n",
       "dtype: int64"
      ]
     },
     "execution_count": 17,
     "metadata": {},
     "output_type": "execute_result"
    }
   ],
   "source": [
    "data2.isna().sum()"
   ]
  },
  {
   "cell_type": "code",
   "execution_count": 18,
   "id": "a5f5f5d5",
   "metadata": {
    "execution": {
     "iopub.execute_input": "2023-05-09T02:40:34.580735Z",
     "iopub.status.busy": "2023-05-09T02:40:34.580385Z",
     "iopub.status.idle": "2023-05-09T02:40:34.616523Z",
     "shell.execute_reply": "2023-05-09T02:40:34.615385Z"
    },
    "papermill": {
     "duration": 0.067065,
     "end_time": "2023-05-09T02:40:34.618669",
     "exception": false,
     "start_time": "2023-05-09T02:40:34.551604",
     "status": "completed"
    },
    "tags": []
   },
   "outputs": [
    {
     "name": "stderr",
     "output_type": "stream",
     "text": [
      "C:\\Users\\USER\\AppData\\Local\\Temp\\ipykernel_8268\\860313554.py:2: SettingWithCopyWarning: \n",
      "A value is trying to be set on a copy of a slice from a DataFrame\n",
      "\n",
      "See the caveats in the documentation: https://pandas.pydata.org/pandas-docs/stable/user_guide/indexing.html#returning-a-view-versus-a-copy\n",
      "  data2.dropna(axis = 0, inplace = True)\n"
     ]
    },
    {
     "data": {
      "text/plain": [
       "Name             0\n",
       "Race             0\n",
       "Age              0\n",
       "Condition        0\n",
       "Date             0\n",
       "Drug             0\n",
       "DrugId           0\n",
       "EaseofUse        0\n",
       "Effectiveness    0\n",
       "Reviews          0\n",
       "Satisfaction     0\n",
       "Sex              0\n",
       "Sides            0\n",
       "UsefulCount      0\n",
       "dtype: int64"
      ]
     },
     "execution_count": 18,
     "metadata": {},
     "output_type": "execute_result"
    }
   ],
   "source": [
    "# Nan rows were dropped\n",
    "data2.dropna(axis = 0, inplace = True)\n",
    "data2.isna().sum()"
   ]
  },
  {
   "cell_type": "code",
   "execution_count": 19,
   "id": "8ed31801",
   "metadata": {
    "execution": {
     "iopub.execute_input": "2023-05-09T02:40:34.673646Z",
     "iopub.status.busy": "2023-05-09T02:40:34.673147Z",
     "iopub.status.idle": "2023-05-09T02:40:34.714237Z",
     "shell.execute_reply": "2023-05-09T02:40:34.713138Z"
    },
    "papermill": {
     "duration": 0.071748,
     "end_time": "2023-05-09T02:40:34.716988",
     "exception": false,
     "start_time": "2023-05-09T02:40:34.645240",
     "status": "completed"
    },
    "tags": []
   },
   "outputs": [
    {
     "name": "stderr",
     "output_type": "stream",
     "text": [
      "C:\\Users\\USER\\AppData\\Local\\Temp\\ipykernel_8268\\240256320.py:3: SettingWithCopyWarning: \n",
      "A value is trying to be set on a copy of a slice from a DataFrame.\n",
      "Try using .loc[row_indexer,col_indexer] = value instead\n",
      "\n",
      "See the caveats in the documentation: https://pandas.pydata.org/pandas-docs/stable/user_guide/indexing.html#returning-a-view-versus-a-copy\n",
      "  data2[i]=np.where(data2[i]==\" \",np.NAN,data2[i])\n"
     ]
    },
    {
     "data": {
      "text/plain": [
       "Name                0\n",
       "Race                0\n",
       "Age               270\n",
       "Condition           0\n",
       "Date                0\n",
       "Drug                0\n",
       "DrugId              0\n",
       "EaseofUse           0\n",
       "Effectiveness       0\n",
       "Reviews          1562\n",
       "Satisfaction        0\n",
       "Sex               494\n",
       "Sides               0\n",
       "UsefulCount         0\n",
       "dtype: int64"
      ]
     },
     "execution_count": 19,
     "metadata": {},
     "output_type": "execute_result"
    }
   ],
   "source": [
    "# Handling instances with whitespaces\n",
    "for i in data2:\n",
    "    data2[i]=np.where(data2[i]==\" \",np.NAN,data2[i])\n",
    "    \n",
    "data2.isna().sum()"
   ]
  },
  {
   "cell_type": "code",
   "execution_count": 20,
   "id": "2badb58c",
   "metadata": {
    "execution": {
     "iopub.execute_input": "2023-05-09T02:40:34.774947Z",
     "iopub.status.busy": "2023-05-09T02:40:34.774191Z",
     "iopub.status.idle": "2023-05-09T02:40:34.808566Z",
     "shell.execute_reply": "2023-05-09T02:40:34.807120Z"
    },
    "papermill": {
     "duration": 0.065917,
     "end_time": "2023-05-09T02:40:34.810886",
     "exception": false,
     "start_time": "2023-05-09T02:40:34.744969",
     "status": "completed"
    },
    "tags": []
   },
   "outputs": [
    {
     "name": "stderr",
     "output_type": "stream",
     "text": [
      "C:\\Users\\USER\\AppData\\Local\\Temp\\ipykernel_8268\\3809571024.py:1: SettingWithCopyWarning: \n",
      "A value is trying to be set on a copy of a slice from a DataFrame\n",
      "\n",
      "See the caveats in the documentation: https://pandas.pydata.org/pandas-docs/stable/user_guide/indexing.html#returning-a-view-versus-a-copy\n",
      "  data2.dropna(axis=0, inplace = True)\n"
     ]
    },
    {
     "data": {
      "text/plain": [
       "Name             0\n",
       "Race             0\n",
       "Age              0\n",
       "Condition        0\n",
       "Date             0\n",
       "Drug             0\n",
       "DrugId           0\n",
       "EaseofUse        0\n",
       "Effectiveness    0\n",
       "Reviews          0\n",
       "Satisfaction     0\n",
       "Sex              0\n",
       "Sides            0\n",
       "UsefulCount      0\n",
       "dtype: int64"
      ]
     },
     "execution_count": 20,
     "metadata": {},
     "output_type": "execute_result"
    }
   ],
   "source": [
    "data2.dropna(axis=0, inplace = True)\n",
    "data2.isna().sum()"
   ]
  },
  {
   "cell_type": "code",
   "execution_count": 21,
   "id": "5dba2958",
   "metadata": {
    "execution": {
     "iopub.execute_input": "2023-05-09T02:40:34.869009Z",
     "iopub.status.busy": "2023-05-09T02:40:34.867927Z",
     "iopub.status.idle": "2023-05-09T02:40:34.903225Z",
     "shell.execute_reply": "2023-05-09T02:40:34.901833Z"
    },
    "papermill": {
     "duration": 0.067013,
     "end_time": "2023-05-09T02:40:34.905691",
     "exception": false,
     "start_time": "2023-05-09T02:40:34.838678",
     "status": "completed"
    },
    "tags": []
   },
   "outputs": [
    {
     "name": "stderr",
     "output_type": "stream",
     "text": [
      "C:\\Users\\USER\\AppData\\Local\\Temp\\ipykernel_8268\\3720796167.py:3: SettingWithCopyWarning: \n",
      "A value is trying to be set on a copy of a slice from a DataFrame.\n",
      "Try using .loc[row_indexer,col_indexer] = value instead\n",
      "\n",
      "See the caveats in the documentation: https://pandas.pydata.org/pandas-docs/stable/user_guide/indexing.html#returning-a-view-versus-a-copy\n",
      "  data2[i]=np.where(data2[i]==\"  \",np.NAN,data2[i])\n"
     ]
    },
    {
     "data": {
      "text/plain": [
       "Name             0\n",
       "Race             0\n",
       "Age              0\n",
       "Condition        0\n",
       "Date             0\n",
       "Drug             0\n",
       "DrugId           0\n",
       "EaseofUse        0\n",
       "Effectiveness    0\n",
       "Reviews          0\n",
       "Satisfaction     0\n",
       "Sex              0\n",
       "Sides            0\n",
       "UsefulCount      0\n",
       "dtype: int64"
      ]
     },
     "execution_count": 21,
     "metadata": {},
     "output_type": "execute_result"
    }
   ],
   "source": [
    "# Handling instances with double whitespaces\n",
    "for i in data2:\n",
    "    data2[i]=np.where(data2[i]==\"  \",np.NAN,data2[i])\n",
    "    \n",
    "data2.isna().sum()"
   ]
  },
  {
   "cell_type": "markdown",
   "id": "d56ec2ad",
   "metadata": {
    "papermill": {
     "duration": 0.026889,
     "end_time": "2023-05-09T02:40:34.960150",
     "exception": false,
     "start_time": "2023-05-09T02:40:34.933261",
     "status": "completed"
    },
    "tags": []
   },
   "source": [
    "# Checking each column values"
   ]
  },
  {
   "cell_type": "markdown",
   "id": "1c8ede4d",
   "metadata": {
    "papermill": {
     "duration": 0.027346,
     "end_time": "2023-05-09T02:40:35.014720",
     "exception": false,
     "start_time": "2023-05-09T02:40:34.987374",
     "status": "completed"
    },
    "tags": []
   },
   "source": [
    "## Sex"
   ]
  },
  {
   "cell_type": "code",
   "execution_count": 22,
   "id": "f9a1223e",
   "metadata": {
    "execution": {
     "iopub.execute_input": "2023-05-09T02:40:35.072186Z",
     "iopub.status.busy": "2023-05-09T02:40:35.071745Z",
     "iopub.status.idle": "2023-05-09T02:40:35.081191Z",
     "shell.execute_reply": "2023-05-09T02:40:35.080192Z"
    },
    "papermill": {
     "duration": 0.041531,
     "end_time": "2023-05-09T02:40:35.083353",
     "exception": false,
     "start_time": "2023-05-09T02:40:35.041822",
     "status": "completed"
    },
    "tags": []
   },
   "outputs": [
    {
     "data": {
      "text/plain": [
       "Female    4060\n",
       "Male      2466\n",
       "Name: Sex, dtype: int64"
      ]
     },
     "execution_count": 22,
     "metadata": {},
     "output_type": "execute_result"
    }
   ],
   "source": [
    "data2.Sex.value_counts()"
   ]
  },
  {
   "cell_type": "markdown",
   "id": "3fdd87f7",
   "metadata": {
    "papermill": {
     "duration": 0.0273,
     "end_time": "2023-05-09T02:40:35.137684",
     "exception": false,
     "start_time": "2023-05-09T02:40:35.110384",
     "status": "completed"
    },
    "tags": []
   },
   "source": [
    "## Age"
   ]
  },
  {
   "cell_type": "code",
   "execution_count": 23,
   "id": "412b4944",
   "metadata": {
    "execution": {
     "iopub.execute_input": "2023-05-09T02:40:35.197061Z",
     "iopub.status.busy": "2023-05-09T02:40:35.196675Z",
     "iopub.status.idle": "2023-05-09T02:40:35.205126Z",
     "shell.execute_reply": "2023-05-09T02:40:35.204025Z"
    },
    "papermill": {
     "duration": 0.038814,
     "end_time": "2023-05-09T02:40:35.207124",
     "exception": false,
     "start_time": "2023-05-09T02:40:35.168310",
     "status": "completed"
    },
    "tags": []
   },
   "outputs": [
    {
     "data": {
      "text/plain": [
       "55-64         1912\n",
       "45-54         1760\n",
       "65-74         1148\n",
       "35-44          858\n",
       "75 or over     490\n",
       "25-34          306\n",
       "19-24           44\n",
       "13-18            6\n",
       "0-2              2\n",
       "Name: Age, dtype: int64"
      ]
     },
     "execution_count": 23,
     "metadata": {},
     "output_type": "execute_result"
    }
   ],
   "source": [
    "data2.Age.value_counts()"
   ]
  },
  {
   "cell_type": "markdown",
   "id": "245f1bcd",
   "metadata": {
    "papermill": {
     "duration": 0.026704,
     "end_time": "2023-05-09T02:40:35.260861",
     "exception": false,
     "start_time": "2023-05-09T02:40:35.234157",
     "status": "completed"
    },
    "tags": []
   },
   "source": [
    "## Date"
   ]
  },
  {
   "cell_type": "code",
   "execution_count": 24,
   "id": "d4c62328",
   "metadata": {
    "execution": {
     "iopub.execute_input": "2023-05-09T02:40:35.317137Z",
     "iopub.status.busy": "2023-05-09T02:40:35.316114Z",
     "iopub.status.idle": "2023-05-09T02:40:35.340520Z",
     "shell.execute_reply": "2023-05-09T02:40:35.339399Z"
    },
    "papermill": {
     "duration": 0.055017,
     "end_time": "2023-05-09T02:40:35.342979",
     "exception": false,
     "start_time": "2023-05-09T02:40:35.287962",
     "status": "completed"
    },
    "tags": []
   },
   "outputs": [
    {
     "name": "stderr",
     "output_type": "stream",
     "text": [
      "C:\\Users\\USER\\AppData\\Local\\Temp\\ipykernel_8268\\594376795.py:1: SettingWithCopyWarning: \n",
      "A value is trying to be set on a copy of a slice from a DataFrame.\n",
      "Try using .loc[row_indexer,col_indexer] = value instead\n",
      "\n",
      "See the caveats in the documentation: https://pandas.pydata.org/pandas-docs/stable/user_guide/indexing.html#returning-a-view-versus-a-copy\n",
      "  data2['Year'] = pd.to_datetime(data2['Date'], errors='coerce').dt.year\n",
      "C:\\Users\\USER\\AppData\\Local\\Temp\\ipykernel_8268\\594376795.py:2: SettingWithCopyWarning: \n",
      "A value is trying to be set on a copy of a slice from a DataFrame.\n",
      "Try using .loc[row_indexer,col_indexer] = value instead\n",
      "\n",
      "See the caveats in the documentation: https://pandas.pydata.org/pandas-docs/stable/user_guide/indexing.html#returning-a-view-versus-a-copy\n",
      "  data2['Month'] = pd.to_datetime(data2['Date'], errors='coerce').dt.month\n",
      "C:\\Users\\USER\\AppData\\Local\\Temp\\ipykernel_8268\\594376795.py:3: SettingWithCopyWarning: \n",
      "A value is trying to be set on a copy of a slice from a DataFrame.\n",
      "Try using .loc[row_indexer,col_indexer] = value instead\n",
      "\n",
      "See the caveats in the documentation: https://pandas.pydata.org/pandas-docs/stable/user_guide/indexing.html#returning-a-view-versus-a-copy\n",
      "  data2['day_of_week'] = pd.to_datetime(data2['Date'], errors='coerce').dt.day_name()\n"
     ]
    }
   ],
   "source": [
    "data2['Year'] = pd.to_datetime(data2['Date'], errors='coerce').dt.year\n",
    "data2['Month'] = pd.to_datetime(data2['Date'], errors='coerce').dt.month\n",
    "data2['day_of_week'] = pd.to_datetime(data2['Date'], errors='coerce').dt.day_name()"
   ]
  },
  {
   "cell_type": "code",
   "execution_count": 25,
   "id": "7ef97666",
   "metadata": {
    "execution": {
     "iopub.execute_input": "2023-05-09T02:40:35.399939Z",
     "iopub.status.busy": "2023-05-09T02:40:35.399392Z",
     "iopub.status.idle": "2023-05-09T02:40:35.420575Z",
     "shell.execute_reply": "2023-05-09T02:40:35.419432Z"
    },
    "papermill": {
     "duration": 0.052575,
     "end_time": "2023-05-09T02:40:35.422955",
     "exception": false,
     "start_time": "2023-05-09T02:40:35.370380",
     "status": "completed"
    },
    "tags": []
   },
   "outputs": [
    {
     "data": {
      "text/html": [
       "<div>\n",
       "<style scoped>\n",
       "    .dataframe tbody tr th:only-of-type {\n",
       "        vertical-align: middle;\n",
       "    }\n",
       "\n",
       "    .dataframe tbody tr th {\n",
       "        vertical-align: top;\n",
       "    }\n",
       "\n",
       "    .dataframe thead th {\n",
       "        text-align: right;\n",
       "    }\n",
       "</style>\n",
       "<table border=\"1\" class=\"dataframe\">\n",
       "  <thead>\n",
       "    <tr style=\"text-align: right;\">\n",
       "      <th></th>\n",
       "      <th>Name</th>\n",
       "      <th>Race</th>\n",
       "      <th>Age</th>\n",
       "      <th>Condition</th>\n",
       "      <th>Date</th>\n",
       "      <th>Drug</th>\n",
       "      <th>DrugId</th>\n",
       "      <th>EaseofUse</th>\n",
       "      <th>Effectiveness</th>\n",
       "      <th>Reviews</th>\n",
       "      <th>Satisfaction</th>\n",
       "      <th>Sex</th>\n",
       "      <th>Sides</th>\n",
       "      <th>UsefulCount</th>\n",
       "      <th>Year</th>\n",
       "      <th>Month</th>\n",
       "      <th>day_of_week</th>\n",
       "    </tr>\n",
       "  </thead>\n",
       "  <tbody>\n",
       "    <tr>\n",
       "      <th>9203</th>\n",
       "      <td>Zane</td>\n",
       "      <td>White</td>\n",
       "      <td>75 or over</td>\n",
       "      <td>High Blood Pressure</td>\n",
       "      <td>2/8/2020</td>\n",
       "      <td>lisinopril solution</td>\n",
       "      <td>6873.0</td>\n",
       "      <td>5.0</td>\n",
       "      <td>4.0</td>\n",
       "      <td>I have developed a very itch rash on my body f...</td>\n",
       "      <td>4.0</td>\n",
       "      <td>Female</td>\n",
       "      <td>Dizziness ,  lightheadedness , tiredness, or  ...</td>\n",
       "      <td>3.0</td>\n",
       "      <td>2020</td>\n",
       "      <td>2</td>\n",
       "      <td>Saturday</td>\n",
       "    </tr>\n",
       "    <tr>\n",
       "      <th>9209</th>\n",
       "      <td>Rico</td>\n",
       "      <td>Hispanic</td>\n",
       "      <td>55-64</td>\n",
       "      <td>High Blood Pressure</td>\n",
       "      <td>1/14/2020</td>\n",
       "      <td>lisinopril solution</td>\n",
       "      <td>6873.0</td>\n",
       "      <td>4.0</td>\n",
       "      <td>5.0</td>\n",
       "      <td>tried alternative medicine Beet root, hibiscus...</td>\n",
       "      <td>4.0</td>\n",
       "      <td>Male</td>\n",
       "      <td>Dizziness ,  lightheadedness , tiredness, or  ...</td>\n",
       "      <td>3.0</td>\n",
       "      <td>2020</td>\n",
       "      <td>1</td>\n",
       "      <td>Tuesday</td>\n",
       "    </tr>\n",
       "    <tr>\n",
       "      <th>9215</th>\n",
       "      <td>Chuck</td>\n",
       "      <td>White</td>\n",
       "      <td>65-74</td>\n",
       "      <td>High Blood Pressure</td>\n",
       "      <td>10/17/2019</td>\n",
       "      <td>lisinopril solution</td>\n",
       "      <td>6873.0</td>\n",
       "      <td>5.0</td>\n",
       "      <td>5.0</td>\n",
       "      <td>Have been taking 10 mg doses per day for over ...</td>\n",
       "      <td>5.0</td>\n",
       "      <td>Male</td>\n",
       "      <td>Dizziness ,  lightheadedness , tiredness, or  ...</td>\n",
       "      <td>6.0</td>\n",
       "      <td>2019</td>\n",
       "      <td>10</td>\n",
       "      <td>Thursday</td>\n",
       "    </tr>\n",
       "    <tr>\n",
       "      <th>9221</th>\n",
       "      <td>Stefan</td>\n",
       "      <td>White</td>\n",
       "      <td>55-64</td>\n",
       "      <td>High Blood Pressure</td>\n",
       "      <td>10/13/2019</td>\n",
       "      <td>lisinopril solution</td>\n",
       "      <td>6873.0</td>\n",
       "      <td>2.0</td>\n",
       "      <td>4.0</td>\n",
       "      <td>I don't like that I'm taking this and not know...</td>\n",
       "      <td>2.0</td>\n",
       "      <td>Male</td>\n",
       "      <td>Dizziness ,  lightheadedness , tiredness, or  ...</td>\n",
       "      <td>12.0</td>\n",
       "      <td>2019</td>\n",
       "      <td>10</td>\n",
       "      <td>Sunday</td>\n",
       "    </tr>\n",
       "    <tr>\n",
       "      <th>9227</th>\n",
       "      <td>Delta</td>\n",
       "      <td>White</td>\n",
       "      <td>55-64</td>\n",
       "      <td>High Blood Pressure</td>\n",
       "      <td>8/16/2019</td>\n",
       "      <td>lisinopril solution</td>\n",
       "      <td>6873.0</td>\n",
       "      <td>3.0</td>\n",
       "      <td>1.0</td>\n",
       "      <td>Was on this medicine for about 2 months and ha...</td>\n",
       "      <td>1.0</td>\n",
       "      <td>Female</td>\n",
       "      <td>Dizziness ,  lightheadedness , tiredness, or  ...</td>\n",
       "      <td>22.0</td>\n",
       "      <td>2019</td>\n",
       "      <td>8</td>\n",
       "      <td>Friday</td>\n",
       "    </tr>\n",
       "  </tbody>\n",
       "</table>\n",
       "</div>"
      ],
      "text/plain": [
       "        Name      Race         Age            Condition        Date  \\\n",
       "9203    Zane     White  75 or over  High Blood Pressure    2/8/2020   \n",
       "9209    Rico  Hispanic       55-64  High Blood Pressure   1/14/2020   \n",
       "9215   Chuck     White       65-74  High Blood Pressure  10/17/2019   \n",
       "9221  Stefan     White       55-64  High Blood Pressure  10/13/2019   \n",
       "9227   Delta     White       55-64  High Blood Pressure   8/16/2019   \n",
       "\n",
       "                     Drug  DrugId  EaseofUse  Effectiveness  \\\n",
       "9203  lisinopril solution  6873.0        5.0            4.0   \n",
       "9209  lisinopril solution  6873.0        4.0            5.0   \n",
       "9215  lisinopril solution  6873.0        5.0            5.0   \n",
       "9221  lisinopril solution  6873.0        2.0            4.0   \n",
       "9227  lisinopril solution  6873.0        3.0            1.0   \n",
       "\n",
       "                                                Reviews  Satisfaction     Sex  \\\n",
       "9203  I have developed a very itch rash on my body f...           4.0  Female   \n",
       "9209  tried alternative medicine Beet root, hibiscus...           4.0    Male   \n",
       "9215  Have been taking 10 mg doses per day for over ...           5.0    Male   \n",
       "9221  I don't like that I'm taking this and not know...           2.0    Male   \n",
       "9227  Was on this medicine for about 2 months and ha...           1.0  Female   \n",
       "\n",
       "                                                  Sides  UsefulCount  Year  \\\n",
       "9203  Dizziness ,  lightheadedness , tiredness, or  ...          3.0  2020   \n",
       "9209  Dizziness ,  lightheadedness , tiredness, or  ...          3.0  2020   \n",
       "9215  Dizziness ,  lightheadedness , tiredness, or  ...          6.0  2019   \n",
       "9221  Dizziness ,  lightheadedness , tiredness, or  ...         12.0  2019   \n",
       "9227  Dizziness ,  lightheadedness , tiredness, or  ...         22.0  2019   \n",
       "\n",
       "      Month day_of_week  \n",
       "9203      2    Saturday  \n",
       "9209      1     Tuesday  \n",
       "9215     10    Thursday  \n",
       "9221     10      Sunday  \n",
       "9227      8      Friday  "
      ]
     },
     "execution_count": 25,
     "metadata": {},
     "output_type": "execute_result"
    }
   ],
   "source": [
    "data2.head(5)"
   ]
  },
  {
   "cell_type": "markdown",
   "id": "48d20906",
   "metadata": {
    "papermill": {
     "duration": 0.026998,
     "end_time": "2023-05-09T02:40:35.477658",
     "exception": false,
     "start_time": "2023-05-09T02:40:35.450660",
     "status": "completed"
    },
    "tags": []
   },
   "source": [
    "## Year, Month and Day of week column generated"
   ]
  },
  {
   "cell_type": "markdown",
   "id": "ccaa2bd1",
   "metadata": {
    "papermill": {
     "duration": 0.027987,
     "end_time": "2023-05-09T02:40:35.533113",
     "exception": false,
     "start_time": "2023-05-09T02:40:35.505126",
     "status": "completed"
    },
    "tags": []
   },
   "source": [
    "## Useful Count "
   ]
  },
  {
   "cell_type": "code",
   "execution_count": 26,
   "id": "ce95ae7a",
   "metadata": {
    "execution": {
     "iopub.execute_input": "2023-05-09T02:40:35.591593Z",
     "iopub.status.busy": "2023-05-09T02:40:35.590652Z",
     "iopub.status.idle": "2023-05-09T02:40:36.008001Z",
     "shell.execute_reply": "2023-05-09T02:40:36.006857Z"
    },
    "papermill": {
     "duration": 0.449084,
     "end_time": "2023-05-09T02:40:36.010640",
     "exception": false,
     "start_time": "2023-05-09T02:40:35.561556",
     "status": "completed"
    },
    "tags": []
   },
   "outputs": [
    {
     "data": {
      "text/plain": [
       "5.09650737167029"
      ]
     },
     "execution_count": 26,
     "metadata": {},
     "output_type": "execute_result"
    },
    {
     "data": {
      "image/png": "[encoded data removed]",
      "text/plain": [
       "<Figure size 1000x600 with 2 Axes>"
      ]
     },
     "metadata": {},
     "output_type": "display_data"
    }
   ],
   "source": [
    "plt.figure(figsize=(10,6))\n",
    "\n",
    "plt.subplot(2,2,1)\n",
    "plt.boxplot(data2[\"UsefulCount\"])\n",
    "plt.title(\" Box Plot\")\n",
    "\n",
    "plt.subplot(2,2,2)\n",
    "plt.hist(data2[\"UsefulCount\"])\n",
    "plt.title(\" Histogram\")\n",
    "data2.UsefulCount.skew()"
   ]
  },
  {
   "cell_type": "code",
   "execution_count": 27,
   "id": "51d98c0e",
   "metadata": {
    "execution": {
     "iopub.execute_input": "2023-05-09T02:40:36.069265Z",
     "iopub.status.busy": "2023-05-09T02:40:36.068750Z",
     "iopub.status.idle": "2023-05-09T02:40:36.462558Z",
     "shell.execute_reply": "2023-05-09T02:40:36.461746Z"
    },
    "papermill": {
     "duration": 0.425535,
     "end_time": "2023-05-09T02:40:36.464529",
     "exception": false,
     "start_time": "2023-05-09T02:40:36.038994",
     "status": "completed"
    },
    "tags": []
   },
   "outputs": [
    {
     "name": "stderr",
     "output_type": "stream",
     "text": [
      "C:\\Users\\USER\\AppData\\Local\\Temp\\ipykernel_8268\\1468842533.py:18: SettingWithCopyWarning: \n",
      "A value is trying to be set on a copy of a slice from a DataFrame.\n",
      "Try using .loc[row_indexer,col_indexer] = value instead\n",
      "\n",
      "See the caveats in the documentation: https://pandas.pydata.org/pandas-docs/stable/user_guide/indexing.html#returning-a-view-versus-a-copy\n",
      "  data2['UsefulCount_boxcox'] = data_Usefulcount1\n"
     ]
    },
    {
     "data": {
      "text/plain": [
       "0.13539917023288633"
      ]
     },
     "execution_count": 27,
     "metadata": {},
     "output_type": "execute_result"
    },
    {
     "data": {
      "image/png": "[encoded data removed]",
      "text/plain": [
       "<Figure size 1000x600 with 2 Axes>"
      ]
     },
     "metadata": {},
     "output_type": "display_data"
    }
   ],
   "source": [
    "data_Usefulcount = pd.DataFrame(data2['UsefulCount'])\n",
    "\n",
    "scaler = MinMaxScaler(feature_range=(1, 2))\n",
    "power = PowerTransformer(method='box-cox')\n",
    "pipeline = Pipeline(steps=[('s', scaler),('p', power)])\n",
    "data_Usefulcount1 = pipeline.fit_transform(data_Usefulcount)\n",
    "\n",
    "plt.figure(figsize=(10,6))\n",
    "\n",
    "plt.subplot(2,2,1)\n",
    "plt.boxplot(data_Usefulcount1)\n",
    "plt.title(\" Box Plot\")\n",
    "\n",
    "plt.subplot(2,2,2)\n",
    "plt.hist(data_Usefulcount1)\n",
    "plt.title(\" Histogram\")\n",
    "\n",
    "data2['UsefulCount_boxcox'] = data_Usefulcount1\n",
    "data2['UsefulCount_boxcox'].skew()"
   ]
  },
  {
   "cell_type": "markdown",
   "id": "eb8d2ab1",
   "metadata": {
    "papermill": {
     "duration": 0.029109,
     "end_time": "2023-05-09T02:40:36.523121",
     "exception": false,
     "start_time": "2023-05-09T02:40:36.494012",
     "status": "completed"
    },
    "tags": []
   },
   "source": [
    "## EaseofUse"
   ]
  },
  {
   "cell_type": "code",
   "execution_count": 28,
   "id": "8e0aa08c",
   "metadata": {
    "execution": {
     "iopub.execute_input": "2023-05-09T02:40:36.583246Z",
     "iopub.status.busy": "2023-05-09T02:40:36.582279Z",
     "iopub.status.idle": "2023-05-09T02:40:36.945954Z",
     "shell.execute_reply": "2023-05-09T02:40:36.944831Z"
    },
    "papermill": {
     "duration": 0.396558,
     "end_time": "2023-05-09T02:40:36.948218",
     "exception": false,
     "start_time": "2023-05-09T02:40:36.551660",
     "status": "completed"
    },
    "tags": []
   },
   "outputs": [
    {
     "data": {
      "text/plain": [
       "-1.0956719032464681"
      ]
     },
     "execution_count": 28,
     "metadata": {},
     "output_type": "execute_result"
    },
    {
     "data": {
      "image/png": "[encoded data removed]",
      "text/plain": [
       "<Figure size 1000x600 with 2 Axes>"
      ]
     },
     "metadata": {},
     "output_type": "display_data"
    }
   ],
   "source": [
    "plt.figure(figsize=(10,6))\n",
    "\n",
    "plt.subplot(2,2,1)\n",
    "plt.boxplot(data2[\"EaseofUse\"])\n",
    "plt.title(\" Box Plot\")\n",
    "\n",
    "plt.subplot(2,2,2)\n",
    "plt.hist(data2[\"EaseofUse\"])\n",
    "plt.title(\" Histogram\")\n",
    "data2.EaseofUse.skew()"
   ]
  },
  {
   "cell_type": "code",
   "execution_count": 29,
   "id": "871bfc99",
   "metadata": {
    "execution": {
     "iopub.execute_input": "2023-05-09T02:40:37.010092Z",
     "iopub.status.busy": "2023-05-09T02:40:37.009651Z",
     "iopub.status.idle": "2023-05-09T02:40:37.413601Z",
     "shell.execute_reply": "2023-05-09T02:40:37.412348Z"
    },
    "papermill": {
     "duration": 0.437203,
     "end_time": "2023-05-09T02:40:37.415886",
     "exception": false,
     "start_time": "2023-05-09T02:40:36.978683",
     "status": "completed"
    },
    "tags": []
   },
   "outputs": [
    {
     "name": "stderr",
     "output_type": "stream",
     "text": [
      "C:\\Users\\USER\\AppData\\Local\\Temp\\ipykernel_8268\\2512393956.py:18: SettingWithCopyWarning: \n",
      "A value is trying to be set on a copy of a slice from a DataFrame.\n",
      "Try using .loc[row_indexer,col_indexer] = value instead\n",
      "\n",
      "See the caveats in the documentation: https://pandas.pydata.org/pandas-docs/stable/user_guide/indexing.html#returning-a-view-versus-a-copy\n",
      "  data2['EaseofUse_boxcox'] = data_EaseofUse1\n"
     ]
    },
    {
     "data": {
      "text/plain": [
       "-0.4695297334699221"
      ]
     },
     "execution_count": 29,
     "metadata": {},
     "output_type": "execute_result"
    },
    {
     "data": {
      "image/png": "[encoded data removed]",
      "text/plain": [
       "<Figure size 1000x600 with 2 Axes>"
      ]
     },
     "metadata": {},
     "output_type": "display_data"
    }
   ],
   "source": [
    "scaler = MinMaxScaler(feature_range=(1, 2))\n",
    "power = PowerTransformer(method='box-cox')\n",
    "pipeline = Pipeline(steps=[('s', scaler),('p', power)])\n",
    "\n",
    "data_EaseofUse = pd.DataFrame(data2['EaseofUse'])\n",
    "data_EaseofUse1 = pipeline.fit_transform(data_EaseofUse)\n",
    "\n",
    "plt.figure(figsize=(10,6))\n",
    "\n",
    "plt.subplot(2,2,1)\n",
    "plt.boxplot(data_EaseofUse1)\n",
    "plt.title(\" Box Plot\")\n",
    "\n",
    "plt.subplot(2,2,2)\n",
    "plt.hist(data_EaseofUse1)\n",
    "plt.title(\" Histogram\")\n",
    "\n",
    "data2['EaseofUse_boxcox'] = data_EaseofUse1\n",
    "data2.EaseofUse_boxcox.skew()"
   ]
  },
  {
   "cell_type": "markdown",
   "id": "08b3d1db",
   "metadata": {
    "papermill": {
     "duration": 0.0292,
     "end_time": "2023-05-09T02:40:37.474950",
     "exception": false,
     "start_time": "2023-05-09T02:40:37.445750",
     "status": "completed"
    },
    "tags": []
   },
   "source": [
    "## Satisfaction column"
   ]
  },
  {
   "cell_type": "code",
   "execution_count": 30,
   "id": "fdab1bd4",
   "metadata": {
    "execution": {
     "iopub.execute_input": "2023-05-09T02:40:37.537166Z",
     "iopub.status.busy": "2023-05-09T02:40:37.536417Z",
     "iopub.status.idle": "2023-05-09T02:40:37.900259Z",
     "shell.execute_reply": "2023-05-09T02:40:37.899090Z"
    },
    "papermill": {
     "duration": 0.398,
     "end_time": "2023-05-09T02:40:37.902753",
     "exception": false,
     "start_time": "2023-05-09T02:40:37.504753",
     "status": "completed"
    },
    "tags": []
   },
   "outputs": [
    {
     "data": {
      "text/plain": [
       "0.46899147382396195"
      ]
     },
     "execution_count": 30,
     "metadata": {},
     "output_type": "execute_result"
    },
    {
     "data": {
      "image/png": "[encoded data removed]",
      "text/plain": [
       "<Figure size 1000x600 with 2 Axes>"
      ]
     },
     "metadata": {},
     "output_type": "display_data"
    }
   ],
   "source": [
    "plt.figure(figsize=(10,6))\n",
    "\n",
    "plt.subplot(2,2,1)\n",
    "plt.boxplot(data2[\"Satisfaction\"])\n",
    "plt.title(\" Box Plot\")\n",
    "\n",
    "plt.subplot(2,2,2)\n",
    "plt.hist(data2[\"Satisfaction\"])\n",
    "plt.title(\" Histogram\")\n",
    "data2.Satisfaction.skew()"
   ]
  },
  {
   "cell_type": "markdown",
   "id": "1a34987a",
   "metadata": {
    "papermill": {
     "duration": 0.029463,
     "end_time": "2023-05-09T02:40:37.962058",
     "exception": false,
     "start_time": "2023-05-09T02:40:37.932595",
     "status": "completed"
    },
    "tags": []
   },
   "source": [
    "## Effectiveness"
   ]
  },
  {
   "cell_type": "code",
   "execution_count": 31,
   "id": "1a7315c2",
   "metadata": {
    "execution": {
     "iopub.execute_input": "2023-05-09T02:40:38.024026Z",
     "iopub.status.busy": "2023-05-09T02:40:38.023108Z",
     "iopub.status.idle": "2023-05-09T02:40:38.388842Z",
     "shell.execute_reply": "2023-05-09T02:40:38.387801Z"
    },
    "papermill": {
     "duration": 0.399337,
     "end_time": "2023-05-09T02:40:38.391239",
     "exception": false,
     "start_time": "2023-05-09T02:40:37.991902",
     "status": "completed"
    },
    "tags": []
   },
   "outputs": [
    {
     "data": {
      "text/plain": [
       "-0.35269982353771245"
      ]
     },
     "execution_count": 31,
     "metadata": {},
     "output_type": "execute_result"
    },
    {
     "data": {
      "image/png": "[encoded data removed]",
      "text/plain": [
       "<Figure size 1000x600 with 2 Axes>"
      ]
     },
     "metadata": {},
     "output_type": "display_data"
    }
   ],
   "source": [
    "plt.figure(figsize=(10,6))\n",
    "\n",
    "plt.subplot(2,2,1)\n",
    "plt.boxplot(data2[\"Effectiveness\"])\n",
    "plt.title(\" Box Plot\")\n",
    "\n",
    "plt.subplot(2,2,2)\n",
    "plt.hist(data2[\"Effectiveness\"])\n",
    "plt.title(\" Histogram\")\n",
    "data2.Effectiveness.skew()"
   ]
  },
  {
   "cell_type": "markdown",
   "id": "37b58c07",
   "metadata": {
    "papermill": {
     "duration": 0.031602,
     "end_time": "2023-05-09T02:40:38.454162",
     "exception": false,
     "start_time": "2023-05-09T02:40:38.422560",
     "status": "completed"
    },
    "tags": []
   },
   "source": [
    "### After checking the skewness and outliers, Usefulcount, easeofuse, effectiveness and satisfaction column has been processed"
   ]
  },
  {
   "cell_type": "markdown",
   "id": "a4e7dff2",
   "metadata": {
    "papermill": {
     "duration": 0.030194,
     "end_time": "2023-05-09T02:40:38.514854",
     "exception": false,
     "start_time": "2023-05-09T02:40:38.484660",
     "status": "completed"
    },
    "tags": []
   },
   "source": [
    "# New Feature creation: Sideeffect"
   ]
  },
  {
   "cell_type": "code",
   "execution_count": 32,
   "id": "662440ea",
   "metadata": {
    "execution": {
     "iopub.execute_input": "2023-05-09T02:40:38.577842Z",
     "iopub.status.busy": "2023-05-09T02:40:38.577462Z",
     "iopub.status.idle": "2023-05-09T02:40:38.585638Z",
     "shell.execute_reply": "2023-05-09T02:40:38.584560Z"
    },
    "papermill": {
     "duration": 0.042466,
     "end_time": "2023-05-09T02:40:38.588024",
     "exception": false,
     "start_time": "2023-05-09T02:40:38.545558",
     "status": "completed"
    },
    "tags": []
   },
   "outputs": [
    {
     "name": "stderr",
     "output_type": "stream",
     "text": [
      "C:\\Users\\USER\\AppData\\Local\\Temp\\ipykernel_8268\\1386514440.py:2: SettingWithCopyWarning: \n",
      "A value is trying to be set on a copy of a slice from a DataFrame.\n",
      "Try using .loc[row_indexer,col_indexer] = value instead\n",
      "\n",
      "See the caveats in the documentation: https://pandas.pydata.org/pandas-docs/stable/user_guide/indexing.html#returning-a-view-versus-a-copy\n",
      "  data2['Sideeffect'] = data2['Satisfaction'].map(mapping)\n"
     ]
    }
   ],
   "source": [
    "mapping = {1: 5, 2: 4, 3: 3, 4: 2, 5: 1}\n",
    "data2['Sideeffect'] = data2['Satisfaction'].map(mapping)\n",
    "# data2.loc[data2['Satisfaction'] == 1, 'Sideeffect'] = data2.loc[data2['Satisfaction'] == 1,5, 'Sideeffect']"
   ]
  },
  {
   "cell_type": "code",
   "execution_count": 33,
   "id": "61a784ee",
   "metadata": {
    "execution": {
     "iopub.execute_input": "2023-05-09T02:40:38.651703Z",
     "iopub.status.busy": "2023-05-09T02:40:38.651103Z",
     "iopub.status.idle": "2023-05-09T02:40:38.657691Z",
     "shell.execute_reply": "2023-05-09T02:40:38.656762Z"
    },
    "papermill": {
     "duration": 0.04027,
     "end_time": "2023-05-09T02:40:38.659638",
     "exception": false,
     "start_time": "2023-05-09T02:40:38.619368",
     "status": "completed"
    },
    "tags": []
   },
   "outputs": [
    {
     "data": {
      "text/plain": [
       "Index(['Name', 'Race', 'Age', 'Condition', 'Date', 'Drug', 'DrugId',\n",
       "       'EaseofUse', 'Effectiveness', 'Reviews', 'Satisfaction', 'Sex', 'Sides',\n",
       "       'UsefulCount', 'Year', 'Month', 'day_of_week', 'UsefulCount_boxcox',\n",
       "       'EaseofUse_boxcox', 'Sideeffect'],\n",
       "      dtype='object')"
      ]
     },
     "execution_count": 33,
     "metadata": {},
     "output_type": "execute_result"
    }
   ],
   "source": [
    "data2.columns"
   ]
  },
  {
   "cell_type": "markdown",
   "id": "1c734cf6",
   "metadata": {
    "papermill": {
     "duration": 0.030322,
     "end_time": "2023-05-09T02:40:38.720484",
     "exception": false,
     "start_time": "2023-05-09T02:40:38.690162",
     "status": "completed"
    },
    "tags": []
   },
   "source": [
    "# Exploratory Data Analysis"
   ]
  },
  {
   "cell_type": "markdown",
   "id": "29d42d05",
   "metadata": {
    "papermill": {
     "duration": 0.030201,
     "end_time": "2023-05-09T02:40:38.780864",
     "exception": false,
     "start_time": "2023-05-09T02:40:38.750663",
     "status": "completed"
    },
    "tags": []
   },
   "source": [
    "## Top 20 Drugs based on No. of Users"
   ]
  },
  {
   "cell_type": "code",
   "execution_count": 34,
   "id": "29929f8b",
   "metadata": {
    "execution": {
     "iopub.execute_input": "2023-05-09T02:40:38.843937Z",
     "iopub.status.busy": "2023-05-09T02:40:38.843329Z",
     "iopub.status.idle": "2023-05-09T02:40:39.235962Z",
     "shell.execute_reply": "2023-05-09T02:40:39.235203Z"
    },
    "papermill": {
     "duration": 0.426593,
     "end_time": "2023-05-09T02:40:39.237943",
     "exception": false,
     "start_time": "2023-05-09T02:40:38.811350",
     "status": "completed"
    },
    "tags": []
   },
   "outputs": [
    {
     "data": {
      "image/png": "[encoded data removed]",
      "text/plain": [
       "<Figure size 640x480 with 1 Axes>"
      ]
     },
     "metadata": {},
     "output_type": "display_data"
    }
   ],
   "source": [
    "data_= data['Drug'].value_counts().head(20).reset_index()\n",
    "data_.columns = ['Drug', 'Name']\n",
    "sns.barplot(data=data_, x = 'Drug', y = 'Name')\n",
    "plt.suptitle(\"Top 20 Drugs\")\n",
    "plt.xticks(rotation=90,fontsize=10)\n",
    "plt.show()"
   ]
  },
  {
   "cell_type": "markdown",
   "id": "8217825d",
   "metadata": {
    "papermill": {
     "duration": 0.031666,
     "end_time": "2023-05-09T02:40:39.301656",
     "exception": false,
     "start_time": "2023-05-09T02:40:39.269990",
     "status": "completed"
    },
    "tags": []
   },
   "source": [
    "#### Cymbalta tops the list followed by Lisinopril. It is to be noted that all the 20 drugs has been used by more than atleast 2000 people"
   ]
  },
  {
   "cell_type": "markdown",
   "id": "2d3f825d",
   "metadata": {
    "papermill": {
     "duration": 0.032733,
     "end_time": "2023-05-09T02:40:39.366139",
     "exception": false,
     "start_time": "2023-05-09T02:40:39.333406",
     "status": "completed"
    },
    "tags": []
   },
   "source": [
    "## Top 15 Conditions"
   ]
  },
  {
   "cell_type": "code",
   "execution_count": 35,
   "id": "e433ba87",
   "metadata": {
    "execution": {
     "iopub.execute_input": "2023-05-09T02:40:39.432851Z",
     "iopub.status.busy": "2023-05-09T02:40:39.431889Z",
     "iopub.status.idle": "2023-05-09T02:40:39.947518Z",
     "shell.execute_reply": "2023-05-09T02:40:39.946410Z"
    },
    "papermill": {
     "duration": 0.551777,
     "end_time": "2023-05-09T02:40:39.950139",
     "exception": false,
     "start_time": "2023-05-09T02:40:39.398362",
     "status": "completed"
    },
    "tags": []
   },
   "outputs": [
    {
     "data": {
      "text/plain": [
       "Text(0, 0.5, 'Users')"
      ]
     },
     "execution_count": 35,
     "metadata": {},
     "output_type": "execute_result"
    },
    {
     "data": {
      "image/png": "[encoded data removed]",
      "text/plain": [
       "<Figure size 800x800 with 1 Axes>"
      ]
     },
     "metadata": {},
     "output_type": "display_data"
    }
   ],
   "source": [
    "data['Condition'].value_counts().nlargest(20).plot(kind='bar',figsize=(8,8))\n",
    "plt.suptitle(\"Top 15 Conditions\")\n",
    "plt.xlabel('Conditions')\n",
    "plt.ylabel('Users')"
   ]
  },
  {
   "cell_type": "markdown",
   "id": "58cacbfc",
   "metadata": {
    "papermill": {
     "duration": 0.032313,
     "end_time": "2023-05-09T02:40:40.016155",
     "exception": false,
     "start_time": "2023-05-09T02:40:39.983842",
     "status": "completed"
    },
    "tags": []
   },
   "source": [
    "#### As much as 50,000 users have reported other conditions followed by Pain topped the list with more than 25000 people reporting it."
   ]
  },
  {
   "cell_type": "markdown",
   "id": "8df1f2b9",
   "metadata": {
    "papermill": {
     "duration": 0.032724,
     "end_time": "2023-05-09T02:40:40.081226",
     "exception": false,
     "start_time": "2023-05-09T02:40:40.048502",
     "status": "completed"
    },
    "tags": []
   },
   "source": [
    "# EDA on Licinopril"
   ]
  },
  {
   "cell_type": "markdown",
   "id": "d45d5cb2",
   "metadata": {
    "papermill": {
     "duration": 0.032574,
     "end_time": "2023-05-09T02:40:40.146374",
     "exception": false,
     "start_time": "2023-05-09T02:40:40.113800",
     "status": "completed"
    },
    "tags": []
   },
   "source": [
    "## Which gender is the predominant user?"
   ]
  },
  {
   "cell_type": "code",
   "execution_count": 36,
   "id": "a94d6823",
   "metadata": {
    "execution": {
     "iopub.execute_input": "2023-05-09T02:40:40.218599Z",
     "iopub.status.busy": "2023-05-09T02:40:40.218213Z",
     "iopub.status.idle": "2023-05-09T02:40:40.439072Z",
     "shell.execute_reply": "2023-05-09T02:40:40.438208Z"
    },
    "papermill": {
     "duration": 0.257883,
     "end_time": "2023-05-09T02:40:40.441607",
     "exception": false,
     "start_time": "2023-05-09T02:40:40.183724",
     "status": "completed"
    },
    "tags": []
   },
   "outputs": [
    {
     "data": {
      "image/png": "[encoded data removed]",
      "text/plain": [
       "<Figure size 400x400 with 1 Axes>"
      ]
     },
     "metadata": {},
     "output_type": "display_data"
    }
   ],
   "source": [
    "plt.figure(figsize = (4,4))\n",
    "s=sns.countplot(x='Sex', data=data2)\n",
    "plt.title('Users by Gender', fontsize=15)\n",
    "plt.xlabel('Sex')\n",
    "plt.ylabel('Count') \n",
    "plt.show()"
   ]
  },
  {
   "cell_type": "markdown",
   "id": "adab6214",
   "metadata": {
    "papermill": {
     "duration": 0.035051,
     "end_time": "2023-05-09T02:40:40.510526",
     "exception": false,
     "start_time": "2023-05-09T02:40:40.475475",
     "status": "completed"
    },
    "tags": []
   },
   "source": [
    "#### Female users are predominant"
   ]
  },
  {
   "cell_type": "markdown",
   "id": "ef1a09ee",
   "metadata": {
    "papermill": {
     "duration": 0.032785,
     "end_time": "2023-05-09T02:40:40.577161",
     "exception": false,
     "start_time": "2023-05-09T02:40:40.544376",
     "status": "completed"
    },
    "tags": []
   },
   "source": [
    "#### Which race is the predominant user?"
   ]
  },
  {
   "cell_type": "code",
   "execution_count": 37,
   "id": "44186f92",
   "metadata": {
    "execution": {
     "iopub.execute_input": "2023-05-09T02:40:40.644910Z",
     "iopub.status.busy": "2023-05-09T02:40:40.644310Z",
     "iopub.status.idle": "2023-05-09T02:40:40.920933Z",
     "shell.execute_reply": "2023-05-09T02:40:40.920099Z"
    },
    "papermill": {
     "duration": 0.312965,
     "end_time": "2023-05-09T02:40:40.922943",
     "exception": false,
     "start_time": "2023-05-09T02:40:40.609978",
     "status": "completed"
    },
    "tags": []
   },
   "outputs": [
    {
     "data": {
      "text/plain": [
       "Text(0, 0.5, 'Count')"
      ]
     },
     "execution_count": 37,
     "metadata": {},
     "output_type": "execute_result"
    },
    {
     "data": {
      "image/png": "[encoded data removed]",
      "text/plain": [
       "<Figure size 640x480 with 1 Axes>"
      ]
     },
     "metadata": {},
     "output_type": "display_data"
    }
   ],
   "source": [
    "data2['Race'].value_counts().plot(kind='bar')\n",
    "plt.title(\"Race\", fontsize = 10)\n",
    "plt.xlabel(\"Race\", fontsize = 10)\n",
    "plt.ylabel(\"Count\", fontsize = 10)"
   ]
  },
  {
   "cell_type": "markdown",
   "id": "5d3777d5",
   "metadata": {
    "papermill": {
     "duration": 0.033697,
     "end_time": "2023-05-09T02:40:40.990802",
     "exception": false,
     "start_time": "2023-05-09T02:40:40.957105",
     "status": "completed"
    },
    "tags": []
   },
   "source": [
    "#### In each race, which gender is the predominant user?"
   ]
  },
  {
   "cell_type": "code",
   "execution_count": 38,
   "id": "c6356bc8",
   "metadata": {
    "execution": {
     "iopub.execute_input": "2023-05-09T02:40:41.061275Z",
     "iopub.status.busy": "2023-05-09T02:40:41.060837Z",
     "iopub.status.idle": "2023-05-09T02:40:41.376548Z",
     "shell.execute_reply": "2023-05-09T02:40:41.375301Z"
    },
    "papermill": {
     "duration": 0.354134,
     "end_time": "2023-05-09T02:40:41.379106",
     "exception": false,
     "start_time": "2023-05-09T02:40:41.024972",
     "status": "completed"
    },
    "tags": []
   },
   "outputs": [
    {
     "data": {
      "text/plain": [
       "Text(0.5, 1.0, 'Users by Race and Gender')"
      ]
     },
     "execution_count": 38,
     "metadata": {},
     "output_type": "execute_result"
    },
    {
     "data": {
      "image/png": "[encoded data removed]",
      "text/plain": [
       "<Figure size 640x480 with 1 Axes>"
      ]
     },
     "metadata": {},
     "output_type": "display_data"
    }
   ],
   "source": [
    "sns.countplot(x='Race',hue='Sex',data=data2)\n",
    "plt.title(\"Users by Race and Gender\", fontsize = 10)"
   ]
  },
  {
   "cell_type": "markdown",
   "id": "9bacb2ba",
   "metadata": {
    "papermill": {
     "duration": 0.033816,
     "end_time": "2023-05-09T02:40:41.447596",
     "exception": false,
     "start_time": "2023-05-09T02:40:41.413780",
     "status": "completed"
    },
    "tags": []
   },
   "source": [
    "#### In each age group, which gender is the predominant user?"
   ]
  },
  {
   "cell_type": "code",
   "execution_count": 39,
   "id": "2aab4bf5",
   "metadata": {
    "execution": {
     "iopub.execute_input": "2023-05-09T02:40:41.521953Z",
     "iopub.status.busy": "2023-05-09T02:40:41.521575Z",
     "iopub.status.idle": "2023-05-09T02:40:41.904508Z",
     "shell.execute_reply": "2023-05-09T02:40:41.903249Z"
    },
    "papermill": {
     "duration": 0.422298,
     "end_time": "2023-05-09T02:40:41.906890",
     "exception": false,
     "start_time": "2023-05-09T02:40:41.484592",
     "status": "completed"
    },
    "tags": []
   },
   "outputs": [
    {
     "data": {
      "text/plain": [
       "Text(0.5, 1.0, 'Users by Age and Gender')"
      ]
     },
     "execution_count": 39,
     "metadata": {},
     "output_type": "execute_result"
    },
    {
     "data": {
      "image/png": "[encoded data removed]",
      "text/plain": [
       "<Figure size 1000x600 with 1 Axes>"
      ]
     },
     "metadata": {},
     "output_type": "display_data"
    }
   ],
   "source": [
    "plt.figure(figsize=(10, 6))\n",
    "sns.countplot(x='Age',hue='Sex',data=data2)\n",
    "plt.title(\"Users by Age and Gender\", fontsize = 10)"
   ]
  },
  {
   "cell_type": "markdown",
   "id": "9eb89a91",
   "metadata": {
    "papermill": {
     "duration": 0.034995,
     "end_time": "2023-05-09T02:40:41.977060",
     "exception": false,
     "start_time": "2023-05-09T02:40:41.942065",
     "status": "completed"
    },
    "tags": []
   },
   "source": [
    "#### In each year, how many reviews were collected?"
   ]
  },
  {
   "cell_type": "code",
   "execution_count": 40,
   "id": "ea7fda97",
   "metadata": {
    "execution": {
     "iopub.execute_input": "2023-05-09T02:40:42.048986Z",
     "iopub.status.busy": "2023-05-09T02:40:42.048574Z",
     "iopub.status.idle": "2023-05-09T02:40:42.393511Z",
     "shell.execute_reply": "2023-05-09T02:40:42.392265Z"
    },
    "papermill": {
     "duration": 0.384285,
     "end_time": "2023-05-09T02:40:42.396345",
     "exception": false,
     "start_time": "2023-05-09T02:40:42.012060",
     "status": "completed"
    },
    "tags": []
   },
   "outputs": [
    {
     "data": {
      "text/plain": [
       "Text(0, 0.5, 'Count of Reviews')"
      ]
     },
     "execution_count": 40,
     "metadata": {},
     "output_type": "execute_result"
    },
    {
     "data": {
      "image/png": "[encoded data removed]",
      "text/plain": [
       "<Figure size 640x480 with 1 Axes>"
      ]
     },
     "metadata": {},
     "output_type": "display_data"
    }
   ],
   "source": [
    "data2['Year'].value_counts().plot(kind='bar')\n",
    "plt.title(\"Year\", fontsize = 10)\n",
    "plt.xlabel(\"Year\", fontsize = 10)\n",
    "plt.ylabel(\"Count of Reviews\", fontsize = 10)"
   ]
  },
  {
   "cell_type": "markdown",
   "id": "32392500",
   "metadata": {
    "papermill": {
     "duration": 0.036428,
     "end_time": "2023-05-09T02:40:42.468088",
     "exception": false,
     "start_time": "2023-05-09T02:40:42.431660",
     "status": "completed"
    },
    "tags": []
   },
   "source": [
    "#### In each year, there is a gradual decrease in user reviews"
   ]
  },
  {
   "cell_type": "markdown",
   "id": "08bbba16",
   "metadata": {
    "papermill": {
     "duration": 0.035831,
     "end_time": "2023-05-09T02:40:42.539915",
     "exception": false,
     "start_time": "2023-05-09T02:40:42.504084",
     "status": "completed"
    },
    "tags": []
   },
   "source": [
    "#### how effective is the drug?"
   ]
  },
  {
   "cell_type": "code",
   "execution_count": 41,
   "id": "20f2db43",
   "metadata": {
    "execution": {
     "iopub.execute_input": "2023-05-09T02:40:42.614455Z",
     "iopub.status.busy": "2023-05-09T02:40:42.613533Z",
     "iopub.status.idle": "2023-05-09T02:40:42.891219Z",
     "shell.execute_reply": "2023-05-09T02:40:42.890103Z"
    },
    "papermill": {
     "duration": 0.317683,
     "end_time": "2023-05-09T02:40:42.893463",
     "exception": false,
     "start_time": "2023-05-09T02:40:42.575780",
     "status": "completed"
    },
    "tags": []
   },
   "outputs": [
    {
     "data": {
      "text/plain": [
       "Text(0, 0.5, 'Count')"
      ]
     },
     "execution_count": 41,
     "metadata": {},
     "output_type": "execute_result"
    },
    {
     "data": {
      "image/png": "[encoded data removed]",
      "text/plain": [
       "<Figure size 640x480 with 1 Axes>"
      ]
     },
     "metadata": {},
     "output_type": "display_data"
    }
   ],
   "source": [
    "data2['Effectiveness'].value_counts().plot(kind='bar')\n",
    "plt.title(\"Effectiveness\", fontsize = 10)\n",
    "plt.xlabel(\"Effectiveness\", fontsize = 10)\n",
    "plt.ylabel(\"Count\", fontsize = 10)"
   ]
  },
  {
   "cell_type": "markdown",
   "id": "e635240a",
   "metadata": {
    "papermill": {
     "duration": 0.035692,
     "end_time": "2023-05-09T02:40:42.965567",
     "exception": false,
     "start_time": "2023-05-09T02:40:42.929875",
     "status": "completed"
    },
    "tags": []
   },
   "source": [
    "#### The drug is fairly effective with around 1600 users voting a 4 rating to it."
   ]
  },
  {
   "cell_type": "markdown",
   "id": "a9307958",
   "metadata": {
    "papermill": {
     "duration": 0.03561,
     "end_time": "2023-05-09T02:40:43.037614",
     "exception": false,
     "start_time": "2023-05-09T02:40:43.002004",
     "status": "completed"
    },
    "tags": []
   },
   "source": [
    "#### How effective is the drug among both the gender category?"
   ]
  },
  {
   "cell_type": "code",
   "execution_count": 42,
   "id": "265453e2",
   "metadata": {
    "execution": {
     "iopub.execute_input": "2023-05-09T02:40:43.175971Z",
     "iopub.status.busy": "2023-05-09T02:40:43.174951Z",
     "iopub.status.idle": "2023-05-09T02:40:43.747027Z",
     "shell.execute_reply": "2023-05-09T02:40:43.745882Z"
    },
    "papermill": {
     "duration": 0.675069,
     "end_time": "2023-05-09T02:40:43.749402",
     "exception": false,
     "start_time": "2023-05-09T02:40:43.074333",
     "status": "completed"
    },
    "tags": []
   },
   "outputs": [
    {
     "data": {
      "text/plain": [
       "<Figure size 1000x800 with 0 Axes>"
      ]
     },
     "metadata": {},
     "output_type": "display_data"
    },
    {
     "data": {
      "image/png": "[encoded data removed]",
      "text/plain": [
       "<Figure size 1080x600 with 2 Axes>"
      ]
     },
     "metadata": {},
     "output_type": "display_data"
    }
   ],
   "source": [
    "plt.figure(figsize=(10,8))\n",
    "g = sns.catplot(x=\"Effectiveness\",col=\"Sex\",\n",
    "                data=data2, kind=\"count\",\n",
    "                height=6,aspect =.9);"
   ]
  },
  {
   "cell_type": "markdown",
   "id": "ff36399c",
   "metadata": {
    "papermill": {
     "duration": 0.037058,
     "end_time": "2023-05-09T02:40:43.823210",
     "exception": false,
     "start_time": "2023-05-09T02:40:43.786152",
     "status": "completed"
    },
    "tags": []
   },
   "source": [
    "#### Both the users have given a mixed response"
   ]
  },
  {
   "cell_type": "markdown",
   "id": "d6ed82f5",
   "metadata": {
    "papermill": {
     "duration": 0.03736,
     "end_time": "2023-05-09T02:40:43.898239",
     "exception": false,
     "start_time": "2023-05-09T02:40:43.860879",
     "status": "completed"
    },
    "tags": []
   },
   "source": [
    "#### How many reported side effects for the drug?"
   ]
  },
  {
   "cell_type": "code",
   "execution_count": 43,
   "id": "5262890e",
   "metadata": {
    "execution": {
     "iopub.execute_input": "2023-05-09T02:40:43.975241Z",
     "iopub.status.busy": "2023-05-09T02:40:43.974850Z",
     "iopub.status.idle": "2023-05-09T02:40:44.141982Z",
     "shell.execute_reply": "2023-05-09T02:40:44.140425Z"
    },
    "papermill": {
     "duration": 0.210688,
     "end_time": "2023-05-09T02:40:44.145883",
     "exception": false,
     "start_time": "2023-05-09T02:40:43.935195",
     "status": "completed"
    },
    "tags": []
   },
   "outputs": [
    {
     "data": {
      "image/png": "[encoded data removed]",
      "text/plain": [
       "<Figure size 600x600 with 1 Axes>"
      ]
     },
     "metadata": {},
     "output_type": "display_data"
    }
   ],
   "source": [
    "plt.figure(figsize=(6,6))\n",
    "data2['Sideeffect'].value_counts().plot.pie(autopct='%1.1f%%')\n",
    "plt.show()"
   ]
  },
  {
   "cell_type": "markdown",
   "id": "d6f0fb8b",
   "metadata": {
    "papermill": {
     "duration": 0.03636,
     "end_time": "2023-05-09T02:40:44.243902",
     "exception": false,
     "start_time": "2023-05-09T02:40:44.207542",
     "status": "completed"
    },
    "tags": []
   },
   "source": [
    "#### 42% users reported extreme sideeffects with 1 being no side effect and 5 being extreme side effect"
   ]
  },
  {
   "cell_type": "markdown",
   "id": "e6b89222",
   "metadata": {
    "papermill": {
     "duration": 0.036737,
     "end_time": "2023-05-09T02:40:44.319680",
     "exception": false,
     "start_time": "2023-05-09T02:40:44.282943",
     "status": "completed"
    },
    "tags": []
   },
   "source": [
    "#### Which age group has reported most side effect?"
   ]
  },
  {
   "cell_type": "code",
   "execution_count": 44,
   "id": "3d1dbb02",
   "metadata": {
    "execution": {
     "iopub.execute_input": "2023-05-09T02:40:44.397189Z",
     "iopub.status.busy": "2023-05-09T02:40:44.396295Z",
     "iopub.status.idle": "2023-05-09T02:40:44.829532Z",
     "shell.execute_reply": "2023-05-09T02:40:44.828424Z"
    },
    "papermill": {
     "duration": 0.475221,
     "end_time": "2023-05-09T02:40:44.831663",
     "exception": false,
     "start_time": "2023-05-09T02:40:44.356442",
     "status": "completed"
    },
    "tags": []
   },
   "outputs": [
    {
     "data": {
      "text/plain": [
       "<AxesSubplot:xlabel='Age', ylabel='count'>"
      ]
     },
     "execution_count": 44,
     "metadata": {},
     "output_type": "execute_result"
    },
    {
     "data": {
      "image/png": "[encoded data removed]",
      "text/plain": [
       "<Figure size 1000x600 with 1 Axes>"
      ]
     },
     "metadata": {},
     "output_type": "display_data"
    }
   ],
   "source": [
    "plt.figure(figsize=(10, 6))\n",
    "sns.countplot(x='Age',hue='Sideeffect',data=data2)"
   ]
  },
  {
   "cell_type": "markdown",
   "id": "2c9f515e",
   "metadata": {
    "papermill": {
     "duration": 0.037069,
     "end_time": "2023-05-09T02:40:44.906396",
     "exception": false,
     "start_time": "2023-05-09T02:40:44.869327",
     "status": "completed"
    },
    "tags": []
   },
   "source": [
    "#### 55-64 age group has opinionated that they had extreme side effects"
   ]
  },
  {
   "cell_type": "markdown",
   "id": "4e2559aa",
   "metadata": {
    "papermill": {
     "duration": 0.037578,
     "end_time": "2023-05-09T02:40:44.981468",
     "exception": false,
     "start_time": "2023-05-09T02:40:44.943890",
     "status": "completed"
    },
    "tags": []
   },
   "source": [
    "#### Among both the gender category, how is the sideeffects of the drug?"
   ]
  },
  {
   "cell_type": "code",
   "execution_count": 45,
   "id": "7f7d2bc1",
   "metadata": {
    "execution": {
     "iopub.execute_input": "2023-05-09T02:40:45.059094Z",
     "iopub.status.busy": "2023-05-09T02:40:45.058588Z",
     "iopub.status.idle": "2023-05-09T02:40:45.664402Z",
     "shell.execute_reply": "2023-05-09T02:40:45.663295Z"
    },
    "papermill": {
     "duration": 0.647359,
     "end_time": "2023-05-09T02:40:45.666926",
     "exception": false,
     "start_time": "2023-05-09T02:40:45.019567",
     "status": "completed"
    },
    "tags": []
   },
   "outputs": [
    {
     "data": {
      "text/plain": [
       "<Figure size 2000x1000 with 0 Axes>"
      ]
     },
     "metadata": {},
     "output_type": "display_data"
    },
    {
     "data": {
      "image/png": "[encoded data removed]",
      "text/plain": [
       "<Figure size 1080x600 with 2 Axes>"
      ]
     },
     "metadata": {},
     "output_type": "display_data"
    }
   ],
   "source": [
    "plt.figure(figsize=(20,10))\n",
    "\n",
    "g = sns.catplot(x=\"Sideeffect\",col=\"Sex\",data=data2, kind=\"count\",height=6,aspect =.9);"
   ]
  },
  {
   "cell_type": "markdown",
   "id": "a5ac5b96",
   "metadata": {
    "papermill": {
     "duration": 0.040726,
     "end_time": "2023-05-09T02:40:45.747276",
     "exception": false,
     "start_time": "2023-05-09T02:40:45.706550",
     "status": "completed"
    },
    "tags": []
   },
   "source": [
    "#### Female users have reported more extreme side effects"
   ]
  },
  {
   "cell_type": "markdown",
   "id": "04fab228",
   "metadata": {
    "papermill": {
     "duration": 0.037411,
     "end_time": "2023-05-09T02:40:45.822957",
     "exception": false,
     "start_time": "2023-05-09T02:40:45.785546",
     "status": "completed"
    },
    "tags": []
   },
   "source": [
    "#### which race has reported extreme side effects?"
   ]
  },
  {
   "cell_type": "code",
   "execution_count": 126,
   "id": "5b2f7b72",
   "metadata": {
    "execution": {
     "iopub.execute_input": "2023-05-09T02:40:45.899999Z",
     "iopub.status.busy": "2023-05-09T02:40:45.899627Z",
     "iopub.status.idle": "2023-05-09T02:40:46.255548Z",
     "shell.execute_reply": "2023-05-09T02:40:46.254390Z"
    },
    "papermill": {
     "duration": 0.397097,
     "end_time": "2023-05-09T02:40:46.257967",
     "exception": false,
     "start_time": "2023-05-09T02:40:45.860870",
     "status": "completed"
    },
    "tags": []
   },
   "outputs": [
    {
     "data": {
      "text/plain": [
       "<AxesSubplot:xlabel='Race', ylabel='count'>"
      ]
     },
     "execution_count": 126,
     "metadata": {},
     "output_type": "execute_result"
    },
    {
     "data": {
      "image/png": "[encoded data removed]",
      "text/plain": [
       "<Figure size 1000x600 with 1 Axes>"
      ]
     },
     "metadata": {},
     "output_type": "display_data"
    }
   ],
   "source": [
    "plt.figure(figsize=(10, 6))\n",
    "sns.countplot(x='Race',hue='Sideeffect',data=data2)"
   ]
  },
  {
   "cell_type": "markdown",
   "id": "a469d276",
   "metadata": {
    "papermill": {
     "duration": 0.03911,
     "end_time": "2023-05-09T02:40:46.336506",
     "exception": false,
     "start_time": "2023-05-09T02:40:46.297396",
     "status": "completed"
    },
    "tags": []
   },
   "source": [
    "#### White and Hispanic users reported more extreme side effects"
   ]
  },
  {
   "cell_type": "markdown",
   "id": "60f36a7d",
   "metadata": {
    "papermill": {
     "duration": 0.038443,
     "end_time": "2023-05-09T02:40:46.414092",
     "exception": false,
     "start_time": "2023-05-09T02:40:46.375649",
     "status": "completed"
    },
    "tags": []
   },
   "source": [
    "## Reviews"
   ]
  },
  {
   "cell_type": "markdown",
   "id": "191144b1",
   "metadata": {
    "papermill": {
     "duration": 0.038191,
     "end_time": "2023-05-09T02:40:46.490796",
     "exception": false,
     "start_time": "2023-05-09T02:40:46.452605",
     "status": "completed"
    },
    "tags": []
   },
   "source": []
  },
  {
   "cell_type": "code",
   "execution_count": 47,
   "id": "5617f5b6",
   "metadata": {
    "execution": {
     "iopub.execute_input": "2023-05-09T02:40:46.570311Z",
     "iopub.status.busy": "2023-05-09T02:40:46.569888Z",
     "iopub.status.idle": "2023-05-09T02:40:46.578687Z",
     "shell.execute_reply": "2023-05-09T02:40:46.577474Z"
    },
    "papermill": {
     "duration": 0.051576,
     "end_time": "2023-05-09T02:40:46.580856",
     "exception": false,
     "start_time": "2023-05-09T02:40:46.529280",
     "status": "completed"
    },
    "tags": []
   },
   "outputs": [
    {
     "data": {
      "text/plain": [
       "17361    man this stuff is great!, I feel like a kid ag...\n",
       "13648    i am using it with hctz adde for high blood pr...\n",
       "16562    Lisinopril taken concurrently with hydrochloro...\n",
       "17309    I have been on this medication for 1 1/2 years...\n",
       "9867     Took this drug for several months. I developed...\n",
       "Name: Reviews, dtype: object"
      ]
     },
     "execution_count": 47,
     "metadata": {},
     "output_type": "execute_result"
    }
   ],
   "source": [
    "data2.Reviews.sample(5)"
   ]
  },
  {
   "cell_type": "markdown",
   "id": "78255b8d",
   "metadata": {
    "papermill": {
     "duration": 0.038209,
     "end_time": "2023-05-09T02:40:46.657819",
     "exception": false,
     "start_time": "2023-05-09T02:40:46.619610",
     "status": "completed"
    },
    "tags": []
   },
   "source": [
    "#### define a function to clean the text in the review so as to generate meaningfull output. The plan is to rank the reviews as either positive or negative. But, so as to rank the reviews, we need a more samples than what we have here. So, we will train the algoithm on the complete parent dataset (containing data about all the medicines). The algorithm will get trained on satisfaction and reviews, which means, it will identify which reviews or specifically word consitutes positive review ( satisfaction > 3) and which one consitute negative reviews (satisfaction < 3). Then, the generated model will be used to generate review rank ( 1 for positve and 0 for negative) for us in our dataset. Kindly note, the review rank for entries where satisfaction > 3 is 1 and for satisfaction < 3 is 0. The entries with satisfaction == 3 will be fed to the model to generate review rank values. Finally, our dataset will be complete after this."
   ]
  },
  {
   "cell_type": "markdown",
   "id": "91f48ce4",
   "metadata": {
    "papermill": {
     "duration": 0.038167,
     "end_time": "2023-05-09T02:40:46.734536",
     "exception": false,
     "start_time": "2023-05-09T02:40:46.696369",
     "status": "completed"
    },
    "tags": []
   },
   "source": [
    "# Cleaning the Global Review column"
   ]
  },
  {
   "cell_type": "code",
   "execution_count": 127,
   "id": "920c87f2",
   "metadata": {
    "execution": {
     "iopub.execute_input": "2023-05-09T02:40:46.814890Z",
     "iopub.status.busy": "2023-05-09T02:40:46.813603Z",
     "iopub.status.idle": "2023-05-09T02:40:47.058193Z",
     "shell.execute_reply": "2023-05-09T02:40:47.057066Z"
    },
    "papermill": {
     "duration": 0.288542,
     "end_time": "2023-05-09T02:40:47.061461",
     "exception": false,
     "start_time": "2023-05-09T02:40:46.772919",
     "status": "completed"
    },
    "tags": []
   },
   "outputs": [],
   "source": [
    "if data['Reviews'].dtype.kind == \"O\":\n",
    "        data['Reviews'] = data['Reviews'].str.strip()"
   ]
  },
  {
   "cell_type": "code",
   "execution_count": 128,
   "id": "bbba9e1a",
   "metadata": {
    "execution": {
     "iopub.execute_input": "2023-05-09T02:40:47.140584Z",
     "iopub.status.busy": "2023-05-09T02:40:47.140166Z",
     "iopub.status.idle": "2023-05-09T02:40:47.196955Z",
     "shell.execute_reply": "2023-05-09T02:40:47.195666Z"
    },
    "papermill": {
     "duration": 0.099238,
     "end_time": "2023-05-09T02:40:47.199782",
     "exception": false,
     "start_time": "2023-05-09T02:40:47.100544",
     "status": "completed"
    },
    "tags": []
   },
   "outputs": [],
   "source": [
    "data['Reviews']= data['Reviews'].astype(str)"
   ]
  },
  {
   "cell_type": "code",
   "execution_count": 129,
   "id": "6023b2cc",
   "metadata": {},
   "outputs": [],
   "source": [
    "from collections import Counter\n",
    "from nltk.corpus import stopwords\n",
    "\n",
    "from sklearn.ensemble import RandomForestClassifier\n",
    "from sklearn.feature_extraction.text import ENGLISH_STOP_WORDS as sklearn_stop_words\n",
    "from sklearn.feature_extraction.text import CountVectorizer\n",
    "from sklearn.feature_extraction.text import TfidfVectorizer\n",
    "from sklearn.naive_bayes import MultinomialNB\n",
    "from sklearn.model_selection import train_test_split\n",
    "from sklearn.metrics import classification_report, confusion_matrix, accuracy_score\n"
   ]
  },
  {
   "cell_type": "code",
   "execution_count": 130,
   "id": "755f16b6",
   "metadata": {},
   "outputs": [],
   "source": [
    "import spacy"
   ]
  },
  {
   "cell_type": "code",
   "execution_count": 14,
   "id": "1c699924",
   "metadata": {},
   "outputs": [],
   "source": [
    "\n",
    "\n",
    "\n",
    "from random import choice, sample\n",
    "import matplotlib.pyplot as plt\n",
    "import seaborn as sns\n",
    "%matplotlib inline\n",
    "\n",
    "from sklearn.preprocessing import PowerTransformer\n",
    "from sklearn.preprocessing import MinMaxScaler\n",
    "from sklearn.pipeline import Pipeline\n",
    "\n",
    "import itertools\n",
    "import math\n",
    "import re\n",
    "import string\n",
    "import spacy\n",
    "import warnings\n",
    "warnings.filterwarnings(\"ignore\")"
   ]
  },
  {
   "cell_type": "code",
   "execution_count": 132,
   "id": "e93e8e15",
   "metadata": {
    "execution": {
     "iopub.execute_input": "2023-05-09T02:40:47.291625Z",
     "iopub.status.busy": "2023-05-09T02:40:47.291268Z",
     "iopub.status.idle": "2023-05-09T03:07:25.302836Z",
     "shell.execute_reply": "2023-05-09T03:07:25.301531Z"
    },
    "papermill": {
     "duration": 1598.094872,
     "end_time": "2023-05-09T03:07:25.346344",
     "exception": false,
     "start_time": "2023-05-09T02:40:47.251472",
     "status": "completed"
    },
    "tags": []
   },
   "outputs": [
    {
     "ename": "KeyboardInterrupt",
     "evalue": "",
     "output_type": "error",
     "traceback": [
      "\u001b[1;31m---------------------------------------------------------------------------\u001b[0m",
      "\u001b[1;31mKeyboardInterrupt\u001b[0m                         Traceback (most recent call last)",
      "\u001b[1;32m<timed exec>\u001b[0m in \u001b[0;36m<module>\u001b[1;34m\u001b[0m\n",
      "\u001b[1;32m~\\anaconda3\\lib\\site-packages\\pandas\\core\\series.py\u001b[0m in \u001b[0;36mapply\u001b[1;34m(self, func, convert_dtype, args, **kwargs)\u001b[0m\n\u001b[0;32m   4431\u001b[0m         \u001b[0mdtype\u001b[0m\u001b[1;33m:\u001b[0m \u001b[0mfloat64\u001b[0m\u001b[1;33m\u001b[0m\u001b[1;33m\u001b[0m\u001b[0m\n\u001b[0;32m   4432\u001b[0m         \"\"\"\n\u001b[1;32m-> 4433\u001b[1;33m         \u001b[1;32mreturn\u001b[0m \u001b[0mSeriesApply\u001b[0m\u001b[1;33m(\u001b[0m\u001b[0mself\u001b[0m\u001b[1;33m,\u001b[0m \u001b[0mfunc\u001b[0m\u001b[1;33m,\u001b[0m \u001b[0mconvert_dtype\u001b[0m\u001b[1;33m,\u001b[0m \u001b[0margs\u001b[0m\u001b[1;33m,\u001b[0m \u001b[0mkwargs\u001b[0m\u001b[1;33m)\u001b[0m\u001b[1;33m.\u001b[0m\u001b[0mapply\u001b[0m\u001b[1;33m(\u001b[0m\u001b[1;33m)\u001b[0m\u001b[1;33m\u001b[0m\u001b[1;33m\u001b[0m\u001b[0m\n\u001b[0m\u001b[0;32m   4434\u001b[0m \u001b[1;33m\u001b[0m\u001b[0m\n\u001b[0;32m   4435\u001b[0m     def _reduce(\n",
      "\u001b[1;32m~\\anaconda3\\lib\\site-packages\\pandas\\core\\apply.py\u001b[0m in \u001b[0;36mapply\u001b[1;34m(self)\u001b[0m\n\u001b[0;32m   1086\u001b[0m             \u001b[1;32mreturn\u001b[0m \u001b[0mself\u001b[0m\u001b[1;33m.\u001b[0m\u001b[0mapply_str\u001b[0m\u001b[1;33m(\u001b[0m\u001b[1;33m)\u001b[0m\u001b[1;33m\u001b[0m\u001b[1;33m\u001b[0m\u001b[0m\n\u001b[0;32m   1087\u001b[0m \u001b[1;33m\u001b[0m\u001b[0m\n\u001b[1;32m-> 1088\u001b[1;33m         \u001b[1;32mreturn\u001b[0m \u001b[0mself\u001b[0m\u001b[1;33m.\u001b[0m\u001b[0mapply_standard\u001b[0m\u001b[1;33m(\u001b[0m\u001b[1;33m)\u001b[0m\u001b[1;33m\u001b[0m\u001b[1;33m\u001b[0m\u001b[0m\n\u001b[0m\u001b[0;32m   1089\u001b[0m \u001b[1;33m\u001b[0m\u001b[0m\n\u001b[0;32m   1090\u001b[0m     \u001b[1;32mdef\u001b[0m \u001b[0magg\u001b[0m\u001b[1;33m(\u001b[0m\u001b[0mself\u001b[0m\u001b[1;33m)\u001b[0m\u001b[1;33m:\u001b[0m\u001b[1;33m\u001b[0m\u001b[1;33m\u001b[0m\u001b[0m\n",
      "\u001b[1;32m~\\anaconda3\\lib\\site-packages\\pandas\\core\\apply.py\u001b[0m in \u001b[0;36mapply_standard\u001b[1;34m(self)\u001b[0m\n\u001b[0;32m   1141\u001b[0m                 \u001b[1;31m# List[Union[Callable[..., Any], str]]]]]\"; expected\u001b[0m\u001b[1;33m\u001b[0m\u001b[1;33m\u001b[0m\u001b[0m\n\u001b[0;32m   1142\u001b[0m                 \u001b[1;31m# \"Callable[[Any], Any]\"\u001b[0m\u001b[1;33m\u001b[0m\u001b[1;33m\u001b[0m\u001b[0m\n\u001b[1;32m-> 1143\u001b[1;33m                 mapped = lib.map_infer(\n\u001b[0m\u001b[0;32m   1144\u001b[0m                     \u001b[0mvalues\u001b[0m\u001b[1;33m,\u001b[0m\u001b[1;33m\u001b[0m\u001b[1;33m\u001b[0m\u001b[0m\n\u001b[0;32m   1145\u001b[0m                     \u001b[0mf\u001b[0m\u001b[1;33m,\u001b[0m  \u001b[1;31m# type: ignore[arg-type]\u001b[0m\u001b[1;33m\u001b[0m\u001b[1;33m\u001b[0m\u001b[0m\n",
      "\u001b[1;32m~\\anaconda3\\lib\\site-packages\\pandas\\_libs\\lib.pyx\u001b[0m in \u001b[0;36mpandas._libs.lib.map_infer\u001b[1;34m()\u001b[0m\n",
      "\u001b[1;32m<timed exec>\u001b[0m in \u001b[0;36mclean_review\u001b[1;34m(text, STOPWORDS, nlp)\u001b[0m\n",
      "\u001b[1;32m<timed exec>\u001b[0m in \u001b[0;36mlemmatize\u001b[1;34m(text)\u001b[0m\n",
      "\u001b[1;32m~\\anaconda3\\lib\\site-packages\\spacy\\language.py\u001b[0m in \u001b[0;36m__call__\u001b[1;34m(self, text, disable, component_cfg)\u001b[0m\n\u001b[0;32m   1047\u001b[0m                 \u001b[0merror_handler\u001b[0m \u001b[1;33m=\u001b[0m \u001b[0mproc\u001b[0m\u001b[1;33m.\u001b[0m\u001b[0mget_error_handler\u001b[0m\u001b[1;33m(\u001b[0m\u001b[1;33m)\u001b[0m\u001b[1;33m\u001b[0m\u001b[1;33m\u001b[0m\u001b[0m\n\u001b[0;32m   1048\u001b[0m             \u001b[1;32mtry\u001b[0m\u001b[1;33m:\u001b[0m\u001b[1;33m\u001b[0m\u001b[1;33m\u001b[0m\u001b[0m\n\u001b[1;32m-> 1049\u001b[1;33m                 \u001b[0mdoc\u001b[0m \u001b[1;33m=\u001b[0m \u001b[0mproc\u001b[0m\u001b[1;33m(\u001b[0m\u001b[0mdoc\u001b[0m\u001b[1;33m,\u001b[0m \u001b[1;33m**\u001b[0m\u001b[0mcomponent_cfg\u001b[0m\u001b[1;33m.\u001b[0m\u001b[0mget\u001b[0m\u001b[1;33m(\u001b[0m\u001b[0mname\u001b[0m\u001b[1;33m,\u001b[0m \u001b[1;33m{\u001b[0m\u001b[1;33m}\u001b[0m\u001b[1;33m)\u001b[0m\u001b[1;33m)\u001b[0m  \u001b[1;31m# type: ignore[call-arg]\u001b[0m\u001b[1;33m\u001b[0m\u001b[1;33m\u001b[0m\u001b[0m\n\u001b[0m\u001b[0;32m   1050\u001b[0m             \u001b[1;32mexcept\u001b[0m \u001b[0mKeyError\u001b[0m \u001b[1;32mas\u001b[0m \u001b[0me\u001b[0m\u001b[1;33m:\u001b[0m\u001b[1;33m\u001b[0m\u001b[1;33m\u001b[0m\u001b[0m\n\u001b[0;32m   1051\u001b[0m                 \u001b[1;31m# This typically happens if a component is not initialized\u001b[0m\u001b[1;33m\u001b[0m\u001b[1;33m\u001b[0m\u001b[0m\n",
      "\u001b[1;32m~\\anaconda3\\lib\\site-packages\\spacy\\pipeline\\trainable_pipe.pyx\u001b[0m in \u001b[0;36mspacy.pipeline.trainable_pipe.TrainablePipe.__call__\u001b[1;34m()\u001b[0m\n",
      "\u001b[1;32m~\\anaconda3\\lib\\site-packages\\spacy\\pipeline\\tok2vec.py\u001b[0m in \u001b[0;36mpredict\u001b[1;34m(self, docs)\u001b[0m\n\u001b[0;32m    124\u001b[0m             \u001b[0mwidth\u001b[0m \u001b[1;33m=\u001b[0m \u001b[0mself\u001b[0m\u001b[1;33m.\u001b[0m\u001b[0mmodel\u001b[0m\u001b[1;33m.\u001b[0m\u001b[0mget_dim\u001b[0m\u001b[1;33m(\u001b[0m\u001b[1;34m\"nO\"\u001b[0m\u001b[1;33m)\u001b[0m\u001b[1;33m\u001b[0m\u001b[1;33m\u001b[0m\u001b[0m\n\u001b[0;32m    125\u001b[0m             \u001b[1;32mreturn\u001b[0m \u001b[1;33m[\u001b[0m\u001b[0mself\u001b[0m\u001b[1;33m.\u001b[0m\u001b[0mmodel\u001b[0m\u001b[1;33m.\u001b[0m\u001b[0mops\u001b[0m\u001b[1;33m.\u001b[0m\u001b[0malloc\u001b[0m\u001b[1;33m(\u001b[0m\u001b[1;33m(\u001b[0m\u001b[1;36m0\u001b[0m\u001b[1;33m,\u001b[0m \u001b[0mwidth\u001b[0m\u001b[1;33m)\u001b[0m\u001b[1;33m)\u001b[0m \u001b[1;32mfor\u001b[0m \u001b[0mdoc\u001b[0m \u001b[1;32min\u001b[0m \u001b[0mdocs\u001b[0m\u001b[1;33m]\u001b[0m\u001b[1;33m\u001b[0m\u001b[1;33m\u001b[0m\u001b[0m\n\u001b[1;32m--> 126\u001b[1;33m         \u001b[0mtokvecs\u001b[0m \u001b[1;33m=\u001b[0m \u001b[0mself\u001b[0m\u001b[1;33m.\u001b[0m\u001b[0mmodel\u001b[0m\u001b[1;33m.\u001b[0m\u001b[0mpredict\u001b[0m\u001b[1;33m(\u001b[0m\u001b[0mdocs\u001b[0m\u001b[1;33m)\u001b[0m\u001b[1;33m\u001b[0m\u001b[1;33m\u001b[0m\u001b[0m\n\u001b[0m\u001b[0;32m    127\u001b[0m         \u001b[1;32mreturn\u001b[0m \u001b[0mtokvecs\u001b[0m\u001b[1;33m\u001b[0m\u001b[1;33m\u001b[0m\u001b[0m\n\u001b[0;32m    128\u001b[0m \u001b[1;33m\u001b[0m\u001b[0m\n",
      "\u001b[1;32m~\\anaconda3\\lib\\site-packages\\thinc\\model.py\u001b[0m in \u001b[0;36mpredict\u001b[1;34m(self, X)\u001b[0m\n\u001b[0;32m    332\u001b[0m         \u001b[0monly\u001b[0m \u001b[0mthe\u001b[0m \u001b[0moutput\u001b[0m\u001b[1;33m,\u001b[0m \u001b[0minstead\u001b[0m \u001b[0mof\u001b[0m \u001b[0mthe\u001b[0m\u001b[0;31m \u001b[0m\u001b[0;31m`\u001b[0m\u001b[1;33m(\u001b[0m\u001b[0moutput\u001b[0m\u001b[1;33m,\u001b[0m \u001b[0mcallback\u001b[0m\u001b[1;33m)\u001b[0m\u001b[0;31m`\u001b[0m \u001b[0mtuple\u001b[0m\u001b[1;33m.\u001b[0m\u001b[1;33m\u001b[0m\u001b[1;33m\u001b[0m\u001b[0m\n\u001b[0;32m    333\u001b[0m         \"\"\"\n\u001b[1;32m--> 334\u001b[1;33m         \u001b[1;32mreturn\u001b[0m \u001b[0mself\u001b[0m\u001b[1;33m.\u001b[0m\u001b[0m_func\u001b[0m\u001b[1;33m(\u001b[0m\u001b[0mself\u001b[0m\u001b[1;33m,\u001b[0m \u001b[0mX\u001b[0m\u001b[1;33m,\u001b[0m \u001b[0mis_train\u001b[0m\u001b[1;33m=\u001b[0m\u001b[1;32mFalse\u001b[0m\u001b[1;33m)\u001b[0m\u001b[1;33m[\u001b[0m\u001b[1;36m0\u001b[0m\u001b[1;33m]\u001b[0m\u001b[1;33m\u001b[0m\u001b[1;33m\u001b[0m\u001b[0m\n\u001b[0m\u001b[0;32m    335\u001b[0m \u001b[1;33m\u001b[0m\u001b[0m\n\u001b[0;32m    336\u001b[0m     \u001b[1;32mdef\u001b[0m \u001b[0mfinish_update\u001b[0m\u001b[1;33m(\u001b[0m\u001b[0mself\u001b[0m\u001b[1;33m,\u001b[0m \u001b[0moptimizer\u001b[0m\u001b[1;33m:\u001b[0m \u001b[0mOptimizer\u001b[0m\u001b[1;33m)\u001b[0m \u001b[1;33m->\u001b[0m \u001b[1;32mNone\u001b[0m\u001b[1;33m:\u001b[0m\u001b[1;33m\u001b[0m\u001b[1;33m\u001b[0m\u001b[0m\n",
      "\u001b[1;32m~\\anaconda3\\lib\\site-packages\\thinc\\layers\\chain.py\u001b[0m in \u001b[0;36mforward\u001b[1;34m(model, X, is_train)\u001b[0m\n\u001b[0;32m     52\u001b[0m     \u001b[0mcallbacks\u001b[0m \u001b[1;33m=\u001b[0m \u001b[1;33m[\u001b[0m\u001b[1;33m]\u001b[0m\u001b[1;33m\u001b[0m\u001b[1;33m\u001b[0m\u001b[0m\n\u001b[0;32m     53\u001b[0m     \u001b[1;32mfor\u001b[0m \u001b[0mlayer\u001b[0m \u001b[1;32min\u001b[0m \u001b[0mmodel\u001b[0m\u001b[1;33m.\u001b[0m\u001b[0mlayers\u001b[0m\u001b[1;33m:\u001b[0m\u001b[1;33m\u001b[0m\u001b[1;33m\u001b[0m\u001b[0m\n\u001b[1;32m---> 54\u001b[1;33m         \u001b[0mY\u001b[0m\u001b[1;33m,\u001b[0m \u001b[0minc_layer_grad\u001b[0m \u001b[1;33m=\u001b[0m \u001b[0mlayer\u001b[0m\u001b[1;33m(\u001b[0m\u001b[0mX\u001b[0m\u001b[1;33m,\u001b[0m \u001b[0mis_train\u001b[0m\u001b[1;33m=\u001b[0m\u001b[0mis_train\u001b[0m\u001b[1;33m)\u001b[0m\u001b[1;33m\u001b[0m\u001b[1;33m\u001b[0m\u001b[0m\n\u001b[0m\u001b[0;32m     55\u001b[0m         \u001b[0mcallbacks\u001b[0m\u001b[1;33m.\u001b[0m\u001b[0mappend\u001b[0m\u001b[1;33m(\u001b[0m\u001b[0minc_layer_grad\u001b[0m\u001b[1;33m)\u001b[0m\u001b[1;33m\u001b[0m\u001b[1;33m\u001b[0m\u001b[0m\n\u001b[0;32m     56\u001b[0m         \u001b[0mX\u001b[0m \u001b[1;33m=\u001b[0m \u001b[0mY\u001b[0m\u001b[1;33m\u001b[0m\u001b[1;33m\u001b[0m\u001b[0m\n",
      "\u001b[1;32m~\\anaconda3\\lib\\site-packages\\thinc\\model.py\u001b[0m in \u001b[0;36m__call__\u001b[1;34m(self, X, is_train)\u001b[0m\n\u001b[0;32m    308\u001b[0m         \"\"\"Call the model's `forward` function, returning the output and a\n\u001b[0;32m    309\u001b[0m         callback to compute the gradients via backpropagation.\"\"\"\n\u001b[1;32m--> 310\u001b[1;33m         \u001b[1;32mreturn\u001b[0m \u001b[0mself\u001b[0m\u001b[1;33m.\u001b[0m\u001b[0m_func\u001b[0m\u001b[1;33m(\u001b[0m\u001b[0mself\u001b[0m\u001b[1;33m,\u001b[0m \u001b[0mX\u001b[0m\u001b[1;33m,\u001b[0m \u001b[0mis_train\u001b[0m\u001b[1;33m=\u001b[0m\u001b[0mis_train\u001b[0m\u001b[1;33m)\u001b[0m\u001b[1;33m\u001b[0m\u001b[1;33m\u001b[0m\u001b[0m\n\u001b[0m\u001b[0;32m    311\u001b[0m \u001b[1;33m\u001b[0m\u001b[0m\n\u001b[0;32m    312\u001b[0m     \u001b[1;32mdef\u001b[0m \u001b[0minitialize\u001b[0m\u001b[1;33m(\u001b[0m\u001b[0mself\u001b[0m\u001b[1;33m,\u001b[0m \u001b[0mX\u001b[0m\u001b[1;33m:\u001b[0m \u001b[0mOptional\u001b[0m\u001b[1;33m[\u001b[0m\u001b[0mInT\u001b[0m\u001b[1;33m]\u001b[0m \u001b[1;33m=\u001b[0m \u001b[1;32mNone\u001b[0m\u001b[1;33m,\u001b[0m \u001b[0mY\u001b[0m\u001b[1;33m:\u001b[0m \u001b[0mOptional\u001b[0m\u001b[1;33m[\u001b[0m\u001b[0mOutT\u001b[0m\u001b[1;33m]\u001b[0m \u001b[1;33m=\u001b[0m \u001b[1;32mNone\u001b[0m\u001b[1;33m)\u001b[0m \u001b[1;33m->\u001b[0m \u001b[1;34m\"Model\"\u001b[0m\u001b[1;33m:\u001b[0m\u001b[1;33m\u001b[0m\u001b[1;33m\u001b[0m\u001b[0m\n",
      "\u001b[1;32m~\\anaconda3\\lib\\site-packages\\thinc\\layers\\chain.py\u001b[0m in \u001b[0;36mforward\u001b[1;34m(model, X, is_train)\u001b[0m\n\u001b[0;32m     52\u001b[0m     \u001b[0mcallbacks\u001b[0m \u001b[1;33m=\u001b[0m \u001b[1;33m[\u001b[0m\u001b[1;33m]\u001b[0m\u001b[1;33m\u001b[0m\u001b[1;33m\u001b[0m\u001b[0m\n\u001b[0;32m     53\u001b[0m     \u001b[1;32mfor\u001b[0m \u001b[0mlayer\u001b[0m \u001b[1;32min\u001b[0m \u001b[0mmodel\u001b[0m\u001b[1;33m.\u001b[0m\u001b[0mlayers\u001b[0m\u001b[1;33m:\u001b[0m\u001b[1;33m\u001b[0m\u001b[1;33m\u001b[0m\u001b[0m\n\u001b[1;32m---> 54\u001b[1;33m         \u001b[0mY\u001b[0m\u001b[1;33m,\u001b[0m \u001b[0minc_layer_grad\u001b[0m \u001b[1;33m=\u001b[0m \u001b[0mlayer\u001b[0m\u001b[1;33m(\u001b[0m\u001b[0mX\u001b[0m\u001b[1;33m,\u001b[0m \u001b[0mis_train\u001b[0m\u001b[1;33m=\u001b[0m\u001b[0mis_train\u001b[0m\u001b[1;33m)\u001b[0m\u001b[1;33m\u001b[0m\u001b[1;33m\u001b[0m\u001b[0m\n\u001b[0m\u001b[0;32m     55\u001b[0m         \u001b[0mcallbacks\u001b[0m\u001b[1;33m.\u001b[0m\u001b[0mappend\u001b[0m\u001b[1;33m(\u001b[0m\u001b[0minc_layer_grad\u001b[0m\u001b[1;33m)\u001b[0m\u001b[1;33m\u001b[0m\u001b[1;33m\u001b[0m\u001b[0m\n\u001b[0;32m     56\u001b[0m         \u001b[0mX\u001b[0m \u001b[1;33m=\u001b[0m \u001b[0mY\u001b[0m\u001b[1;33m\u001b[0m\u001b[1;33m\u001b[0m\u001b[0m\n",
      "\u001b[1;32m~\\anaconda3\\lib\\site-packages\\thinc\\model.py\u001b[0m in \u001b[0;36m__call__\u001b[1;34m(self, X, is_train)\u001b[0m\n\u001b[0;32m    308\u001b[0m         \"\"\"Call the model's `forward` function, returning the output and a\n\u001b[0;32m    309\u001b[0m         callback to compute the gradients via backpropagation.\"\"\"\n\u001b[1;32m--> 310\u001b[1;33m         \u001b[1;32mreturn\u001b[0m \u001b[0mself\u001b[0m\u001b[1;33m.\u001b[0m\u001b[0m_func\u001b[0m\u001b[1;33m(\u001b[0m\u001b[0mself\u001b[0m\u001b[1;33m,\u001b[0m \u001b[0mX\u001b[0m\u001b[1;33m,\u001b[0m \u001b[0mis_train\u001b[0m\u001b[1;33m=\u001b[0m\u001b[0mis_train\u001b[0m\u001b[1;33m)\u001b[0m\u001b[1;33m\u001b[0m\u001b[1;33m\u001b[0m\u001b[0m\n\u001b[0m\u001b[0;32m    311\u001b[0m \u001b[1;33m\u001b[0m\u001b[0m\n\u001b[0;32m    312\u001b[0m     \u001b[1;32mdef\u001b[0m \u001b[0minitialize\u001b[0m\u001b[1;33m(\u001b[0m\u001b[0mself\u001b[0m\u001b[1;33m,\u001b[0m \u001b[0mX\u001b[0m\u001b[1;33m:\u001b[0m \u001b[0mOptional\u001b[0m\u001b[1;33m[\u001b[0m\u001b[0mInT\u001b[0m\u001b[1;33m]\u001b[0m \u001b[1;33m=\u001b[0m \u001b[1;32mNone\u001b[0m\u001b[1;33m,\u001b[0m \u001b[0mY\u001b[0m\u001b[1;33m:\u001b[0m \u001b[0mOptional\u001b[0m\u001b[1;33m[\u001b[0m\u001b[0mOutT\u001b[0m\u001b[1;33m]\u001b[0m \u001b[1;33m=\u001b[0m \u001b[1;32mNone\u001b[0m\u001b[1;33m)\u001b[0m \u001b[1;33m->\u001b[0m \u001b[1;34m\"Model\"\u001b[0m\u001b[1;33m:\u001b[0m\u001b[1;33m\u001b[0m\u001b[1;33m\u001b[0m\u001b[0m\n",
      "\u001b[1;32m~\\anaconda3\\lib\\site-packages\\thinc\\layers\\with_array.py\u001b[0m in \u001b[0;36mforward\u001b[1;34m(model, Xseq, is_train)\u001b[0m\n\u001b[0;32m     34\u001b[0m ) -> Tuple[SeqT, Callable]:\n\u001b[0;32m     35\u001b[0m     \u001b[1;32mif\u001b[0m \u001b[0misinstance\u001b[0m\u001b[1;33m(\u001b[0m\u001b[0mXseq\u001b[0m\u001b[1;33m,\u001b[0m \u001b[0mRagged\u001b[0m\u001b[1;33m)\u001b[0m\u001b[1;33m:\u001b[0m\u001b[1;33m\u001b[0m\u001b[1;33m\u001b[0m\u001b[0m\n\u001b[1;32m---> 36\u001b[1;33m         \u001b[1;32mreturn\u001b[0m \u001b[0mcast\u001b[0m\u001b[1;33m(\u001b[0m\u001b[0mTuple\u001b[0m\u001b[1;33m[\u001b[0m\u001b[0mSeqT\u001b[0m\u001b[1;33m,\u001b[0m \u001b[0mCallable\u001b[0m\u001b[1;33m]\u001b[0m\u001b[1;33m,\u001b[0m \u001b[0m_ragged_forward\u001b[0m\u001b[1;33m(\u001b[0m\u001b[0mmodel\u001b[0m\u001b[1;33m,\u001b[0m \u001b[0mXseq\u001b[0m\u001b[1;33m,\u001b[0m \u001b[0mis_train\u001b[0m\u001b[1;33m)\u001b[0m\u001b[1;33m)\u001b[0m\u001b[1;33m\u001b[0m\u001b[1;33m\u001b[0m\u001b[0m\n\u001b[0m\u001b[0;32m     37\u001b[0m     \u001b[1;32melif\u001b[0m \u001b[0misinstance\u001b[0m\u001b[1;33m(\u001b[0m\u001b[0mXseq\u001b[0m\u001b[1;33m,\u001b[0m \u001b[0mPadded\u001b[0m\u001b[1;33m)\u001b[0m\u001b[1;33m:\u001b[0m\u001b[1;33m\u001b[0m\u001b[1;33m\u001b[0m\u001b[0m\n\u001b[0;32m     38\u001b[0m         \u001b[1;32mreturn\u001b[0m \u001b[0mcast\u001b[0m\u001b[1;33m(\u001b[0m\u001b[0mTuple\u001b[0m\u001b[1;33m[\u001b[0m\u001b[0mSeqT\u001b[0m\u001b[1;33m,\u001b[0m \u001b[0mCallable\u001b[0m\u001b[1;33m]\u001b[0m\u001b[1;33m,\u001b[0m \u001b[0m_padded_forward\u001b[0m\u001b[1;33m(\u001b[0m\u001b[0mmodel\u001b[0m\u001b[1;33m,\u001b[0m \u001b[0mXseq\u001b[0m\u001b[1;33m,\u001b[0m \u001b[0mis_train\u001b[0m\u001b[1;33m)\u001b[0m\u001b[1;33m)\u001b[0m\u001b[1;33m\u001b[0m\u001b[1;33m\u001b[0m\u001b[0m\n",
      "\u001b[1;32m~\\anaconda3\\lib\\site-packages\\thinc\\layers\\with_array.py\u001b[0m in \u001b[0;36m_ragged_forward\u001b[1;34m(model, Xr, is_train)\u001b[0m\n\u001b[0;32m     89\u001b[0m ) -> Tuple[Ragged, Callable]:\n\u001b[0;32m     90\u001b[0m     \u001b[0mlayer\u001b[0m\u001b[1;33m:\u001b[0m \u001b[0mModel\u001b[0m\u001b[1;33m[\u001b[0m\u001b[0mArrayXd\u001b[0m\u001b[1;33m,\u001b[0m \u001b[0mArrayXd\u001b[0m\u001b[1;33m]\u001b[0m \u001b[1;33m=\u001b[0m \u001b[0mmodel\u001b[0m\u001b[1;33m.\u001b[0m\u001b[0mlayers\u001b[0m\u001b[1;33m[\u001b[0m\u001b[1;36m0\u001b[0m\u001b[1;33m]\u001b[0m\u001b[1;33m\u001b[0m\u001b[1;33m\u001b[0m\u001b[0m\n\u001b[1;32m---> 91\u001b[1;33m     \u001b[0mY\u001b[0m\u001b[1;33m,\u001b[0m \u001b[0mget_dX\u001b[0m \u001b[1;33m=\u001b[0m \u001b[0mlayer\u001b[0m\u001b[1;33m(\u001b[0m\u001b[0mXr\u001b[0m\u001b[1;33m.\u001b[0m\u001b[0mdataXd\u001b[0m\u001b[1;33m,\u001b[0m \u001b[0mis_train\u001b[0m\u001b[1;33m)\u001b[0m\u001b[1;33m\u001b[0m\u001b[1;33m\u001b[0m\u001b[0m\n\u001b[0m\u001b[0;32m     92\u001b[0m \u001b[1;33m\u001b[0m\u001b[0m\n\u001b[0;32m     93\u001b[0m     \u001b[1;32mdef\u001b[0m \u001b[0mbackprop\u001b[0m\u001b[1;33m(\u001b[0m\u001b[0mdYr\u001b[0m\u001b[1;33m:\u001b[0m \u001b[0mRagged\u001b[0m\u001b[1;33m)\u001b[0m \u001b[1;33m->\u001b[0m \u001b[0mRagged\u001b[0m\u001b[1;33m:\u001b[0m\u001b[1;33m\u001b[0m\u001b[1;33m\u001b[0m\u001b[0m\n",
      "\u001b[1;32m~\\anaconda3\\lib\\site-packages\\thinc\\model.py\u001b[0m in \u001b[0;36m__call__\u001b[1;34m(self, X, is_train)\u001b[0m\n\u001b[0;32m    308\u001b[0m         \"\"\"Call the model's `forward` function, returning the output and a\n\u001b[0;32m    309\u001b[0m         callback to compute the gradients via backpropagation.\"\"\"\n\u001b[1;32m--> 310\u001b[1;33m         \u001b[1;32mreturn\u001b[0m \u001b[0mself\u001b[0m\u001b[1;33m.\u001b[0m\u001b[0m_func\u001b[0m\u001b[1;33m(\u001b[0m\u001b[0mself\u001b[0m\u001b[1;33m,\u001b[0m \u001b[0mX\u001b[0m\u001b[1;33m,\u001b[0m \u001b[0mis_train\u001b[0m\u001b[1;33m=\u001b[0m\u001b[0mis_train\u001b[0m\u001b[1;33m)\u001b[0m\u001b[1;33m\u001b[0m\u001b[1;33m\u001b[0m\u001b[0m\n\u001b[0m\u001b[0;32m    311\u001b[0m \u001b[1;33m\u001b[0m\u001b[0m\n\u001b[0;32m    312\u001b[0m     \u001b[1;32mdef\u001b[0m \u001b[0minitialize\u001b[0m\u001b[1;33m(\u001b[0m\u001b[0mself\u001b[0m\u001b[1;33m,\u001b[0m \u001b[0mX\u001b[0m\u001b[1;33m:\u001b[0m \u001b[0mOptional\u001b[0m\u001b[1;33m[\u001b[0m\u001b[0mInT\u001b[0m\u001b[1;33m]\u001b[0m \u001b[1;33m=\u001b[0m \u001b[1;32mNone\u001b[0m\u001b[1;33m,\u001b[0m \u001b[0mY\u001b[0m\u001b[1;33m:\u001b[0m \u001b[0mOptional\u001b[0m\u001b[1;33m[\u001b[0m\u001b[0mOutT\u001b[0m\u001b[1;33m]\u001b[0m \u001b[1;33m=\u001b[0m \u001b[1;32mNone\u001b[0m\u001b[1;33m)\u001b[0m \u001b[1;33m->\u001b[0m \u001b[1;34m\"Model\"\u001b[0m\u001b[1;33m:\u001b[0m\u001b[1;33m\u001b[0m\u001b[1;33m\u001b[0m\u001b[0m\n",
      "\u001b[1;32m~\\anaconda3\\lib\\site-packages\\thinc\\layers\\concatenate.py\u001b[0m in \u001b[0;36mforward\u001b[1;34m(model, X, is_train)\u001b[0m\n\u001b[0;32m     55\u001b[0m \u001b[1;33m\u001b[0m\u001b[0m\n\u001b[0;32m     56\u001b[0m \u001b[1;32mdef\u001b[0m \u001b[0mforward\u001b[0m\u001b[1;33m(\u001b[0m\u001b[0mmodel\u001b[0m\u001b[1;33m:\u001b[0m \u001b[0mModel\u001b[0m\u001b[1;33m[\u001b[0m\u001b[0mInT\u001b[0m\u001b[1;33m,\u001b[0m \u001b[0mOutT\u001b[0m\u001b[1;33m]\u001b[0m\u001b[1;33m,\u001b[0m \u001b[0mX\u001b[0m\u001b[1;33m:\u001b[0m \u001b[0mInT\u001b[0m\u001b[1;33m,\u001b[0m \u001b[0mis_train\u001b[0m\u001b[1;33m:\u001b[0m \u001b[0mbool\u001b[0m\u001b[1;33m)\u001b[0m \u001b[1;33m->\u001b[0m \u001b[0mTuple\u001b[0m\u001b[1;33m[\u001b[0m\u001b[0mOutT\u001b[0m\u001b[1;33m,\u001b[0m \u001b[0mCallable\u001b[0m\u001b[1;33m]\u001b[0m\u001b[1;33m:\u001b[0m\u001b[1;33m\u001b[0m\u001b[1;33m\u001b[0m\u001b[0m\n\u001b[1;32m---> 57\u001b[1;33m     \u001b[0mYs\u001b[0m\u001b[1;33m,\u001b[0m \u001b[0mcallbacks\u001b[0m \u001b[1;33m=\u001b[0m \u001b[0mzip\u001b[0m\u001b[1;33m(\u001b[0m\u001b[1;33m*\u001b[0m\u001b[1;33m[\u001b[0m\u001b[0mlayer\u001b[0m\u001b[1;33m(\u001b[0m\u001b[0mX\u001b[0m\u001b[1;33m,\u001b[0m \u001b[0mis_train\u001b[0m\u001b[1;33m=\u001b[0m\u001b[0mis_train\u001b[0m\u001b[1;33m)\u001b[0m \u001b[1;32mfor\u001b[0m \u001b[0mlayer\u001b[0m \u001b[1;32min\u001b[0m \u001b[0mmodel\u001b[0m\u001b[1;33m.\u001b[0m\u001b[0mlayers\u001b[0m\u001b[1;33m]\u001b[0m\u001b[1;33m)\u001b[0m\u001b[1;33m\u001b[0m\u001b[1;33m\u001b[0m\u001b[0m\n\u001b[0m\u001b[0;32m     58\u001b[0m     \u001b[1;32mif\u001b[0m \u001b[0misinstance\u001b[0m\u001b[1;33m(\u001b[0m\u001b[0mYs\u001b[0m\u001b[1;33m[\u001b[0m\u001b[1;36m0\u001b[0m\u001b[1;33m]\u001b[0m\u001b[1;33m,\u001b[0m \u001b[0mlist\u001b[0m\u001b[1;33m)\u001b[0m\u001b[1;33m:\u001b[0m\u001b[1;33m\u001b[0m\u001b[1;33m\u001b[0m\u001b[0m\n\u001b[0;32m     59\u001b[0m         \u001b[0mdata_l\u001b[0m\u001b[1;33m,\u001b[0m \u001b[0mbackprop\u001b[0m \u001b[1;33m=\u001b[0m \u001b[0m_list_forward\u001b[0m\u001b[1;33m(\u001b[0m\u001b[0mmodel\u001b[0m\u001b[1;33m,\u001b[0m \u001b[0mX\u001b[0m\u001b[1;33m,\u001b[0m \u001b[0mYs\u001b[0m\u001b[1;33m,\u001b[0m \u001b[0mcallbacks\u001b[0m\u001b[1;33m,\u001b[0m \u001b[0mis_train\u001b[0m\u001b[1;33m)\u001b[0m\u001b[1;33m\u001b[0m\u001b[1;33m\u001b[0m\u001b[0m\n",
      "\u001b[1;32m~\\anaconda3\\lib\\site-packages\\thinc\\layers\\concatenate.py\u001b[0m in \u001b[0;36m<listcomp>\u001b[1;34m(.0)\u001b[0m\n\u001b[0;32m     55\u001b[0m \u001b[1;33m\u001b[0m\u001b[0m\n\u001b[0;32m     56\u001b[0m \u001b[1;32mdef\u001b[0m \u001b[0mforward\u001b[0m\u001b[1;33m(\u001b[0m\u001b[0mmodel\u001b[0m\u001b[1;33m:\u001b[0m \u001b[0mModel\u001b[0m\u001b[1;33m[\u001b[0m\u001b[0mInT\u001b[0m\u001b[1;33m,\u001b[0m \u001b[0mOutT\u001b[0m\u001b[1;33m]\u001b[0m\u001b[1;33m,\u001b[0m \u001b[0mX\u001b[0m\u001b[1;33m:\u001b[0m \u001b[0mInT\u001b[0m\u001b[1;33m,\u001b[0m \u001b[0mis_train\u001b[0m\u001b[1;33m:\u001b[0m \u001b[0mbool\u001b[0m\u001b[1;33m)\u001b[0m \u001b[1;33m->\u001b[0m \u001b[0mTuple\u001b[0m\u001b[1;33m[\u001b[0m\u001b[0mOutT\u001b[0m\u001b[1;33m,\u001b[0m \u001b[0mCallable\u001b[0m\u001b[1;33m]\u001b[0m\u001b[1;33m:\u001b[0m\u001b[1;33m\u001b[0m\u001b[1;33m\u001b[0m\u001b[0m\n\u001b[1;32m---> 57\u001b[1;33m     \u001b[0mYs\u001b[0m\u001b[1;33m,\u001b[0m \u001b[0mcallbacks\u001b[0m \u001b[1;33m=\u001b[0m \u001b[0mzip\u001b[0m\u001b[1;33m(\u001b[0m\u001b[1;33m*\u001b[0m\u001b[1;33m[\u001b[0m\u001b[0mlayer\u001b[0m\u001b[1;33m(\u001b[0m\u001b[0mX\u001b[0m\u001b[1;33m,\u001b[0m \u001b[0mis_train\u001b[0m\u001b[1;33m=\u001b[0m\u001b[0mis_train\u001b[0m\u001b[1;33m)\u001b[0m \u001b[1;32mfor\u001b[0m \u001b[0mlayer\u001b[0m \u001b[1;32min\u001b[0m \u001b[0mmodel\u001b[0m\u001b[1;33m.\u001b[0m\u001b[0mlayers\u001b[0m\u001b[1;33m]\u001b[0m\u001b[1;33m)\u001b[0m\u001b[1;33m\u001b[0m\u001b[1;33m\u001b[0m\u001b[0m\n\u001b[0m\u001b[0;32m     58\u001b[0m     \u001b[1;32mif\u001b[0m \u001b[0misinstance\u001b[0m\u001b[1;33m(\u001b[0m\u001b[0mYs\u001b[0m\u001b[1;33m[\u001b[0m\u001b[1;36m0\u001b[0m\u001b[1;33m]\u001b[0m\u001b[1;33m,\u001b[0m \u001b[0mlist\u001b[0m\u001b[1;33m)\u001b[0m\u001b[1;33m:\u001b[0m\u001b[1;33m\u001b[0m\u001b[1;33m\u001b[0m\u001b[0m\n\u001b[0;32m     59\u001b[0m         \u001b[0mdata_l\u001b[0m\u001b[1;33m,\u001b[0m \u001b[0mbackprop\u001b[0m \u001b[1;33m=\u001b[0m \u001b[0m_list_forward\u001b[0m\u001b[1;33m(\u001b[0m\u001b[0mmodel\u001b[0m\u001b[1;33m,\u001b[0m \u001b[0mX\u001b[0m\u001b[1;33m,\u001b[0m \u001b[0mYs\u001b[0m\u001b[1;33m,\u001b[0m \u001b[0mcallbacks\u001b[0m\u001b[1;33m,\u001b[0m \u001b[0mis_train\u001b[0m\u001b[1;33m)\u001b[0m\u001b[1;33m\u001b[0m\u001b[1;33m\u001b[0m\u001b[0m\n",
      "\u001b[1;32m~\\anaconda3\\lib\\site-packages\\thinc\\model.py\u001b[0m in \u001b[0;36m__call__\u001b[1;34m(self, X, is_train)\u001b[0m\n\u001b[0;32m    308\u001b[0m         \"\"\"Call the model's `forward` function, returning the output and a\n\u001b[0;32m    309\u001b[0m         callback to compute the gradients via backpropagation.\"\"\"\n\u001b[1;32m--> 310\u001b[1;33m         \u001b[1;32mreturn\u001b[0m \u001b[0mself\u001b[0m\u001b[1;33m.\u001b[0m\u001b[0m_func\u001b[0m\u001b[1;33m(\u001b[0m\u001b[0mself\u001b[0m\u001b[1;33m,\u001b[0m \u001b[0mX\u001b[0m\u001b[1;33m,\u001b[0m \u001b[0mis_train\u001b[0m\u001b[1;33m=\u001b[0m\u001b[0mis_train\u001b[0m\u001b[1;33m)\u001b[0m\u001b[1;33m\u001b[0m\u001b[1;33m\u001b[0m\u001b[0m\n\u001b[0m\u001b[0;32m    311\u001b[0m \u001b[1;33m\u001b[0m\u001b[0m\n\u001b[0;32m    312\u001b[0m     \u001b[1;32mdef\u001b[0m \u001b[0minitialize\u001b[0m\u001b[1;33m(\u001b[0m\u001b[0mself\u001b[0m\u001b[1;33m,\u001b[0m \u001b[0mX\u001b[0m\u001b[1;33m:\u001b[0m \u001b[0mOptional\u001b[0m\u001b[1;33m[\u001b[0m\u001b[0mInT\u001b[0m\u001b[1;33m]\u001b[0m \u001b[1;33m=\u001b[0m \u001b[1;32mNone\u001b[0m\u001b[1;33m,\u001b[0m \u001b[0mY\u001b[0m\u001b[1;33m:\u001b[0m \u001b[0mOptional\u001b[0m\u001b[1;33m[\u001b[0m\u001b[0mOutT\u001b[0m\u001b[1;33m]\u001b[0m \u001b[1;33m=\u001b[0m \u001b[1;32mNone\u001b[0m\u001b[1;33m)\u001b[0m \u001b[1;33m->\u001b[0m \u001b[1;34m\"Model\"\u001b[0m\u001b[1;33m:\u001b[0m\u001b[1;33m\u001b[0m\u001b[1;33m\u001b[0m\u001b[0m\n",
      "\u001b[1;32m~\\anaconda3\\lib\\site-packages\\thinc\\layers\\chain.py\u001b[0m in \u001b[0;36mforward\u001b[1;34m(model, X, is_train)\u001b[0m\n\u001b[0;32m     52\u001b[0m     \u001b[0mcallbacks\u001b[0m \u001b[1;33m=\u001b[0m \u001b[1;33m[\u001b[0m\u001b[1;33m]\u001b[0m\u001b[1;33m\u001b[0m\u001b[1;33m\u001b[0m\u001b[0m\n\u001b[0;32m     53\u001b[0m     \u001b[1;32mfor\u001b[0m \u001b[0mlayer\u001b[0m \u001b[1;32min\u001b[0m \u001b[0mmodel\u001b[0m\u001b[1;33m.\u001b[0m\u001b[0mlayers\u001b[0m\u001b[1;33m:\u001b[0m\u001b[1;33m\u001b[0m\u001b[1;33m\u001b[0m\u001b[0m\n\u001b[1;32m---> 54\u001b[1;33m         \u001b[0mY\u001b[0m\u001b[1;33m,\u001b[0m \u001b[0minc_layer_grad\u001b[0m \u001b[1;33m=\u001b[0m \u001b[0mlayer\u001b[0m\u001b[1;33m(\u001b[0m\u001b[0mX\u001b[0m\u001b[1;33m,\u001b[0m \u001b[0mis_train\u001b[0m\u001b[1;33m=\u001b[0m\u001b[0mis_train\u001b[0m\u001b[1;33m)\u001b[0m\u001b[1;33m\u001b[0m\u001b[1;33m\u001b[0m\u001b[0m\n\u001b[0m\u001b[0;32m     55\u001b[0m         \u001b[0mcallbacks\u001b[0m\u001b[1;33m.\u001b[0m\u001b[0mappend\u001b[0m\u001b[1;33m(\u001b[0m\u001b[0minc_layer_grad\u001b[0m\u001b[1;33m)\u001b[0m\u001b[1;33m\u001b[0m\u001b[1;33m\u001b[0m\u001b[0m\n\u001b[0;32m     56\u001b[0m         \u001b[0mX\u001b[0m \u001b[1;33m=\u001b[0m \u001b[0mY\u001b[0m\u001b[1;33m\u001b[0m\u001b[1;33m\u001b[0m\u001b[0m\n",
      "\u001b[1;32m~\\anaconda3\\lib\\site-packages\\thinc\\model.py\u001b[0m in \u001b[0;36m__call__\u001b[1;34m(self, X, is_train)\u001b[0m\n\u001b[0;32m    308\u001b[0m         \"\"\"Call the model's `forward` function, returning the output and a\n\u001b[0;32m    309\u001b[0m         callback to compute the gradients via backpropagation.\"\"\"\n\u001b[1;32m--> 310\u001b[1;33m         \u001b[1;32mreturn\u001b[0m \u001b[0mself\u001b[0m\u001b[1;33m.\u001b[0m\u001b[0m_func\u001b[0m\u001b[1;33m(\u001b[0m\u001b[0mself\u001b[0m\u001b[1;33m,\u001b[0m \u001b[0mX\u001b[0m\u001b[1;33m,\u001b[0m \u001b[0mis_train\u001b[0m\u001b[1;33m=\u001b[0m\u001b[0mis_train\u001b[0m\u001b[1;33m)\u001b[0m\u001b[1;33m\u001b[0m\u001b[1;33m\u001b[0m\u001b[0m\n\u001b[0m\u001b[0;32m    311\u001b[0m \u001b[1;33m\u001b[0m\u001b[0m\n\u001b[0;32m    312\u001b[0m     \u001b[1;32mdef\u001b[0m \u001b[0minitialize\u001b[0m\u001b[1;33m(\u001b[0m\u001b[0mself\u001b[0m\u001b[1;33m,\u001b[0m \u001b[0mX\u001b[0m\u001b[1;33m:\u001b[0m \u001b[0mOptional\u001b[0m\u001b[1;33m[\u001b[0m\u001b[0mInT\u001b[0m\u001b[1;33m]\u001b[0m \u001b[1;33m=\u001b[0m \u001b[1;32mNone\u001b[0m\u001b[1;33m,\u001b[0m \u001b[0mY\u001b[0m\u001b[1;33m:\u001b[0m \u001b[0mOptional\u001b[0m\u001b[1;33m[\u001b[0m\u001b[0mOutT\u001b[0m\u001b[1;33m]\u001b[0m \u001b[1;33m=\u001b[0m \u001b[1;32mNone\u001b[0m\u001b[1;33m)\u001b[0m \u001b[1;33m->\u001b[0m \u001b[1;34m\"Model\"\u001b[0m\u001b[1;33m:\u001b[0m\u001b[1;33m\u001b[0m\u001b[1;33m\u001b[0m\u001b[0m\n",
      "\u001b[1;32m~\\anaconda3\\lib\\site-packages\\thinc\\layers\\hashembed.py\u001b[0m in \u001b[0;36mforward\u001b[1;34m(model, ids, is_train)\u001b[0m\n\u001b[0;32m     70\u001b[0m         \u001b[0mseed\u001b[0m\u001b[1;33m:\u001b[0m \u001b[0mint\u001b[0m \u001b[1;33m=\u001b[0m \u001b[0mmodel\u001b[0m\u001b[1;33m.\u001b[0m\u001b[0mattrs\u001b[0m\u001b[1;33m[\u001b[0m\u001b[1;34m\"seed\"\u001b[0m\u001b[1;33m]\u001b[0m\u001b[1;33m\u001b[0m\u001b[1;33m\u001b[0m\u001b[0m\n\u001b[0;32m     71\u001b[0m         \u001b[0mkeys\u001b[0m \u001b[1;33m=\u001b[0m \u001b[0mmodel\u001b[0m\u001b[1;33m.\u001b[0m\u001b[0mops\u001b[0m\u001b[1;33m.\u001b[0m\u001b[0mhash\u001b[0m\u001b[1;33m(\u001b[0m\u001b[0mids\u001b[0m\u001b[1;33m,\u001b[0m \u001b[0mseed\u001b[0m\u001b[1;33m)\u001b[0m \u001b[1;33m%\u001b[0m \u001b[0mnV\u001b[0m\u001b[1;33m\u001b[0m\u001b[1;33m\u001b[0m\u001b[0m\n\u001b[1;32m---> 72\u001b[1;33m         \u001b[0moutput\u001b[0m \u001b[1;33m=\u001b[0m \u001b[0mmodel\u001b[0m\u001b[1;33m.\u001b[0m\u001b[0mops\u001b[0m\u001b[1;33m.\u001b[0m\u001b[0mgather_add\u001b[0m\u001b[1;33m(\u001b[0m\u001b[0mvectors\u001b[0m\u001b[1;33m,\u001b[0m \u001b[0mkeys\u001b[0m\u001b[1;33m)\u001b[0m\u001b[1;33m\u001b[0m\u001b[1;33m\u001b[0m\u001b[0m\n\u001b[0m\u001b[0;32m     73\u001b[0m         \u001b[0mdrop_mask\u001b[0m \u001b[1;33m=\u001b[0m \u001b[1;32mNone\u001b[0m\u001b[1;33m\u001b[0m\u001b[1;33m\u001b[0m\u001b[0m\n\u001b[0;32m     74\u001b[0m         \u001b[1;32mif\u001b[0m \u001b[0mis_train\u001b[0m\u001b[1;33m:\u001b[0m\u001b[1;33m\u001b[0m\u001b[1;33m\u001b[0m\u001b[0m\n",
      "\u001b[1;31mKeyboardInterrupt\u001b[0m: "
     ]
    }
   ],
   "source": [
    "%%time\n",
    "\n",
    "nlp = spacy.load(\"en_core_web_sm\", disable=[\"ner\", \"parser\"])\n",
    "STOPWORDS = set(sklearn_stop_words).union(set(stopwords.words(\"english\")))\n",
    "\n",
    "def clean_review(text, STOPWORDS=STOPWORDS, nlp=nlp):\n",
    "    \"\"\"Cleans up text\"\"\"\n",
    "    \n",
    "    def rep_emo(text, placeholder_pos=' happyemoticon ', placeholder_neg=' sademoticon '):\n",
    "        \"\"\"Replace emoticons\"\"\"\n",
    "        # Credit https://github.com/shaheen-syed/Twitter-Sentiment-Analysis/blob/master/helper_functions.py\n",
    "        emoticons_pos = [\":)\", \":-)\", \":p\", \":-p\", \":P\", \":-P\", \":D\",\":-D\", \":]\", \":-]\", \";)\", \";-)\",\n",
    "                         \";p\", \";-p\", \";P\", \";-P\", \";D\", \";-D\", \";]\", \";-]\", \"=)\", \"=-)\", \"<3\"]\n",
    "        emoticons_neg = [\":o\", \":-o\", \":O\", \":-O\", \":(\", \":-(\", \":c\", \":-c\", \":C\", \":-C\", \":[\", \":-[\",\n",
    "                         \":/\", \":-/\", \":\\\\\", \":-\\\\\", \":n\", \":-n\", \":u\", \":-u\", \"=(\", \"=-(\", \":$\", \":-$\"]\n",
    "\n",
    "        for e in emoticons_pos:\n",
    "            text = text.replace(e, placeholder_pos)\n",
    "\n",
    "        for e in emoticons_neg:\n",
    "            text = text.replace(e, placeholder_neg)   \n",
    "        return text\n",
    "\n",
    "    def rep_punct(text):\n",
    "        \"\"\"Replace all punctuation with space\"\"\"\n",
    "        for c in string.punctuation:\n",
    "            text = text.replace(c, \" \")\n",
    "        return text\n",
    "\n",
    "    def rem_stop_num(text):\n",
    "        \"\"\"Remove stop words and anything starting with number\"\"\"\n",
    "        return \" \".join(word for word in text.split() if word not in STOPWORDS and not word[0].isdigit())\n",
    "\n",
    "    def lemmatize(text):\n",
    "        \"\"\"Return lemmas of tokens in text\"\"\"\n",
    "        return \" \".join(tok.lemma_.lower().strip() for tok in nlp(text) if tok.lemma_ != \"-PRON-\")  \n",
    "\n",
    "    return lemmatize(rem_stop_num(rep_punct(rep_emo(text))))\n",
    "\n",
    "mldf = data[[\"Satisfaction\", \"Reviews\"]]\n",
    "mldf[\"Reviews\"] = mldf[\"Reviews\"].apply(clean_review)\n",
    "\n",
    "# remove any rows with new empty strings following the clean-up\n",
    "mldf[\"Reviews\"].replace(\"\", np.nan, inplace=True)\n",
    "mldf.dropna(inplace=True)\n",
    "# adding indexes as \"index\" column for later use to recreate same splits \n",
    "mldf.reset_index(inplace=True)"
   ]
  },
  {
   "cell_type": "markdown",
   "id": "dc330555",
   "metadata": {
    "papermill": {
     "duration": 0.039216,
     "end_time": "2023-05-09T03:07:25.424271",
     "exception": false,
     "start_time": "2023-05-09T03:07:25.385055",
     "status": "completed"
    },
    "tags": []
   },
   "source": [
    "#### Review column is cleaned. A new column satisfaction1 is generated which will help in identifiying postive and negative reviews for algorithm where 0 is negative, 2 is positive and 1 is neutral for satisfaction < 3, > 3 and ==3 respectively. We will omit the neutral reviews."
   ]
  },
  {
   "cell_type": "code",
   "execution_count": 133,
   "id": "28f1d0f6",
   "metadata": {
    "execution": {
     "iopub.execute_input": "2023-05-09T03:07:25.503817Z",
     "iopub.status.busy": "2023-05-09T03:07:25.503437Z",
     "iopub.status.idle": "2023-05-09T03:07:25.640634Z",
     "shell.execute_reply": "2023-05-09T03:07:25.639509Z"
    },
    "papermill": {
     "duration": 0.179702,
     "end_time": "2023-05-09T03:07:25.643284",
     "exception": false,
     "start_time": "2023-05-09T03:07:25.463582",
     "status": "completed"
    },
    "tags": []
   },
   "outputs": [],
   "source": [
    "def relabel(x):\n",
    "    return 0 if x < 3 else 1 if x == 3 else 2\n",
    "\n",
    "mldf[\"Satisfaction1\"] = mldf[\"Satisfaction\"].apply(relabel)"
   ]
  },
  {
   "cell_type": "markdown",
   "id": "cea1300d",
   "metadata": {
    "papermill": {
     "duration": 0.038355,
     "end_time": "2023-05-09T03:07:25.720406",
     "exception": false,
     "start_time": "2023-05-09T03:07:25.682051",
     "status": "completed"
    },
    "tags": []
   },
   "source": [
    "# Generating Text processing Model"
   ]
  },
  {
   "cell_type": "code",
   "execution_count": 134,
   "id": "16cbaded",
   "metadata": {
    "execution": {
     "iopub.execute_input": "2023-05-09T03:07:25.799383Z",
     "iopub.status.busy": "2023-05-09T03:07:25.798701Z",
     "iopub.status.idle": "2023-05-09T03:07:25.960698Z",
     "shell.execute_reply": "2023-05-09T03:07:25.959219Z"
    },
    "papermill": {
     "duration": 0.204275,
     "end_time": "2023-05-09T03:07:25.963250",
     "exception": false,
     "start_time": "2023-05-09T03:07:25.758975",
     "status": "completed"
    },
    "tags": []
   },
   "outputs": [
    {
     "name": "stdout",
     "output_type": "stream",
     "text": [
      "(272104, 3)\n",
      "(90702, 3)\n"
     ]
    }
   ],
   "source": [
    "train_set, test_set = train_test_split(mldf, test_size=0.25, random_state=0, stratify=mldf[\"Satisfaction1\"])\n",
    "train_index = train_set.index\n",
    "test_index = test_set.index\n",
    "print(train_set.shape)\n",
    "print(test_set.shape)"
   ]
  },
  {
   "cell_type": "code",
   "execution_count": 135,
   "id": "4128b8ec",
   "metadata": {
    "execution": {
     "iopub.execute_input": "2023-05-09T03:07:26.044268Z",
     "iopub.status.busy": "2023-05-09T03:07:26.043856Z",
     "iopub.status.idle": "2023-05-09T03:21:43.272439Z",
     "shell.execute_reply": "2023-05-09T03:21:43.271124Z"
    },
    "papermill": {
     "duration": 857.271789,
     "end_time": "2023-05-09T03:21:43.274942",
     "exception": false,
     "start_time": "2023-05-09T03:07:26.003153",
     "status": "completed"
    },
    "tags": []
   },
   "outputs": [
    {
     "name": "stdout",
     "output_type": "stream",
     "text": [
      "(233215, 3)\n",
      "(77739, 3)\n",
      "Wall time: 32.3 ms\n"
     ]
    }
   ],
   "source": [
    "%%time\n",
    "train_set = train_set[train_set[\"Satisfaction1\"] != 1]\n",
    "test_set = test_set[test_set[\"Satisfaction1\"] != 1]\n",
    "print(train_set.shape)\n",
    "print(test_set.shape)\n"
   ]
  },
  {
   "cell_type": "code",
   "execution_count": 139,
   "id": "d8d54943",
   "metadata": {},
   "outputs": [],
   "source": [
    "X_train = vectorizer.fit_transform(train_set[\"Reviews\"]).toarray()\n",
    "X_test = vectorizer.transform(test_set[\"Reviews\"]).toarray()\n",
    "y_train = train_set[\"Satisfaction1\"].values\n",
    "y_test = test_set[\"Satisfaction1\"].values\n"
   ]
  },
  {
   "cell_type": "code",
   "execution_count": null,
   "id": "eababdfe",
   "metadata": {},
   "outputs": [],
   "source": []
  },
  {
   "cell_type": "code",
   "execution_count": null,
   "id": "60992b82",
   "metadata": {},
   "outputs": [],
   "source": [
    "\n",
    "vectorizer = TfidfVectorizer(max_features=2500, min_df=10, max_df=0.8)\n",
    "X_train = vectorizer.fit_transform(train_set[\"Reviews\"]).toarray()\n",
    "X_test = vectorizer.transform(test_set[\"Reviews\"]).toarray()\n",
    "y_train = train_set[\"Satisfaction1\"].values\n",
    "y_test = test_set[\"Satisfaction1\"].values\n",
    "\n",
    "model = RandomForestClassifier(min_samples_split=6, random_state=0)\n",
    "model.fit(X_train, y_train)\n",
    "\n",
    "acc_train = accuracy_score(y_train, model.predict(X_train))\n",
    "print(f\"\\nAccuracy in train set: {acc_train:.2}\")\n",
    "predictions = model.predict(X_test)\n",
    "acc_test = accuracy_score(y_test, predictions)\n",
    "print(f\"\\nAccuracy in test  set: {acc_test:.2}\\n\")\n",
    "print(classification_report(y_test, predictions))"
   ]
  },
  {
   "cell_type": "code",
   "execution_count": null,
   "id": "a32a3371",
   "metadata": {
    "scrolled": true
   },
   "outputs": [],
   "source": [
    "from sklearn import metrics  \n",
    "print(\"Accuracy:\", metrics.accuracy_score(y_test, y_train))\n"
   ]
  },
  {
   "cell_type": "code",
   "execution_count": null,
   "id": "1b507858",
   "metadata": {},
   "outputs": [],
   "source": []
  },
  {
   "cell_type": "code",
   "execution_count": null,
   "id": "53342c5a",
   "metadata": {},
   "outputs": [],
   "source": []
  },
  {
   "cell_type": "code",
   "execution_count": null,
   "id": "1374357f",
   "metadata": {},
   "outputs": [],
   "source": []
  },
  {
   "cell_type": "code",
   "execution_count": null,
   "id": "d2ef3171",
   "metadata": {},
   "outputs": [],
   "source": []
  },
  {
   "cell_type": "code",
   "execution_count": null,
   "id": "8fb878ea",
   "metadata": {},
   "outputs": [],
   "source": []
  },
  {
   "cell_type": "code",
   "execution_count": null,
   "id": "dcf1ca33",
   "metadata": {},
   "outputs": [],
   "source": []
  },
  {
   "cell_type": "code",
   "execution_count": null,
   "id": "f76c7eeb",
   "metadata": {},
   "outputs": [],
   "source": []
  },
  {
   "cell_type": "code",
   "execution_count": null,
   "id": "333e3a3c",
   "metadata": {},
   "outputs": [],
   "source": []
  },
  {
   "cell_type": "code",
   "execution_count": null,
   "id": "a7ff5f4b",
   "metadata": {},
   "outputs": [],
   "source": []
  },
  {
   "cell_type": "code",
   "execution_count": 101,
   "id": "332f886f",
   "metadata": {},
   "outputs": [],
   "source": [
    "from sklearn.metrics import confusion_matrix\n"
   ]
  },
  {
   "cell_type": "code",
   "execution_count": 90,
   "id": "5af0a688",
   "metadata": {
    "scrolled": true
   },
   "outputs": [
    {
     "data": {
      "image/png": "[encoded data removed]",
      "text/plain": [
       "<Figure size 1000x800 with 2 Axes>"
      ]
     },
     "metadata": {},
     "output_type": "display_data"
    }
   ],
   "source": [
    "# Calculate the correlation matrix\n",
    "correlation_matrix = data.corr()\n",
    "\n",
    "# Create a heatmap of the correlation matrix\n",
    "plt.figure(figsize=(10, 8))\n",
    "sns.heatmap(correlation_matrix, annot=True, cmap='coolwarm', fmt='.2f', linewidths=0.5)\n",
    "plt.title('Correlation Matrix Heatmap')\n",
    "plt.show()"
   ]
  },
  {
   "cell_type": "code",
   "execution_count": null,
   "id": "170e96bf",
   "metadata": {},
   "outputs": [],
   "source": []
  },
  {
   "cell_type": "markdown",
   "id": "17cdb81d",
   "metadata": {
    "papermill": {
     "duration": 0.03941,
     "end_time": "2023-05-09T03:21:43.433808",
     "exception": false,
     "start_time": "2023-05-09T03:21:43.394398",
     "status": "completed"
    },
    "tags": []
   },
   "source": [
    "#### Let us the clean the review specific to our drug"
   ]
  },
  {
   "cell_type": "code",
   "execution_count": 56,
   "id": "52962f38",
   "metadata": {
    "execution": {
     "iopub.execute_input": "2023-05-09T03:21:43.515115Z",
     "iopub.status.busy": "2023-05-09T03:21:43.513954Z",
     "iopub.status.idle": "2023-05-09T03:22:10.927664Z",
     "shell.execute_reply": "2023-05-09T03:22:10.926319Z"
    },
    "papermill": {
     "duration": 27.45765,
     "end_time": "2023-05-09T03:22:10.930361",
     "exception": false,
     "start_time": "2023-05-09T03:21:43.472711",
     "status": "completed"
    },
    "tags": []
   },
   "outputs": [],
   "source": [
    "data2[\"Reviews\"] = data2[\"Reviews\"].apply(clean_review)"
   ]
  },
  {
   "cell_type": "code",
   "execution_count": null,
   "id": "2d76d3b7",
   "metadata": {},
   "outputs": [],
   "source": []
  },
  {
   "cell_type": "code",
   "execution_count": null,
   "id": "ca79c07d",
   "metadata": {},
   "outputs": [],
   "source": []
  },
  {
   "cell_type": "code",
   "execution_count": null,
   "id": "db806b19",
   "metadata": {},
   "outputs": [],
   "source": []
  },
  {
   "cell_type": "code",
   "execution_count": null,
   "id": "cf9f8fc9",
   "metadata": {},
   "outputs": [],
   "source": []
  },
  {
   "cell_type": "code",
   "execution_count": null,
   "id": "fa23a7a8",
   "metadata": {},
   "outputs": [],
   "source": []
  },
  {
   "cell_type": "markdown",
   "id": "43e971ca",
   "metadata": {
    "papermill": {
     "duration": 0.039234,
     "end_time": "2023-05-09T03:22:11.008641",
     "exception": false,
     "start_time": "2023-05-09T03:22:10.969407",
     "status": "completed"
    },
    "tags": []
   },
   "source": [
    "#### Let us the rank the reviews by creating a function for the same"
   ]
  },
  {
   "cell_type": "code",
   "execution_count": null,
   "id": "cbf32172",
   "metadata": {
    "execution": {
     "iopub.execute_input": "2023-05-09T03:22:11.089541Z",
     "iopub.status.busy": "2023-05-09T03:22:11.088372Z",
     "iopub.status.idle": "2023-05-09T03:22:27.314587Z",
     "shell.execute_reply": "2023-05-09T03:22:27.313132Z"
    },
    "papermill": {
     "duration": 16.269752,
     "end_time": "2023-05-09T03:22:27.316993",
     "exception": false,
     "start_time": "2023-05-09T03:22:11.047241",
     "status": "completed"
    },
    "tags": []
   },
   "outputs": [],
   "source": []
  },
  {
   "cell_type": "code",
   "execution_count": null,
   "id": "8cf3ed06",
   "metadata": {},
   "outputs": [],
   "source": [
    "\n",
    "def predict_rank(text):\n",
    "    cleaned_text = [clean_review(text)]\n",
    "    padded_text = vectorizer.transform(cleaned_text)\n",
    "    p = model.predict(padded_text)[0]\n",
    "    if (p == 0):\n",
    "        return 0\n",
    "    else :\n",
    "        return 1\n",
    "    \n",
    "def predict_rank1(rank):\n",
    "    if (rank < 3):\n",
    "        return 0\n",
    "    else:\n",
    "        return 1\n",
    "    \n",
    "# predict_rank(\"I loved it\")\n",
    "data2['Reviews_Rank'] = data2['Satisfaction']\n",
    "data2.loc[data2['Satisfaction'] < 3, 'Reviews_Rank'] = data2.loc[data2['Satisfaction'] < 3, 'Reviews_Rank'].apply(predict_rank1)\n",
    "data2.loc[data2['Satisfaction'] > 3, 'Reviews_Rank'] = data2.loc[data2['Satisfaction'] > 3, 'Reviews_Rank'].apply(predict_rank1)\n",
    "data2.loc[data2['Satisfaction'] == 3, 'Reviews_Rank'] = data2.loc[data2['Satisfaction'] == 3, 'Reviews'].apply(predict_rank)\n",
    "data2['Reviews_Rank'].unique()"
   ]
  },
  {
   "cell_type": "code",
   "execution_count": null,
   "id": "1a81e6f9",
   "metadata": {},
   "outputs": [],
   "source": []
  },
  {
   "cell_type": "markdown",
   "id": "cce9e9f2",
   "metadata": {
    "papermill": {
     "duration": 0.040351,
     "end_time": "2023-05-09T03:22:27.398080",
     "exception": false,
     "start_time": "2023-05-09T03:22:27.357729",
     "status": "completed"
    },
    "tags": []
   },
   "source": [
    "#### Columns Name has unique values so will be dropped. Drug, DrugId, Condition, Date, Easeofuse, usefulcount, sides, Year will be dropped. Race, Sex, Year, Month, Dayofweek will be onehot encoded. Satisfaction will be segregated based on the values as nil, mild, moderate, sever, extreme based on values of 5, 4, 3, 2, 1 respectively. The assumption being that thet satisfaction is a parameter that gets affected by side effects in case of patients."
   ]
  },
  {
   "cell_type": "code",
   "execution_count": 59,
   "id": "81a37bda",
   "metadata": {
    "execution": {
     "iopub.execute_input": "2023-05-09T03:22:27.482906Z",
     "iopub.status.busy": "2023-05-09T03:22:27.481945Z",
     "iopub.status.idle": "2023-05-09T03:22:27.490188Z",
     "shell.execute_reply": "2023-05-09T03:22:27.489074Z"
    },
    "papermill": {
     "duration": 0.052799,
     "end_time": "2023-05-09T03:22:27.492480",
     "exception": false,
     "start_time": "2023-05-09T03:22:27.439681",
     "status": "completed"
    },
    "tags": []
   },
   "outputs": [],
   "source": [
    "data2.drop(['Name','Condition','Date','Drug','DrugId','EaseofUse','Sides','UsefulCount'], axis=1, inplace = True)"
   ]
  },
  {
   "cell_type": "code",
   "execution_count": 60,
   "id": "ab5511f4",
   "metadata": {
    "execution": {
     "iopub.execute_input": "2023-05-09T03:22:27.575077Z",
     "iopub.status.busy": "2023-05-09T03:22:27.573393Z",
     "iopub.status.idle": "2023-05-09T03:22:27.594672Z",
     "shell.execute_reply": "2023-05-09T03:22:27.593643Z"
    },
    "papermill": {
     "duration": 0.063824,
     "end_time": "2023-05-09T03:22:27.596926",
     "exception": false,
     "start_time": "2023-05-09T03:22:27.533102",
     "status": "completed"
    },
    "tags": []
   },
   "outputs": [
    {
     "data": {
      "text/plain": [
       "Index(['Race', 'Age', 'Effectiveness', 'Reviews', 'Satisfaction', 'Sex',\n",
       "       'Year', 'Month', 'day_of_week', 'UsefulCount_boxcox',\n",
       "       'EaseofUse_boxcox', 'Sideeffect', 'Reviews_Rank'],\n",
       "      dtype='object')"
      ]
     },
     "execution_count": 60,
     "metadata": {},
     "output_type": "execute_result"
    }
   ],
   "source": [
    "data2.Month = data2.Month.astype(str)\n",
    "data2.Year = data2.Year.astype(str)\n",
    "data_encod = data2[['Race', 'Age','Sex','Month','day_of_week']]\n",
    "data_num = data2[['Effectiveness']]\n",
    "data2.columns"
   ]
  },
  {
   "cell_type": "markdown",
   "id": "b4eca087",
   "metadata": {
    "papermill": {
     "duration": 0.039432,
     "end_time": "2023-05-09T03:22:27.675540",
     "exception": false,
     "start_time": "2023-05-09T03:22:27.636108",
     "status": "completed"
    },
    "tags": []
   },
   "source": [
    "# Encoding : One Hot Encoding"
   ]
  },
  {
   "cell_type": "code",
   "execution_count": 61,
   "id": "bbc9e523",
   "metadata": {
    "execution": {
     "iopub.execute_input": "2023-05-09T03:22:27.757472Z",
     "iopub.status.busy": "2023-05-09T03:22:27.756774Z",
     "iopub.status.idle": "2023-05-09T03:22:27.788099Z",
     "shell.execute_reply": "2023-05-09T03:22:27.787110Z"
    },
    "papermill": {
     "duration": 0.075594,
     "end_time": "2023-05-09T03:22:27.790469",
     "exception": false,
     "start_time": "2023-05-09T03:22:27.714875",
     "status": "completed"
    },
    "tags": []
   },
   "outputs": [
    {
     "data": {
      "text/html": [
       "<div>\n",
       "<style scoped>\n",
       "    .dataframe tbody tr th:only-of-type {\n",
       "        vertical-align: middle;\n",
       "    }\n",
       "\n",
       "    .dataframe tbody tr th {\n",
       "        vertical-align: top;\n",
       "    }\n",
       "\n",
       "    .dataframe thead th {\n",
       "        text-align: right;\n",
       "    }\n",
       "</style>\n",
       "<table border=\"1\" class=\"dataframe\">\n",
       "  <thead>\n",
       "    <tr style=\"text-align: right;\">\n",
       "      <th></th>\n",
       "      <th>Race_Asian</th>\n",
       "      <th>Race_Black</th>\n",
       "      <th>Race_Hispanic</th>\n",
       "      <th>Race_White</th>\n",
       "      <th>Age_0-2</th>\n",
       "      <th>Age_13-18</th>\n",
       "      <th>Age_19-24</th>\n",
       "      <th>Age_25-34</th>\n",
       "      <th>Age_35-44</th>\n",
       "      <th>Age_45-54</th>\n",
       "      <th>...</th>\n",
       "      <th>Month_7</th>\n",
       "      <th>Month_8</th>\n",
       "      <th>Month_9</th>\n",
       "      <th>day_of_week_Friday</th>\n",
       "      <th>day_of_week_Monday</th>\n",
       "      <th>day_of_week_Saturday</th>\n",
       "      <th>day_of_week_Sunday</th>\n",
       "      <th>day_of_week_Thursday</th>\n",
       "      <th>day_of_week_Tuesday</th>\n",
       "      <th>day_of_week_Wednesday</th>\n",
       "    </tr>\n",
       "  </thead>\n",
       "  <tbody>\n",
       "    <tr>\n",
       "      <th>9203</th>\n",
       "      <td>0</td>\n",
       "      <td>0</td>\n",
       "      <td>0</td>\n",
       "      <td>1</td>\n",
       "      <td>0</td>\n",
       "      <td>0</td>\n",
       "      <td>0</td>\n",
       "      <td>0</td>\n",
       "      <td>0</td>\n",
       "      <td>0</td>\n",
       "      <td>...</td>\n",
       "      <td>0</td>\n",
       "      <td>0</td>\n",
       "      <td>0</td>\n",
       "      <td>0</td>\n",
       "      <td>0</td>\n",
       "      <td>1</td>\n",
       "      <td>0</td>\n",
       "      <td>0</td>\n",
       "      <td>0</td>\n",
       "      <td>0</td>\n",
       "    </tr>\n",
       "    <tr>\n",
       "      <th>9209</th>\n",
       "      <td>0</td>\n",
       "      <td>0</td>\n",
       "      <td>1</td>\n",
       "      <td>0</td>\n",
       "      <td>0</td>\n",
       "      <td>0</td>\n",
       "      <td>0</td>\n",
       "      <td>0</td>\n",
       "      <td>0</td>\n",
       "      <td>0</td>\n",
       "      <td>...</td>\n",
       "      <td>0</td>\n",
       "      <td>0</td>\n",
       "      <td>0</td>\n",
       "      <td>0</td>\n",
       "      <td>0</td>\n",
       "      <td>0</td>\n",
       "      <td>0</td>\n",
       "      <td>0</td>\n",
       "      <td>1</td>\n",
       "      <td>0</td>\n",
       "    </tr>\n",
       "    <tr>\n",
       "      <th>9215</th>\n",
       "      <td>0</td>\n",
       "      <td>0</td>\n",
       "      <td>0</td>\n",
       "      <td>1</td>\n",
       "      <td>0</td>\n",
       "      <td>0</td>\n",
       "      <td>0</td>\n",
       "      <td>0</td>\n",
       "      <td>0</td>\n",
       "      <td>0</td>\n",
       "      <td>...</td>\n",
       "      <td>0</td>\n",
       "      <td>0</td>\n",
       "      <td>0</td>\n",
       "      <td>0</td>\n",
       "      <td>0</td>\n",
       "      <td>0</td>\n",
       "      <td>0</td>\n",
       "      <td>1</td>\n",
       "      <td>0</td>\n",
       "      <td>0</td>\n",
       "    </tr>\n",
       "    <tr>\n",
       "      <th>9221</th>\n",
       "      <td>0</td>\n",
       "      <td>0</td>\n",
       "      <td>0</td>\n",
       "      <td>1</td>\n",
       "      <td>0</td>\n",
       "      <td>0</td>\n",
       "      <td>0</td>\n",
       "      <td>0</td>\n",
       "      <td>0</td>\n",
       "      <td>0</td>\n",
       "      <td>...</td>\n",
       "      <td>0</td>\n",
       "      <td>0</td>\n",
       "      <td>0</td>\n",
       "      <td>0</td>\n",
       "      <td>0</td>\n",
       "      <td>0</td>\n",
       "      <td>1</td>\n",
       "      <td>0</td>\n",
       "      <td>0</td>\n",
       "      <td>0</td>\n",
       "    </tr>\n",
       "    <tr>\n",
       "      <th>9227</th>\n",
       "      <td>0</td>\n",
       "      <td>0</td>\n",
       "      <td>0</td>\n",
       "      <td>1</td>\n",
       "      <td>0</td>\n",
       "      <td>0</td>\n",
       "      <td>0</td>\n",
       "      <td>0</td>\n",
       "      <td>0</td>\n",
       "      <td>0</td>\n",
       "      <td>...</td>\n",
       "      <td>0</td>\n",
       "      <td>1</td>\n",
       "      <td>0</td>\n",
       "      <td>1</td>\n",
       "      <td>0</td>\n",
       "      <td>0</td>\n",
       "      <td>0</td>\n",
       "      <td>0</td>\n",
       "      <td>0</td>\n",
       "      <td>0</td>\n",
       "    </tr>\n",
       "    <tr>\n",
       "      <th>...</th>\n",
       "      <td>...</td>\n",
       "      <td>...</td>\n",
       "      <td>...</td>\n",
       "      <td>...</td>\n",
       "      <td>...</td>\n",
       "      <td>...</td>\n",
       "      <td>...</td>\n",
       "      <td>...</td>\n",
       "      <td>...</td>\n",
       "      <td>...</td>\n",
       "      <td>...</td>\n",
       "      <td>...</td>\n",
       "      <td>...</td>\n",
       "      <td>...</td>\n",
       "      <td>...</td>\n",
       "      <td>...</td>\n",
       "      <td>...</td>\n",
       "      <td>...</td>\n",
       "      <td>...</td>\n",
       "      <td>...</td>\n",
       "      <td>...</td>\n",
       "    </tr>\n",
       "    <tr>\n",
       "      <th>18981</th>\n",
       "      <td>0</td>\n",
       "      <td>0</td>\n",
       "      <td>1</td>\n",
       "      <td>0</td>\n",
       "      <td>0</td>\n",
       "      <td>0</td>\n",
       "      <td>0</td>\n",
       "      <td>1</td>\n",
       "      <td>0</td>\n",
       "      <td>0</td>\n",
       "      <td>...</td>\n",
       "      <td>0</td>\n",
       "      <td>0</td>\n",
       "      <td>0</td>\n",
       "      <td>0</td>\n",
       "      <td>0</td>\n",
       "      <td>0</td>\n",
       "      <td>1</td>\n",
       "      <td>0</td>\n",
       "      <td>0</td>\n",
       "      <td>0</td>\n",
       "    </tr>\n",
       "    <tr>\n",
       "      <th>18982</th>\n",
       "      <td>1</td>\n",
       "      <td>0</td>\n",
       "      <td>0</td>\n",
       "      <td>0</td>\n",
       "      <td>0</td>\n",
       "      <td>0</td>\n",
       "      <td>0</td>\n",
       "      <td>0</td>\n",
       "      <td>0</td>\n",
       "      <td>1</td>\n",
       "      <td>...</td>\n",
       "      <td>0</td>\n",
       "      <td>0</td>\n",
       "      <td>0</td>\n",
       "      <td>0</td>\n",
       "      <td>0</td>\n",
       "      <td>1</td>\n",
       "      <td>0</td>\n",
       "      <td>0</td>\n",
       "      <td>0</td>\n",
       "      <td>0</td>\n",
       "    </tr>\n",
       "    <tr>\n",
       "      <th>18984</th>\n",
       "      <td>0</td>\n",
       "      <td>1</td>\n",
       "      <td>0</td>\n",
       "      <td>0</td>\n",
       "      <td>0</td>\n",
       "      <td>0</td>\n",
       "      <td>0</td>\n",
       "      <td>0</td>\n",
       "      <td>0</td>\n",
       "      <td>1</td>\n",
       "      <td>...</td>\n",
       "      <td>0</td>\n",
       "      <td>0</td>\n",
       "      <td>0</td>\n",
       "      <td>1</td>\n",
       "      <td>0</td>\n",
       "      <td>0</td>\n",
       "      <td>0</td>\n",
       "      <td>0</td>\n",
       "      <td>0</td>\n",
       "      <td>0</td>\n",
       "    </tr>\n",
       "    <tr>\n",
       "      <th>18985</th>\n",
       "      <td>0</td>\n",
       "      <td>0</td>\n",
       "      <td>0</td>\n",
       "      <td>1</td>\n",
       "      <td>0</td>\n",
       "      <td>0</td>\n",
       "      <td>0</td>\n",
       "      <td>1</td>\n",
       "      <td>0</td>\n",
       "      <td>0</td>\n",
       "      <td>...</td>\n",
       "      <td>0</td>\n",
       "      <td>0</td>\n",
       "      <td>0</td>\n",
       "      <td>1</td>\n",
       "      <td>0</td>\n",
       "      <td>0</td>\n",
       "      <td>0</td>\n",
       "      <td>0</td>\n",
       "      <td>0</td>\n",
       "      <td>0</td>\n",
       "    </tr>\n",
       "    <tr>\n",
       "      <th>18990</th>\n",
       "      <td>0</td>\n",
       "      <td>1</td>\n",
       "      <td>0</td>\n",
       "      <td>0</td>\n",
       "      <td>0</td>\n",
       "      <td>0</td>\n",
       "      <td>0</td>\n",
       "      <td>0</td>\n",
       "      <td>0</td>\n",
       "      <td>0</td>\n",
       "      <td>...</td>\n",
       "      <td>0</td>\n",
       "      <td>0</td>\n",
       "      <td>0</td>\n",
       "      <td>0</td>\n",
       "      <td>1</td>\n",
       "      <td>0</td>\n",
       "      <td>0</td>\n",
       "      <td>0</td>\n",
       "      <td>0</td>\n",
       "      <td>0</td>\n",
       "    </tr>\n",
       "  </tbody>\n",
       "</table>\n",
       "<p>6526 rows × 34 columns</p>\n",
       "</div>"
      ],
      "text/plain": [
       "       Race_Asian  Race_Black  Race_Hispanic  Race_White  Age_0-2  Age_13-18  \\\n",
       "9203            0           0              0           1        0          0   \n",
       "9209            0           0              1           0        0          0   \n",
       "9215            0           0              0           1        0          0   \n",
       "9221            0           0              0           1        0          0   \n",
       "9227            0           0              0           1        0          0   \n",
       "...           ...         ...            ...         ...      ...        ...   \n",
       "18981           0           0              1           0        0          0   \n",
       "18982           1           0              0           0        0          0   \n",
       "18984           0           1              0           0        0          0   \n",
       "18985           0           0              0           1        0          0   \n",
       "18990           0           1              0           0        0          0   \n",
       "\n",
       "       Age_19-24  Age_25-34  Age_35-44  Age_45-54  ...  Month_7  Month_8  \\\n",
       "9203           0          0          0          0  ...        0        0   \n",
       "9209           0          0          0          0  ...        0        0   \n",
       "9215           0          0          0          0  ...        0        0   \n",
       "9221           0          0          0          0  ...        0        0   \n",
       "9227           0          0          0          0  ...        0        1   \n",
       "...          ...        ...        ...        ...  ...      ...      ...   \n",
       "18981          0          1          0          0  ...        0        0   \n",
       "18982          0          0          0          1  ...        0        0   \n",
       "18984          0          0          0          1  ...        0        0   \n",
       "18985          0          1          0          0  ...        0        0   \n",
       "18990          0          0          0          0  ...        0        0   \n",
       "\n",
       "       Month_9  day_of_week_Friday  day_of_week_Monday  day_of_week_Saturday  \\\n",
       "9203         0                   0                   0                     1   \n",
       "9209         0                   0                   0                     0   \n",
       "9215         0                   0                   0                     0   \n",
       "9221         0                   0                   0                     0   \n",
       "9227         0                   1                   0                     0   \n",
       "...        ...                 ...                 ...                   ...   \n",
       "18981        0                   0                   0                     0   \n",
       "18982        0                   0                   0                     1   \n",
       "18984        0                   1                   0                     0   \n",
       "18985        0                   1                   0                     0   \n",
       "18990        0                   0                   1                     0   \n",
       "\n",
       "       day_of_week_Sunday  day_of_week_Thursday  day_of_week_Tuesday  \\\n",
       "9203                    0                     0                    0   \n",
       "9209                    0                     0                    1   \n",
       "9215                    0                     1                    0   \n",
       "9221                    1                     0                    0   \n",
       "9227                    0                     0                    0   \n",
       "...                   ...                   ...                  ...   \n",
       "18981                   1                     0                    0   \n",
       "18982                   0                     0                    0   \n",
       "18984                   0                     0                    0   \n",
       "18985                   0                     0                    0   \n",
       "18990                   0                     0                    0   \n",
       "\n",
       "       day_of_week_Wednesday  \n",
       "9203                       0  \n",
       "9209                       0  \n",
       "9215                       0  \n",
       "9221                       0  \n",
       "9227                       0  \n",
       "...                      ...  \n",
       "18981                      0  \n",
       "18982                      0  \n",
       "18984                      0  \n",
       "18985                      0  \n",
       "18990                      0  \n",
       "\n",
       "[6526 rows x 34 columns]"
      ]
     },
     "execution_count": 61,
     "metadata": {},
     "output_type": "execute_result"
    }
   ],
   "source": [
    "data_encod = pd.get_dummies(data_encod)\n",
    "data_encod"
   ]
  },
  {
   "cell_type": "markdown",
   "id": "ce46dfd0",
   "metadata": {
    "papermill": {
     "duration": 0.039605,
     "end_time": "2023-05-09T03:22:27.870126",
     "exception": false,
     "start_time": "2023-05-09T03:22:27.830521",
     "status": "completed"
    },
    "tags": []
   },
   "source": [
    "# Scaling : Standard Scaling"
   ]
  },
  {
   "cell_type": "code",
   "execution_count": 62,
   "id": "695d8998",
   "metadata": {
    "execution": {
     "iopub.execute_input": "2023-05-09T03:22:27.952928Z",
     "iopub.status.busy": "2023-05-09T03:22:27.952514Z",
     "iopub.status.idle": "2023-05-09T03:22:27.968077Z",
     "shell.execute_reply": "2023-05-09T03:22:27.966748Z"
    },
    "papermill": {
     "duration": 0.060836,
     "end_time": "2023-05-09T03:22:27.970543",
     "exception": false,
     "start_time": "2023-05-09T03:22:27.909707",
     "status": "completed"
    },
    "tags": []
   },
   "outputs": [
    {
     "data": {
      "text/html": [
       "<div>\n",
       "<style scoped>\n",
       "    .dataframe tbody tr th:only-of-type {\n",
       "        vertical-align: middle;\n",
       "    }\n",
       "\n",
       "    .dataframe tbody tr th {\n",
       "        vertical-align: top;\n",
       "    }\n",
       "\n",
       "    .dataframe thead th {\n",
       "        text-align: right;\n",
       "    }\n",
       "</style>\n",
       "<table border=\"1\" class=\"dataframe\">\n",
       "  <thead>\n",
       "    <tr style=\"text-align: right;\">\n",
       "      <th></th>\n",
       "      <th>Effectiveness</th>\n",
       "    </tr>\n",
       "  </thead>\n",
       "  <tbody>\n",
       "    <tr>\n",
       "      <th>0</th>\n",
       "      <td>0.517259</td>\n",
       "    </tr>\n",
       "    <tr>\n",
       "      <th>1</th>\n",
       "      <td>1.226128</td>\n",
       "    </tr>\n",
       "    <tr>\n",
       "      <th>2</th>\n",
       "      <td>1.226128</td>\n",
       "    </tr>\n",
       "    <tr>\n",
       "      <th>3</th>\n",
       "      <td>0.517259</td>\n",
       "    </tr>\n",
       "    <tr>\n",
       "      <th>4</th>\n",
       "      <td>-1.609348</td>\n",
       "    </tr>\n",
       "    <tr>\n",
       "      <th>...</th>\n",
       "      <td>...</td>\n",
       "    </tr>\n",
       "    <tr>\n",
       "      <th>6521</th>\n",
       "      <td>-1.609348</td>\n",
       "    </tr>\n",
       "    <tr>\n",
       "      <th>6522</th>\n",
       "      <td>-1.609348</td>\n",
       "    </tr>\n",
       "    <tr>\n",
       "      <th>6523</th>\n",
       "      <td>1.226128</td>\n",
       "    </tr>\n",
       "    <tr>\n",
       "      <th>6524</th>\n",
       "      <td>-1.609348</td>\n",
       "    </tr>\n",
       "    <tr>\n",
       "      <th>6525</th>\n",
       "      <td>-1.609348</td>\n",
       "    </tr>\n",
       "  </tbody>\n",
       "</table>\n",
       "<p>6526 rows × 1 columns</p>\n",
       "</div>"
      ],
      "text/plain": [
       "      Effectiveness\n",
       "0          0.517259\n",
       "1          1.226128\n",
       "2          1.226128\n",
       "3          0.517259\n",
       "4         -1.609348\n",
       "...             ...\n",
       "6521      -1.609348\n",
       "6522      -1.609348\n",
       "6523       1.226128\n",
       "6524      -1.609348\n",
       "6525      -1.609348\n",
       "\n",
       "[6526 rows x 1 columns]"
      ]
     },
     "execution_count": 62,
     "metadata": {},
     "output_type": "execute_result"
    }
   ],
   "source": [
    "from sklearn.preprocessing import StandardScaler\n",
    "mm = StandardScaler()\n",
    "data_num = mm.fit_transform(data_num)\n",
    "data_num = pd.DataFrame(data_num, columns = ['Effectiveness'])\n",
    "data_num"
   ]
  },
  {
   "cell_type": "code",
   "execution_count": 63,
   "id": "9a8b9f8f",
   "metadata": {
    "execution": {
     "iopub.execute_input": "2023-05-09T03:22:28.053746Z",
     "iopub.status.busy": "2023-05-09T03:22:28.053156Z",
     "iopub.status.idle": "2023-05-09T03:22:28.075435Z",
     "shell.execute_reply": "2023-05-09T03:22:28.074648Z"
    },
    "papermill": {
     "duration": 0.066603,
     "end_time": "2023-05-09T03:22:28.077390",
     "exception": false,
     "start_time": "2023-05-09T03:22:28.010787",
     "status": "completed"
    },
    "tags": []
   },
   "outputs": [
    {
     "data": {
      "text/html": [
       "<div>\n",
       "<style scoped>\n",
       "    .dataframe tbody tr th:only-of-type {\n",
       "        vertical-align: middle;\n",
       "    }\n",
       "\n",
       "    .dataframe tbody tr th {\n",
       "        vertical-align: top;\n",
       "    }\n",
       "\n",
       "    .dataframe thead th {\n",
       "        text-align: right;\n",
       "    }\n",
       "</style>\n",
       "<table border=\"1\" class=\"dataframe\">\n",
       "  <thead>\n",
       "    <tr style=\"text-align: right;\">\n",
       "      <th></th>\n",
       "      <th>Race_Asian</th>\n",
       "      <th>Race_Black</th>\n",
       "      <th>Race_Hispanic</th>\n",
       "      <th>Race_White</th>\n",
       "      <th>Age_0-2</th>\n",
       "      <th>Age_13-18</th>\n",
       "      <th>Age_19-24</th>\n",
       "      <th>Age_25-34</th>\n",
       "      <th>Age_35-44</th>\n",
       "      <th>Age_45-54</th>\n",
       "      <th>...</th>\n",
       "      <th>Month_8</th>\n",
       "      <th>Month_9</th>\n",
       "      <th>day_of_week_Friday</th>\n",
       "      <th>day_of_week_Monday</th>\n",
       "      <th>day_of_week_Saturday</th>\n",
       "      <th>day_of_week_Sunday</th>\n",
       "      <th>day_of_week_Thursday</th>\n",
       "      <th>day_of_week_Tuesday</th>\n",
       "      <th>day_of_week_Wednesday</th>\n",
       "      <th>Effectiveness</th>\n",
       "    </tr>\n",
       "  </thead>\n",
       "  <tbody>\n",
       "    <tr>\n",
       "      <th>9203</th>\n",
       "      <td>0</td>\n",
       "      <td>0</td>\n",
       "      <td>0</td>\n",
       "      <td>1</td>\n",
       "      <td>0</td>\n",
       "      <td>0</td>\n",
       "      <td>0</td>\n",
       "      <td>0</td>\n",
       "      <td>0</td>\n",
       "      <td>0</td>\n",
       "      <td>...</td>\n",
       "      <td>0</td>\n",
       "      <td>0</td>\n",
       "      <td>0</td>\n",
       "      <td>0</td>\n",
       "      <td>1</td>\n",
       "      <td>0</td>\n",
       "      <td>0</td>\n",
       "      <td>0</td>\n",
       "      <td>0</td>\n",
       "      <td>0.517259</td>\n",
       "    </tr>\n",
       "    <tr>\n",
       "      <th>9209</th>\n",
       "      <td>0</td>\n",
       "      <td>0</td>\n",
       "      <td>1</td>\n",
       "      <td>0</td>\n",
       "      <td>0</td>\n",
       "      <td>0</td>\n",
       "      <td>0</td>\n",
       "      <td>0</td>\n",
       "      <td>0</td>\n",
       "      <td>0</td>\n",
       "      <td>...</td>\n",
       "      <td>0</td>\n",
       "      <td>0</td>\n",
       "      <td>0</td>\n",
       "      <td>0</td>\n",
       "      <td>0</td>\n",
       "      <td>0</td>\n",
       "      <td>0</td>\n",
       "      <td>1</td>\n",
       "      <td>0</td>\n",
       "      <td>1.226128</td>\n",
       "    </tr>\n",
       "    <tr>\n",
       "      <th>9215</th>\n",
       "      <td>0</td>\n",
       "      <td>0</td>\n",
       "      <td>0</td>\n",
       "      <td>1</td>\n",
       "      <td>0</td>\n",
       "      <td>0</td>\n",
       "      <td>0</td>\n",
       "      <td>0</td>\n",
       "      <td>0</td>\n",
       "      <td>0</td>\n",
       "      <td>...</td>\n",
       "      <td>0</td>\n",
       "      <td>0</td>\n",
       "      <td>0</td>\n",
       "      <td>0</td>\n",
       "      <td>0</td>\n",
       "      <td>0</td>\n",
       "      <td>1</td>\n",
       "      <td>0</td>\n",
       "      <td>0</td>\n",
       "      <td>1.226128</td>\n",
       "    </tr>\n",
       "    <tr>\n",
       "      <th>9221</th>\n",
       "      <td>0</td>\n",
       "      <td>0</td>\n",
       "      <td>0</td>\n",
       "      <td>1</td>\n",
       "      <td>0</td>\n",
       "      <td>0</td>\n",
       "      <td>0</td>\n",
       "      <td>0</td>\n",
       "      <td>0</td>\n",
       "      <td>0</td>\n",
       "      <td>...</td>\n",
       "      <td>0</td>\n",
       "      <td>0</td>\n",
       "      <td>0</td>\n",
       "      <td>0</td>\n",
       "      <td>0</td>\n",
       "      <td>1</td>\n",
       "      <td>0</td>\n",
       "      <td>0</td>\n",
       "      <td>0</td>\n",
       "      <td>0.517259</td>\n",
       "    </tr>\n",
       "    <tr>\n",
       "      <th>9227</th>\n",
       "      <td>0</td>\n",
       "      <td>0</td>\n",
       "      <td>0</td>\n",
       "      <td>1</td>\n",
       "      <td>0</td>\n",
       "      <td>0</td>\n",
       "      <td>0</td>\n",
       "      <td>0</td>\n",
       "      <td>0</td>\n",
       "      <td>0</td>\n",
       "      <td>...</td>\n",
       "      <td>1</td>\n",
       "      <td>0</td>\n",
       "      <td>1</td>\n",
       "      <td>0</td>\n",
       "      <td>0</td>\n",
       "      <td>0</td>\n",
       "      <td>0</td>\n",
       "      <td>0</td>\n",
       "      <td>0</td>\n",
       "      <td>-1.609348</td>\n",
       "    </tr>\n",
       "    <tr>\n",
       "      <th>...</th>\n",
       "      <td>...</td>\n",
       "      <td>...</td>\n",
       "      <td>...</td>\n",
       "      <td>...</td>\n",
       "      <td>...</td>\n",
       "      <td>...</td>\n",
       "      <td>...</td>\n",
       "      <td>...</td>\n",
       "      <td>...</td>\n",
       "      <td>...</td>\n",
       "      <td>...</td>\n",
       "      <td>...</td>\n",
       "      <td>...</td>\n",
       "      <td>...</td>\n",
       "      <td>...</td>\n",
       "      <td>...</td>\n",
       "      <td>...</td>\n",
       "      <td>...</td>\n",
       "      <td>...</td>\n",
       "      <td>...</td>\n",
       "      <td>...</td>\n",
       "    </tr>\n",
       "    <tr>\n",
       "      <th>18981</th>\n",
       "      <td>0</td>\n",
       "      <td>0</td>\n",
       "      <td>1</td>\n",
       "      <td>0</td>\n",
       "      <td>0</td>\n",
       "      <td>0</td>\n",
       "      <td>0</td>\n",
       "      <td>1</td>\n",
       "      <td>0</td>\n",
       "      <td>0</td>\n",
       "      <td>...</td>\n",
       "      <td>0</td>\n",
       "      <td>0</td>\n",
       "      <td>0</td>\n",
       "      <td>0</td>\n",
       "      <td>0</td>\n",
       "      <td>1</td>\n",
       "      <td>0</td>\n",
       "      <td>0</td>\n",
       "      <td>0</td>\n",
       "      <td>-1.609348</td>\n",
       "    </tr>\n",
       "    <tr>\n",
       "      <th>18982</th>\n",
       "      <td>1</td>\n",
       "      <td>0</td>\n",
       "      <td>0</td>\n",
       "      <td>0</td>\n",
       "      <td>0</td>\n",
       "      <td>0</td>\n",
       "      <td>0</td>\n",
       "      <td>0</td>\n",
       "      <td>0</td>\n",
       "      <td>1</td>\n",
       "      <td>...</td>\n",
       "      <td>0</td>\n",
       "      <td>0</td>\n",
       "      <td>0</td>\n",
       "      <td>0</td>\n",
       "      <td>1</td>\n",
       "      <td>0</td>\n",
       "      <td>0</td>\n",
       "      <td>0</td>\n",
       "      <td>0</td>\n",
       "      <td>-1.609348</td>\n",
       "    </tr>\n",
       "    <tr>\n",
       "      <th>18984</th>\n",
       "      <td>0</td>\n",
       "      <td>1</td>\n",
       "      <td>0</td>\n",
       "      <td>0</td>\n",
       "      <td>0</td>\n",
       "      <td>0</td>\n",
       "      <td>0</td>\n",
       "      <td>0</td>\n",
       "      <td>0</td>\n",
       "      <td>1</td>\n",
       "      <td>...</td>\n",
       "      <td>0</td>\n",
       "      <td>0</td>\n",
       "      <td>1</td>\n",
       "      <td>0</td>\n",
       "      <td>0</td>\n",
       "      <td>0</td>\n",
       "      <td>0</td>\n",
       "      <td>0</td>\n",
       "      <td>0</td>\n",
       "      <td>1.226128</td>\n",
       "    </tr>\n",
       "    <tr>\n",
       "      <th>18985</th>\n",
       "      <td>0</td>\n",
       "      <td>0</td>\n",
       "      <td>0</td>\n",
       "      <td>1</td>\n",
       "      <td>0</td>\n",
       "      <td>0</td>\n",
       "      <td>0</td>\n",
       "      <td>1</td>\n",
       "      <td>0</td>\n",
       "      <td>0</td>\n",
       "      <td>...</td>\n",
       "      <td>0</td>\n",
       "      <td>0</td>\n",
       "      <td>1</td>\n",
       "      <td>0</td>\n",
       "      <td>0</td>\n",
       "      <td>0</td>\n",
       "      <td>0</td>\n",
       "      <td>0</td>\n",
       "      <td>0</td>\n",
       "      <td>-1.609348</td>\n",
       "    </tr>\n",
       "    <tr>\n",
       "      <th>18990</th>\n",
       "      <td>0</td>\n",
       "      <td>1</td>\n",
       "      <td>0</td>\n",
       "      <td>0</td>\n",
       "      <td>0</td>\n",
       "      <td>0</td>\n",
       "      <td>0</td>\n",
       "      <td>0</td>\n",
       "      <td>0</td>\n",
       "      <td>0</td>\n",
       "      <td>...</td>\n",
       "      <td>0</td>\n",
       "      <td>0</td>\n",
       "      <td>0</td>\n",
       "      <td>1</td>\n",
       "      <td>0</td>\n",
       "      <td>0</td>\n",
       "      <td>0</td>\n",
       "      <td>0</td>\n",
       "      <td>0</td>\n",
       "      <td>-1.609348</td>\n",
       "    </tr>\n",
       "  </tbody>\n",
       "</table>\n",
       "<p>6526 rows × 35 columns</p>\n",
       "</div>"
      ],
      "text/plain": [
       "       Race_Asian  Race_Black  Race_Hispanic  Race_White  Age_0-2  Age_13-18  \\\n",
       "9203            0           0              0           1        0          0   \n",
       "9209            0           0              1           0        0          0   \n",
       "9215            0           0              0           1        0          0   \n",
       "9221            0           0              0           1        0          0   \n",
       "9227            0           0              0           1        0          0   \n",
       "...           ...         ...            ...         ...      ...        ...   \n",
       "18981           0           0              1           0        0          0   \n",
       "18982           1           0              0           0        0          0   \n",
       "18984           0           1              0           0        0          0   \n",
       "18985           0           0              0           1        0          0   \n",
       "18990           0           1              0           0        0          0   \n",
       "\n",
       "       Age_19-24  Age_25-34  Age_35-44  Age_45-54  ...  Month_8  Month_9  \\\n",
       "9203           0          0          0          0  ...        0        0   \n",
       "9209           0          0          0          0  ...        0        0   \n",
       "9215           0          0          0          0  ...        0        0   \n",
       "9221           0          0          0          0  ...        0        0   \n",
       "9227           0          0          0          0  ...        1        0   \n",
       "...          ...        ...        ...        ...  ...      ...      ...   \n",
       "18981          0          1          0          0  ...        0        0   \n",
       "18982          0          0          0          1  ...        0        0   \n",
       "18984          0          0          0          1  ...        0        0   \n",
       "18985          0          1          0          0  ...        0        0   \n",
       "18990          0          0          0          0  ...        0        0   \n",
       "\n",
       "       day_of_week_Friday  day_of_week_Monday  day_of_week_Saturday  \\\n",
       "9203                    0                   0                     1   \n",
       "9209                    0                   0                     0   \n",
       "9215                    0                   0                     0   \n",
       "9221                    0                   0                     0   \n",
       "9227                    1                   0                     0   \n",
       "...                   ...                 ...                   ...   \n",
       "18981                   0                   0                     0   \n",
       "18982                   0                   0                     1   \n",
       "18984                   1                   0                     0   \n",
       "18985                   1                   0                     0   \n",
       "18990                   0                   1                     0   \n",
       "\n",
       "       day_of_week_Sunday  day_of_week_Thursday  day_of_week_Tuesday  \\\n",
       "9203                    0                     0                    0   \n",
       "9209                    0                     0                    1   \n",
       "9215                    0                     1                    0   \n",
       "9221                    1                     0                    0   \n",
       "9227                    0                     0                    0   \n",
       "...                   ...                   ...                  ...   \n",
       "18981                   1                     0                    0   \n",
       "18982                   0                     0                    0   \n",
       "18984                   0                     0                    0   \n",
       "18985                   0                     0                    0   \n",
       "18990                   0                     0                    0   \n",
       "\n",
       "       day_of_week_Wednesday  Effectiveness  \n",
       "9203                       0       0.517259  \n",
       "9209                       0       1.226128  \n",
       "9215                       0       1.226128  \n",
       "9221                       0       0.517259  \n",
       "9227                       0      -1.609348  \n",
       "...                      ...            ...  \n",
       "18981                      0      -1.609348  \n",
       "18982                      0      -1.609348  \n",
       "18984                      0       1.226128  \n",
       "18985                      0      -1.609348  \n",
       "18990                      0      -1.609348  \n",
       "\n",
       "[6526 rows x 35 columns]"
      ]
     },
     "execution_count": 63,
     "metadata": {},
     "output_type": "execute_result"
    }
   ],
   "source": [
    "data3 = data_encod\n",
    "data3['Effectiveness'] = data_num.values\n",
    "data3"
   ]
  },
  {
   "cell_type": "markdown",
   "id": "c6861fcd",
   "metadata": {
    "papermill": {
     "duration": 0.040911,
     "end_time": "2023-05-09T03:22:28.159142",
     "exception": false,
     "start_time": "2023-05-09T03:22:28.118231",
     "status": "completed"
    },
    "tags": []
   },
   "source": [
    "#### So finally what I suppose is the following features which are race, age, review rank and effectiveness can form the dataset which will predict the sideeffect of the user."
   ]
  },
  {
   "cell_type": "code",
   "execution_count": 64,
   "id": "67eebe8a",
   "metadata": {
    "execution": {
     "iopub.execute_input": "2023-05-09T03:22:28.243776Z",
     "iopub.status.busy": "2023-05-09T03:22:28.243181Z",
     "iopub.status.idle": "2023-05-09T03:22:28.267577Z",
     "shell.execute_reply": "2023-05-09T03:22:28.266724Z"
    },
    "papermill": {
     "duration": 0.069351,
     "end_time": "2023-05-09T03:22:28.269610",
     "exception": false,
     "start_time": "2023-05-09T03:22:28.200259",
     "status": "completed"
    },
    "tags": []
   },
   "outputs": [
    {
     "data": {
      "text/html": [
       "<div>\n",
       "<style scoped>\n",
       "    .dataframe tbody tr th:only-of-type {\n",
       "        vertical-align: middle;\n",
       "    }\n",
       "\n",
       "    .dataframe tbody tr th {\n",
       "        vertical-align: top;\n",
       "    }\n",
       "\n",
       "    .dataframe thead th {\n",
       "        text-align: right;\n",
       "    }\n",
       "</style>\n",
       "<table border=\"1\" class=\"dataframe\">\n",
       "  <thead>\n",
       "    <tr style=\"text-align: right;\">\n",
       "      <th></th>\n",
       "      <th>Race_Asian</th>\n",
       "      <th>Race_Black</th>\n",
       "      <th>Race_Hispanic</th>\n",
       "      <th>Race_White</th>\n",
       "      <th>Age_0-2</th>\n",
       "      <th>Age_13-18</th>\n",
       "      <th>Age_19-24</th>\n",
       "      <th>Age_25-34</th>\n",
       "      <th>Age_35-44</th>\n",
       "      <th>Age_45-54</th>\n",
       "      <th>...</th>\n",
       "      <th>day_of_week_Monday</th>\n",
       "      <th>day_of_week_Saturday</th>\n",
       "      <th>day_of_week_Sunday</th>\n",
       "      <th>day_of_week_Thursday</th>\n",
       "      <th>day_of_week_Tuesday</th>\n",
       "      <th>day_of_week_Wednesday</th>\n",
       "      <th>Effectiveness</th>\n",
       "      <th>Reviews_Rank</th>\n",
       "      <th>UsefulCount_boxcox</th>\n",
       "      <th>EaseofUse_boxcox</th>\n",
       "    </tr>\n",
       "  </thead>\n",
       "  <tbody>\n",
       "    <tr>\n",
       "      <th>9203</th>\n",
       "      <td>0</td>\n",
       "      <td>0</td>\n",
       "      <td>0</td>\n",
       "      <td>1</td>\n",
       "      <td>0</td>\n",
       "      <td>0</td>\n",
       "      <td>0</td>\n",
       "      <td>0</td>\n",
       "      <td>0</td>\n",
       "      <td>0</td>\n",
       "      <td>...</td>\n",
       "      <td>0</td>\n",
       "      <td>1</td>\n",
       "      <td>0</td>\n",
       "      <td>0</td>\n",
       "      <td>0</td>\n",
       "      <td>0</td>\n",
       "      <td>0.517259</td>\n",
       "      <td>1.0</td>\n",
       "      <td>-0.835439</td>\n",
       "      <td>0.943255</td>\n",
       "    </tr>\n",
       "    <tr>\n",
       "      <th>9209</th>\n",
       "      <td>0</td>\n",
       "      <td>0</td>\n",
       "      <td>1</td>\n",
       "      <td>0</td>\n",
       "      <td>0</td>\n",
       "      <td>0</td>\n",
       "      <td>0</td>\n",
       "      <td>0</td>\n",
       "      <td>0</td>\n",
       "      <td>0</td>\n",
       "      <td>...</td>\n",
       "      <td>0</td>\n",
       "      <td>0</td>\n",
       "      <td>0</td>\n",
       "      <td>0</td>\n",
       "      <td>1</td>\n",
       "      <td>0</td>\n",
       "      <td>1.226128</td>\n",
       "      <td>1.0</td>\n",
       "      <td>-0.835439</td>\n",
       "      <td>-0.231105</td>\n",
       "    </tr>\n",
       "    <tr>\n",
       "      <th>9215</th>\n",
       "      <td>0</td>\n",
       "      <td>0</td>\n",
       "      <td>0</td>\n",
       "      <td>1</td>\n",
       "      <td>0</td>\n",
       "      <td>0</td>\n",
       "      <td>0</td>\n",
       "      <td>0</td>\n",
       "      <td>0</td>\n",
       "      <td>0</td>\n",
       "      <td>...</td>\n",
       "      <td>0</td>\n",
       "      <td>0</td>\n",
       "      <td>0</td>\n",
       "      <td>1</td>\n",
       "      <td>0</td>\n",
       "      <td>0</td>\n",
       "      <td>1.226128</td>\n",
       "      <td>1.0</td>\n",
       "      <td>-0.102133</td>\n",
       "      <td>0.943255</td>\n",
       "    </tr>\n",
       "    <tr>\n",
       "      <th>9221</th>\n",
       "      <td>0</td>\n",
       "      <td>0</td>\n",
       "      <td>0</td>\n",
       "      <td>1</td>\n",
       "      <td>0</td>\n",
       "      <td>0</td>\n",
       "      <td>0</td>\n",
       "      <td>0</td>\n",
       "      <td>0</td>\n",
       "      <td>0</td>\n",
       "      <td>...</td>\n",
       "      <td>0</td>\n",
       "      <td>0</td>\n",
       "      <td>1</td>\n",
       "      <td>0</td>\n",
       "      <td>0</td>\n",
       "      <td>0</td>\n",
       "      <td>0.517259</td>\n",
       "      <td>0.0</td>\n",
       "      <td>0.918562</td>\n",
       "      <td>-1.480793</td>\n",
       "    </tr>\n",
       "    <tr>\n",
       "      <th>9227</th>\n",
       "      <td>0</td>\n",
       "      <td>0</td>\n",
       "      <td>0</td>\n",
       "      <td>1</td>\n",
       "      <td>0</td>\n",
       "      <td>0</td>\n",
       "      <td>0</td>\n",
       "      <td>0</td>\n",
       "      <td>0</td>\n",
       "      <td>0</td>\n",
       "      <td>...</td>\n",
       "      <td>0</td>\n",
       "      <td>0</td>\n",
       "      <td>0</td>\n",
       "      <td>0</td>\n",
       "      <td>0</td>\n",
       "      <td>0</td>\n",
       "      <td>-1.609348</td>\n",
       "      <td>0.0</td>\n",
       "      <td>1.837785</td>\n",
       "      <td>-1.004962</td>\n",
       "    </tr>\n",
       "    <tr>\n",
       "      <th>...</th>\n",
       "      <td>...</td>\n",
       "      <td>...</td>\n",
       "      <td>...</td>\n",
       "      <td>...</td>\n",
       "      <td>...</td>\n",
       "      <td>...</td>\n",
       "      <td>...</td>\n",
       "      <td>...</td>\n",
       "      <td>...</td>\n",
       "      <td>...</td>\n",
       "      <td>...</td>\n",
       "      <td>...</td>\n",
       "      <td>...</td>\n",
       "      <td>...</td>\n",
       "      <td>...</td>\n",
       "      <td>...</td>\n",
       "      <td>...</td>\n",
       "      <td>...</td>\n",
       "      <td>...</td>\n",
       "      <td>...</td>\n",
       "      <td>...</td>\n",
       "    </tr>\n",
       "    <tr>\n",
       "      <th>18981</th>\n",
       "      <td>0</td>\n",
       "      <td>0</td>\n",
       "      <td>1</td>\n",
       "      <td>0</td>\n",
       "      <td>0</td>\n",
       "      <td>0</td>\n",
       "      <td>0</td>\n",
       "      <td>1</td>\n",
       "      <td>0</td>\n",
       "      <td>0</td>\n",
       "      <td>...</td>\n",
       "      <td>0</td>\n",
       "      <td>0</td>\n",
       "      <td>1</td>\n",
       "      <td>0</td>\n",
       "      <td>0</td>\n",
       "      <td>0</td>\n",
       "      <td>-1.609348</td>\n",
       "      <td>0.0</td>\n",
       "      <td>1.551731</td>\n",
       "      <td>-1.480793</td>\n",
       "    </tr>\n",
       "    <tr>\n",
       "      <th>18982</th>\n",
       "      <td>1</td>\n",
       "      <td>0</td>\n",
       "      <td>0</td>\n",
       "      <td>0</td>\n",
       "      <td>0</td>\n",
       "      <td>0</td>\n",
       "      <td>0</td>\n",
       "      <td>0</td>\n",
       "      <td>0</td>\n",
       "      <td>1</td>\n",
       "      <td>...</td>\n",
       "      <td>0</td>\n",
       "      <td>1</td>\n",
       "      <td>0</td>\n",
       "      <td>0</td>\n",
       "      <td>0</td>\n",
       "      <td>0</td>\n",
       "      <td>-1.609348</td>\n",
       "      <td>0.0</td>\n",
       "      <td>0.918562</td>\n",
       "      <td>0.943255</td>\n",
       "    </tr>\n",
       "    <tr>\n",
       "      <th>18984</th>\n",
       "      <td>0</td>\n",
       "      <td>1</td>\n",
       "      <td>0</td>\n",
       "      <td>0</td>\n",
       "      <td>0</td>\n",
       "      <td>0</td>\n",
       "      <td>0</td>\n",
       "      <td>0</td>\n",
       "      <td>0</td>\n",
       "      <td>1</td>\n",
       "      <td>...</td>\n",
       "      <td>0</td>\n",
       "      <td>0</td>\n",
       "      <td>0</td>\n",
       "      <td>0</td>\n",
       "      <td>0</td>\n",
       "      <td>0</td>\n",
       "      <td>1.226128</td>\n",
       "      <td>1.0</td>\n",
       "      <td>-0.835439</td>\n",
       "      <td>0.943255</td>\n",
       "    </tr>\n",
       "    <tr>\n",
       "      <th>18985</th>\n",
       "      <td>0</td>\n",
       "      <td>0</td>\n",
       "      <td>0</td>\n",
       "      <td>1</td>\n",
       "      <td>0</td>\n",
       "      <td>0</td>\n",
       "      <td>0</td>\n",
       "      <td>1</td>\n",
       "      <td>0</td>\n",
       "      <td>0</td>\n",
       "      <td>...</td>\n",
       "      <td>0</td>\n",
       "      <td>0</td>\n",
       "      <td>0</td>\n",
       "      <td>0</td>\n",
       "      <td>0</td>\n",
       "      <td>0</td>\n",
       "      <td>-1.609348</td>\n",
       "      <td>0.0</td>\n",
       "      <td>0.631664</td>\n",
       "      <td>-1.746405</td>\n",
       "    </tr>\n",
       "    <tr>\n",
       "      <th>18990</th>\n",
       "      <td>0</td>\n",
       "      <td>1</td>\n",
       "      <td>0</td>\n",
       "      <td>0</td>\n",
       "      <td>0</td>\n",
       "      <td>0</td>\n",
       "      <td>0</td>\n",
       "      <td>0</td>\n",
       "      <td>0</td>\n",
       "      <td>0</td>\n",
       "      <td>...</td>\n",
       "      <td>1</td>\n",
       "      <td>0</td>\n",
       "      <td>0</td>\n",
       "      <td>0</td>\n",
       "      <td>0</td>\n",
       "      <td>0</td>\n",
       "      <td>-1.609348</td>\n",
       "      <td>0.0</td>\n",
       "      <td>1.951718</td>\n",
       "      <td>-1.746405</td>\n",
       "    </tr>\n",
       "  </tbody>\n",
       "</table>\n",
       "<p>6526 rows × 38 columns</p>\n",
       "</div>"
      ],
      "text/plain": [
       "       Race_Asian  Race_Black  Race_Hispanic  Race_White  Age_0-2  Age_13-18  \\\n",
       "9203            0           0              0           1        0          0   \n",
       "9209            0           0              1           0        0          0   \n",
       "9215            0           0              0           1        0          0   \n",
       "9221            0           0              0           1        0          0   \n",
       "9227            0           0              0           1        0          0   \n",
       "...           ...         ...            ...         ...      ...        ...   \n",
       "18981           0           0              1           0        0          0   \n",
       "18982           1           0              0           0        0          0   \n",
       "18984           0           1              0           0        0          0   \n",
       "18985           0           0              0           1        0          0   \n",
       "18990           0           1              0           0        0          0   \n",
       "\n",
       "       Age_19-24  Age_25-34  Age_35-44  Age_45-54  ...  day_of_week_Monday  \\\n",
       "9203           0          0          0          0  ...                   0   \n",
       "9209           0          0          0          0  ...                   0   \n",
       "9215           0          0          0          0  ...                   0   \n",
       "9221           0          0          0          0  ...                   0   \n",
       "9227           0          0          0          0  ...                   0   \n",
       "...          ...        ...        ...        ...  ...                 ...   \n",
       "18981          0          1          0          0  ...                   0   \n",
       "18982          0          0          0          1  ...                   0   \n",
       "18984          0          0          0          1  ...                   0   \n",
       "18985          0          1          0          0  ...                   0   \n",
       "18990          0          0          0          0  ...                   1   \n",
       "\n",
       "       day_of_week_Saturday  day_of_week_Sunday  day_of_week_Thursday  \\\n",
       "9203                      1                   0                     0   \n",
       "9209                      0                   0                     0   \n",
       "9215                      0                   0                     1   \n",
       "9221                      0                   1                     0   \n",
       "9227                      0                   0                     0   \n",
       "...                     ...                 ...                   ...   \n",
       "18981                     0                   1                     0   \n",
       "18982                     1                   0                     0   \n",
       "18984                     0                   0                     0   \n",
       "18985                     0                   0                     0   \n",
       "18990                     0                   0                     0   \n",
       "\n",
       "       day_of_week_Tuesday  day_of_week_Wednesday  Effectiveness  \\\n",
       "9203                     0                      0       0.517259   \n",
       "9209                     1                      0       1.226128   \n",
       "9215                     0                      0       1.226128   \n",
       "9221                     0                      0       0.517259   \n",
       "9227                     0                      0      -1.609348   \n",
       "...                    ...                    ...            ...   \n",
       "18981                    0                      0      -1.609348   \n",
       "18982                    0                      0      -1.609348   \n",
       "18984                    0                      0       1.226128   \n",
       "18985                    0                      0      -1.609348   \n",
       "18990                    0                      0      -1.609348   \n",
       "\n",
       "       Reviews_Rank  UsefulCount_boxcox  EaseofUse_boxcox  \n",
       "9203            1.0           -0.835439          0.943255  \n",
       "9209            1.0           -0.835439         -0.231105  \n",
       "9215            1.0           -0.102133          0.943255  \n",
       "9221            0.0            0.918562         -1.480793  \n",
       "9227            0.0            1.837785         -1.004962  \n",
       "...             ...                 ...               ...  \n",
       "18981           0.0            1.551731         -1.480793  \n",
       "18982           0.0            0.918562          0.943255  \n",
       "18984           1.0           -0.835439          0.943255  \n",
       "18985           0.0            0.631664         -1.746405  \n",
       "18990           0.0            1.951718         -1.746405  \n",
       "\n",
       "[6526 rows x 38 columns]"
      ]
     },
     "execution_count": 64,
     "metadata": {},
     "output_type": "execute_result"
    }
   ],
   "source": [
    "data3 = data_encod\n",
    "data3['Effectiveness'] = data_num.values\n",
    "data3['Reviews_Rank'] = data2.Reviews_Rank\n",
    "data3['UsefulCount_boxcox'] = data_Usefulcount1\n",
    "data3['EaseofUse_boxcox'] = data_EaseofUse1\n",
    "data3"
   ]
  },
  {
   "cell_type": "markdown",
   "id": "d8e7dc36",
   "metadata": {
    "papermill": {
     "duration": 0.041004,
     "end_time": "2023-05-09T03:22:28.351657",
     "exception": false,
     "start_time": "2023-05-09T03:22:28.310653",
     "status": "completed"
    },
    "tags": []
   },
   "source": [
    "# data3 froms our final dataset"
   ]
  },
  {
   "cell_type": "code",
   "execution_count": 65,
   "id": "878018fd",
   "metadata": {
    "execution": {
     "iopub.execute_input": "2023-05-09T03:22:28.437180Z",
     "iopub.status.busy": "2023-05-09T03:22:28.436458Z",
     "iopub.status.idle": "2023-05-09T03:22:28.447772Z",
     "shell.execute_reply": "2023-05-09T03:22:28.446521Z"
    },
    "papermill": {
     "duration": 0.056974,
     "end_time": "2023-05-09T03:22:28.450435",
     "exception": false,
     "start_time": "2023-05-09T03:22:28.393461",
     "status": "completed"
    },
    "tags": []
   },
   "outputs": [
    {
     "data": {
      "text/html": [
       "<div>\n",
       "<style scoped>\n",
       "    .dataframe tbody tr th:only-of-type {\n",
       "        vertical-align: middle;\n",
       "    }\n",
       "\n",
       "    .dataframe tbody tr th {\n",
       "        vertical-align: top;\n",
       "    }\n",
       "\n",
       "    .dataframe thead th {\n",
       "        text-align: right;\n",
       "    }\n",
       "</style>\n",
       "<table border=\"1\" class=\"dataframe\">\n",
       "  <thead>\n",
       "    <tr style=\"text-align: right;\">\n",
       "      <th></th>\n",
       "      <th>Sideeffect</th>\n",
       "    </tr>\n",
       "  </thead>\n",
       "  <tbody>\n",
       "    <tr>\n",
       "      <th>9203</th>\n",
       "      <td>2</td>\n",
       "    </tr>\n",
       "    <tr>\n",
       "      <th>9209</th>\n",
       "      <td>2</td>\n",
       "    </tr>\n",
       "    <tr>\n",
       "      <th>9215</th>\n",
       "      <td>1</td>\n",
       "    </tr>\n",
       "    <tr>\n",
       "      <th>9221</th>\n",
       "      <td>4</td>\n",
       "    </tr>\n",
       "    <tr>\n",
       "      <th>9227</th>\n",
       "      <td>5</td>\n",
       "    </tr>\n",
       "    <tr>\n",
       "      <th>...</th>\n",
       "      <td>...</td>\n",
       "    </tr>\n",
       "    <tr>\n",
       "      <th>18981</th>\n",
       "      <td>5</td>\n",
       "    </tr>\n",
       "    <tr>\n",
       "      <th>18982</th>\n",
       "      <td>5</td>\n",
       "    </tr>\n",
       "    <tr>\n",
       "      <th>18984</th>\n",
       "      <td>2</td>\n",
       "    </tr>\n",
       "    <tr>\n",
       "      <th>18985</th>\n",
       "      <td>5</td>\n",
       "    </tr>\n",
       "    <tr>\n",
       "      <th>18990</th>\n",
       "      <td>5</td>\n",
       "    </tr>\n",
       "  </tbody>\n",
       "</table>\n",
       "<p>6526 rows × 1 columns</p>\n",
       "</div>"
      ],
      "text/plain": [
       "       Sideeffect\n",
       "9203            2\n",
       "9209            2\n",
       "9215            1\n",
       "9221            4\n",
       "9227            5\n",
       "...           ...\n",
       "18981           5\n",
       "18982           5\n",
       "18984           2\n",
       "18985           5\n",
       "18990           5\n",
       "\n",
       "[6526 rows x 1 columns]"
      ]
     },
     "execution_count": 65,
     "metadata": {},
     "output_type": "execute_result"
    }
   ],
   "source": [
    "data4 = pd.DataFrame(data2['Sideeffect'])\n",
    "data4"
   ]
  },
  {
   "cell_type": "markdown",
   "id": "d6d244d2",
   "metadata": {
    "papermill": {
     "duration": 0.041599,
     "end_time": "2023-05-09T03:22:28.535079",
     "exception": false,
     "start_time": "2023-05-09T03:22:28.493480",
     "status": "completed"
    },
    "tags": []
   },
   "source": [
    "# data4 forms target"
   ]
  },
  {
   "cell_type": "code",
   "execution_count": 66,
   "id": "2bcac919",
   "metadata": {
    "execution": {
     "iopub.execute_input": "2023-05-09T03:22:28.623247Z",
     "iopub.status.busy": "2023-05-09T03:22:28.622498Z",
     "iopub.status.idle": "2023-05-09T03:22:29.010886Z",
     "shell.execute_reply": "2023-05-09T03:22:29.009510Z"
    },
    "papermill": {
     "duration": 0.436401,
     "end_time": "2023-05-09T03:22:29.013400",
     "exception": false,
     "start_time": "2023-05-09T03:22:28.576999",
     "status": "completed"
    },
    "tags": []
   },
   "outputs": [],
   "source": [
    "from sklearn.model_selection import train_test_split\n",
    "X_train, X_test, Y_train, Y_test = train_test_split(data3,data4,test_size=0.25, random_state = 42, stratify=data4)"
   ]
  },
  {
   "cell_type": "markdown",
   "id": "84aa93c7",
   "metadata": {
    "papermill": {
     "duration": 0.041372,
     "end_time": "2023-05-09T03:22:29.096833",
     "exception": false,
     "start_time": "2023-05-09T03:22:29.055461",
     "status": "completed"
    },
    "tags": []
   },
   "source": [
    "# Log Regression"
   ]
  },
  {
   "cell_type": "code",
   "execution_count": 67,
   "id": "0566352c",
   "metadata": {
    "execution": {
     "iopub.execute_input": "2023-05-09T03:22:29.181718Z",
     "iopub.status.busy": "2023-05-09T03:22:29.181030Z",
     "iopub.status.idle": "2023-05-09T03:22:29.573640Z",
     "shell.execute_reply": "2023-05-09T03:22:29.571956Z"
    },
    "papermill": {
     "duration": 0.440211,
     "end_time": "2023-05-09T03:22:29.578132",
     "exception": false,
     "start_time": "2023-05-09T03:22:29.137921",
     "status": "completed"
    },
    "tags": []
   },
   "outputs": [
    {
     "name": "stdout",
     "output_type": "stream",
     "text": [
      "[[236  40   0   0   0]\n",
      " [ 44 158   0   0   0]\n",
      " [  0   0 259   0   0]\n",
      " [  0   0   0  31 179]\n",
      " [  0   0   0  46 639]]\n",
      "0.8106617647058824\n",
      "              precision    recall  f1-score   support\n",
      "\n",
      "           1       0.84      0.86      0.85       276\n",
      "           2       0.80      0.78      0.79       202\n",
      "           3       1.00      1.00      1.00       259\n",
      "           4       0.40      0.15      0.22       210\n",
      "           5       0.78      0.93      0.85       685\n",
      "\n",
      "    accuracy                           0.81      1632\n",
      "   macro avg       0.76      0.74      0.74      1632\n",
      "weighted avg       0.78      0.81      0.78      1632\n",
      "\n"
     ]
    }
   ],
   "source": [
    "#log regression\n",
    "from sklearn.linear_model import LogisticRegression\n",
    "log_reg=LogisticRegression()\n",
    "# solver='lbfgs',max_iter=10000\n",
    "model1 = log_reg.fit(X_train,Y_train)\n",
    "Y_pred_logreg = model1.predict(X_test)\n",
    "\n",
    "#metrics\n",
    "from sklearn.metrics import confusion_matrix, precision_score, recall_score, f1_score, accuracy_score\n",
    "print(confusion_matrix(Y_test,Y_pred_logreg))\n",
    "print(accuracy_score(Y_test,Y_pred_logreg))\n",
    "\n",
    "#CLassification Report\n",
    "from sklearn.metrics import classification_report\n",
    "report = classification_report(Y_test,Y_pred_logreg)\n",
    "print(report)"
   ]
  },
  {
   "cell_type": "markdown",
   "id": "2e15ffad",
   "metadata": {
    "papermill": {
     "duration": 0.041341,
     "end_time": "2023-05-09T03:22:29.705609",
     "exception": false,
     "start_time": "2023-05-09T03:22:29.664268",
     "status": "completed"
    },
    "tags": []
   },
   "source": [
    "# SVM Polynomial"
   ]
  },
  {
   "cell_type": "code",
   "execution_count": 68,
   "id": "6df8ae5a",
   "metadata": {
    "execution": {
     "iopub.execute_input": "2023-05-09T03:22:29.793020Z",
     "iopub.status.busy": "2023-05-09T03:22:29.792602Z",
     "iopub.status.idle": "2023-05-09T03:22:35.538510Z",
     "shell.execute_reply": "2023-05-09T03:22:35.537148Z"
    },
    "papermill": {
     "duration": 5.793754,
     "end_time": "2023-05-09T03:22:35.540891",
     "exception": false,
     "start_time": "2023-05-09T03:22:29.747137",
     "status": "completed"
    },
    "tags": []
   },
   "outputs": [
    {
     "name": "stdout",
     "output_type": "stream",
     "text": [
      "[[235  41   0   0   0]\n",
      " [ 31 171   0   0   0]\n",
      " [  0   0 259   0   0]\n",
      " [  0   0   0  23 187]\n",
      " [  0   0   0   1 684]]\n",
      "0.8406862745098039\n",
      "              precision    recall  f1-score   support\n",
      "\n",
      "           1       0.88      0.85      0.87       276\n",
      "           2       0.81      0.85      0.83       202\n",
      "           3       1.00      1.00      1.00       259\n",
      "           4       0.96      0.11      0.20       210\n",
      "           5       0.79      1.00      0.88       685\n",
      "\n",
      "    accuracy                           0.84      1632\n",
      "   macro avg       0.89      0.76      0.75      1632\n",
      "weighted avg       0.86      0.84      0.80      1632\n",
      "\n"
     ]
    }
   ],
   "source": [
    "#SVM polynomial\n",
    "from sklearn.svm import SVC\n",
    "svm_clf_p = SVC(kernel='poly', degree = 4, probability=True)\n",
    "svm_model = svm_clf_p.fit(X_train, Y_train)\n",
    "y_pred_svmp = svm_clf_p.predict(X_test)\n",
    "# metrics\n",
    "print(confusion_matrix(Y_test, y_pred_svmp))\n",
    "print(accuracy_score(Y_test, y_pred_svmp))\n",
    "\n",
    "#CLassification Report\n",
    "from sklearn.metrics import classification_report\n",
    "report = classification_report(Y_test,y_pred_svmp)\n",
    "print(report)"
   ]
  },
  {
   "cell_type": "markdown",
   "id": "38a884f3",
   "metadata": {
    "papermill": {
     "duration": 0.043201,
     "end_time": "2023-05-09T03:22:35.627678",
     "exception": false,
     "start_time": "2023-05-09T03:22:35.584477",
     "status": "completed"
    },
    "tags": []
   },
   "source": [
    "# SVM RBF"
   ]
  },
  {
   "cell_type": "code",
   "execution_count": 69,
   "id": "1e26eba2",
   "metadata": {
    "execution": {
     "iopub.execute_input": "2023-05-09T03:22:35.719028Z",
     "iopub.status.busy": "2023-05-09T03:22:35.718624Z",
     "iopub.status.idle": "2023-05-09T03:22:41.976919Z",
     "shell.execute_reply": "2023-05-09T03:22:41.975519Z"
    },
    "papermill": {
     "duration": 6.306699,
     "end_time": "2023-05-09T03:22:41.979704",
     "exception": false,
     "start_time": "2023-05-09T03:22:35.673005",
     "status": "completed"
    },
    "tags": []
   },
   "outputs": [
    {
     "name": "stdout",
     "output_type": "stream",
     "text": [
      "[[235  41   0   0   0]\n",
      " [ 36 166   0   0   0]\n",
      " [  0   0 259   0   0]\n",
      " [  0   0   0  37 173]\n",
      " [  0   0   0  14 671]]\n",
      "0.8382352941176471\n",
      "              precision    recall  f1-score   support\n",
      "\n",
      "           1       0.87      0.85      0.86       276\n",
      "           2       0.80      0.82      0.81       202\n",
      "           3       1.00      1.00      1.00       259\n",
      "           4       0.73      0.18      0.28       210\n",
      "           5       0.80      0.98      0.88       685\n",
      "\n",
      "    accuracy                           0.84      1632\n",
      "   macro avg       0.84      0.77      0.77      1632\n",
      "weighted avg       0.83      0.84      0.81      1632\n",
      "\n"
     ]
    }
   ],
   "source": [
    "#svm rbf\n",
    "from sklearn.svm import SVC\n",
    "svm_clf_r = SVC(kernel='rbf', degree = 4, probability=True)\n",
    "svm_model = svm_clf_r.fit(X_train, Y_train)\n",
    "y_pred_svmr = svm_clf_r.predict(X_test)\n",
    "# metrics\n",
    "print(confusion_matrix(Y_test, y_pred_svmr))\n",
    "print(accuracy_score(Y_test, y_pred_svmr))\n",
    "\n",
    "#CLassification Report\n",
    "from sklearn.metrics import classification_report\n",
    "report = classification_report(Y_test,y_pred_svmr)\n",
    "print(report)\n"
   ]
  },
  {
   "cell_type": "markdown",
   "id": "cda7f51b",
   "metadata": {
    "papermill": {
     "duration": 0.040584,
     "end_time": "2023-05-09T03:22:42.060988",
     "exception": false,
     "start_time": "2023-05-09T03:22:42.020404",
     "status": "completed"
    },
    "tags": []
   },
   "source": [
    "# kNN"
   ]
  },
  {
   "cell_type": "code",
   "execution_count": 70,
   "id": "4ae51131",
   "metadata": {
    "execution": {
     "iopub.execute_input": "2023-05-09T03:22:42.145068Z",
     "iopub.status.busy": "2023-05-09T03:22:42.144227Z",
     "iopub.status.idle": "2023-05-09T03:22:44.381660Z",
     "shell.execute_reply": "2023-05-09T03:22:44.380403Z"
    },
    "papermill": {
     "duration": 2.282325,
     "end_time": "2023-05-09T03:22:44.384054",
     "exception": false,
     "start_time": "2023-05-09T03:22:42.101729",
     "status": "completed"
    },
    "tags": []
   },
   "outputs": [
    {
     "data": {
      "image/png": "[encoded data removed]",
      "text/plain": [
       "<Figure size 640x480 with 1 Axes>"
      ]
     },
     "metadata": {},
     "output_type": "display_data"
    }
   ],
   "source": [
    "#knn\n",
    "from sklearn.neighbors import KNeighborsClassifier\n",
    "metric_k = []\n",
    "neighbours = np.arange(3,15)\n",
    "\n",
    "for k in neighbours:\n",
    "        knn = KNeighborsClassifier(n_neighbors=k)\n",
    "        model2 = knn.fit(X_train, Y_train)\n",
    "        Y_pred_knn = model2.predict(X_test)\n",
    "        acc=accuracy_score(Y_test,Y_pred_knn)\n",
    "        metric_k.append(acc)\n",
    "        \n",
    "plt.plot(neighbours,metric_k,'*-')\n",
    "plt.xlabel('k value')\n",
    "plt.ylabel('accuracy')\n",
    "plt.grid()"
   ]
  },
  {
   "cell_type": "code",
   "execution_count": 71,
   "id": "bd1d8f84",
   "metadata": {
    "execution": {
     "iopub.execute_input": "2023-05-09T03:22:44.474960Z",
     "iopub.status.busy": "2023-05-09T03:22:44.474583Z",
     "iopub.status.idle": "2023-05-09T03:22:44.593106Z",
     "shell.execute_reply": "2023-05-09T03:22:44.591983Z"
    },
    "papermill": {
     "duration": 0.167001,
     "end_time": "2023-05-09T03:22:44.595700",
     "exception": false,
     "start_time": "2023-05-09T03:22:44.428699",
     "status": "completed"
    },
    "tags": []
   },
   "outputs": [
    {
     "name": "stdout",
     "output_type": "stream",
     "text": [
      "[[250  23   0   0   3]\n",
      " [ 91  99   0   1  11]\n",
      " [  0   0 259   0   0]\n",
      " [  8   2   0  71 129]\n",
      " [ 23   5   0  55 602]]\n",
      "0.7849264705882353\n",
      "              precision    recall  f1-score   support\n",
      "\n",
      "           1       0.67      0.91      0.77       276\n",
      "           2       0.77      0.49      0.60       202\n",
      "           3       1.00      1.00      1.00       259\n",
      "           4       0.56      0.34      0.42       210\n",
      "           5       0.81      0.88      0.84       685\n",
      "\n",
      "    accuracy                           0.78      1632\n",
      "   macro avg       0.76      0.72      0.73      1632\n",
      "weighted avg       0.78      0.78      0.77      1632\n",
      "\n"
     ]
    }
   ],
   "source": [
    "knn = KNeighborsClassifier(n_neighbors=11)\n",
    "model2 = knn.fit(X_train, Y_train)\n",
    "Y_pred_knn = model2.predict(X_test)\n",
    "# metrics\n",
    "print(confusion_matrix(Y_test,Y_pred_knn))\n",
    "print(accuracy_score(Y_test,Y_pred_knn))\n",
    "\n",
    "\n",
    "#CLassification Report\n",
    "from sklearn.metrics import classification_report\n",
    "report = classification_report(Y_test,Y_pred_knn)\n",
    "print(report)"
   ]
  },
  {
   "cell_type": "markdown",
   "id": "dd8c4061",
   "metadata": {
    "papermill": {
     "duration": 0.042609,
     "end_time": "2023-05-09T03:22:44.754158",
     "exception": false,
     "start_time": "2023-05-09T03:22:44.711549",
     "status": "completed"
    },
    "tags": []
   },
   "source": [
    "# Decision Tree"
   ]
  },
  {
   "cell_type": "code",
   "execution_count": 72,
   "id": "757b2ff1",
   "metadata": {
    "execution": {
     "iopub.execute_input": "2023-05-09T03:22:44.843495Z",
     "iopub.status.busy": "2023-05-09T03:22:44.842748Z",
     "iopub.status.idle": "2023-05-09T03:22:44.904605Z",
     "shell.execute_reply": "2023-05-09T03:22:44.903278Z"
    },
    "papermill": {
     "duration": 0.109303,
     "end_time": "2023-05-09T03:22:44.907209",
     "exception": false,
     "start_time": "2023-05-09T03:22:44.797906",
     "status": "completed"
    },
    "tags": []
   },
   "outputs": [
    {
     "name": "stdout",
     "output_type": "stream",
     "text": [
      "[[248  28   0   0   0]\n",
      " [ 34 168   0   0   0]\n",
      " [  0   0 259   0   0]\n",
      " [  0   0   0 161  49]\n",
      " [  0   0   0  62 623]]\n",
      "0.8939950980392157\n",
      "              precision    recall  f1-score   support\n",
      "\n",
      "           1       0.88      0.90      0.89       276\n",
      "           2       0.86      0.83      0.84       202\n",
      "           3       1.00      1.00      1.00       259\n",
      "           4       0.72      0.77      0.74       210\n",
      "           5       0.93      0.91      0.92       685\n",
      "\n",
      "    accuracy                           0.89      1632\n",
      "   macro avg       0.88      0.88      0.88      1632\n",
      "weighted avg       0.90      0.89      0.89      1632\n",
      "\n"
     ]
    }
   ],
   "source": [
    "#decision tree\n",
    "from sklearn.tree import DecisionTreeClassifier\n",
    "dtm_clf = DecisionTreeClassifier(random_state = 42)\n",
    "dtm_clf.fit(X_train, Y_train)\n",
    "y_pred_dtm = dtm_clf.predict(X_test)\n",
    "# metrics\n",
    "print(confusion_matrix(Y_test, y_pred_dtm))\n",
    "print(accuracy_score(Y_test, y_pred_dtm))\n",
    "\n",
    "#CLassification Report\n",
    "from sklearn.metrics import classification_report\n",
    "report = classification_report(Y_test,y_pred_dtm)\n",
    "print(report)"
   ]
  },
  {
   "cell_type": "markdown",
   "id": "a4a7bd65",
   "metadata": {
    "papermill": {
     "duration": 0.042092,
     "end_time": "2023-05-09T03:22:44.992352",
     "exception": false,
     "start_time": "2023-05-09T03:22:44.950260",
     "status": "completed"
    },
    "tags": []
   },
   "source": [
    "# Random forest"
   ]
  },
  {
   "cell_type": "code",
   "execution_count": 73,
   "id": "eeeb2b90",
   "metadata": {
    "execution": {
     "iopub.execute_input": "2023-05-09T03:22:45.078738Z",
     "iopub.status.busy": "2023-05-09T03:22:45.078373Z",
     "iopub.status.idle": "2023-05-09T03:22:45.893388Z",
     "shell.execute_reply": "2023-05-09T03:22:45.892000Z"
    },
    "papermill": {
     "duration": 0.861022,
     "end_time": "2023-05-09T03:22:45.895744",
     "exception": false,
     "start_time": "2023-05-09T03:22:45.034722",
     "status": "completed"
    },
    "tags": []
   },
   "outputs": [
    {
     "name": "stdout",
     "output_type": "stream",
     "text": [
      "[[259  17   0   0   0]\n",
      " [ 29 173   0   0   0]\n",
      " [  0   0 259   0   0]\n",
      " [  0   0   0 136  74]\n",
      " [  0   0   0  14 671]]\n",
      "0.9178921568627451\n",
      "              precision    recall  f1-score   support\n",
      "\n",
      "           1       0.90      0.94      0.92       276\n",
      "           2       0.91      0.86      0.88       202\n",
      "           3       1.00      1.00      1.00       259\n",
      "           4       0.91      0.65      0.76       210\n",
      "           5       0.90      0.98      0.94       685\n",
      "\n",
      "    accuracy                           0.92      1632\n",
      "   macro avg       0.92      0.88      0.90      1632\n",
      "weighted avg       0.92      0.92      0.91      1632\n",
      "\n"
     ]
    }
   ],
   "source": [
    "#random forest model\n",
    "from sklearn.ensemble import RandomForestClassifier\n",
    "rfm_clf = RandomForestClassifier(random_state = 42)\n",
    "rfm_clf.fit(X_train, Y_train)\n",
    "y_pred_rfm = rfm_clf.predict(X_test)\n",
    "# metrics\n",
    "print(confusion_matrix(Y_test, y_pred_rfm))\n",
    "print(accuracy_score(Y_test, y_pred_rfm))\n",
    "\n",
    "\n",
    "#CLassification Report\n",
    "from sklearn.metrics import classification_report\n",
    "report = classification_report(Y_test,y_pred_rfm)\n",
    "print(report)\n"
   ]
  },
  {
   "cell_type": "markdown",
   "id": "165dd6b0",
   "metadata": {
    "papermill": {
     "duration": 0.041993,
     "end_time": "2023-05-09T03:22:45.980012",
     "exception": false,
     "start_time": "2023-05-09T03:22:45.938019",
     "status": "completed"
    },
    "tags": []
   },
   "source": [
    "# HyperTuning Parameters"
   ]
  },
  {
   "cell_type": "code",
   "execution_count": 74,
   "id": "b0b4ec43",
   "metadata": {
    "execution": {
     "iopub.execute_input": "2023-05-09T03:22:46.066287Z",
     "iopub.status.busy": "2023-05-09T03:22:46.065903Z",
     "iopub.status.idle": "2023-05-09T03:40:42.486780Z",
     "shell.execute_reply": "2023-05-09T03:40:42.485056Z"
    },
    "papermill": {
     "duration": 1076.469803,
     "end_time": "2023-05-09T03:40:42.492123",
     "exception": false,
     "start_time": "2023-05-09T03:22:46.022320",
     "status": "completed"
    },
    "tags": []
   },
   "outputs": [
    {
     "name": "stdout",
     "output_type": "stream",
     "text": [
      "Fitting 3 folds for each of 2700 candidates, totalling 8100 fits\n"
     ]
    }
   ],
   "source": [
    "from sklearn.model_selection import GridSearchCV\n",
    "\n",
    "params = {'n_estimators': [1, 10, 100], 'criterion': ['gini', 'entropy'], 'min_samples_leaf' : list(range(25, 100)), 'min_samples_split': [2, 3, 4], 'max_features': ['auto','log2']}\n",
    "rfc_tuned = RandomForestClassifier()\n",
    "model_tuning_RF = GridSearchCV(rfc_tuned, param_grid=params, verbose=1, cv=3, scoring = 'recall')\n",
    "grid_rf_metrics = model_tuning_RF.fit(X_train, Y_train)"
   ]
  },
  {
   "cell_type": "code",
   "execution_count": 77,
   "id": "ee820598",
   "metadata": {
    "execution": {
     "iopub.execute_input": "2023-05-09T03:40:42.588786Z",
     "iopub.status.busy": "2023-05-09T03:40:42.588304Z",
     "iopub.status.idle": "2023-05-09T03:40:42.594561Z",
     "shell.execute_reply": "2023-05-09T03:40:42.593789Z"
    },
    "papermill": {
     "duration": 0.056289,
     "end_time": "2023-05-09T03:40:42.597636",
     "exception": false,
     "start_time": "2023-05-09T03:40:42.541347",
     "status": "completed"
    },
    "tags": []
   },
   "outputs": [
    {
     "name": "stdout",
     "output_type": "stream",
     "text": [
      "Best: nan using {'criterion': 'gini', 'max_features': 'auto', 'min_samples_leaf': 25, 'min_samples_split': 2, 'n_estimators': 1}\n"
     ]
    }
   ],
   "source": [
    "print(\"Best: %f using %s\" % (grid_rf_metrics.best_score_, grid_rf_metrics.best_params_))"
   ]
  },
  {
   "cell_type": "code",
   "execution_count": 76,
   "id": "a9f1287d",
   "metadata": {
    "execution": {
     "iopub.execute_input": "2023-05-09T03:40:42.688872Z",
     "iopub.status.busy": "2023-05-09T03:40:42.688194Z",
     "iopub.status.idle": "2023-05-09T03:40:42.717984Z",
     "shell.execute_reply": "2023-05-09T03:40:42.716885Z"
    },
    "papermill": {
     "duration": 0.077506,
     "end_time": "2023-05-09T03:40:42.720381",
     "exception": false,
     "start_time": "2023-05-09T03:40:42.642875",
     "status": "completed"
    },
    "tags": []
   },
   "outputs": [
    {
     "name": "stdout",
     "output_type": "stream",
     "text": [
      "[[213  26   6   0  31]\n",
      " [ 41  99  35   0  27]\n",
      " [ 30   0 201   0  28]\n",
      " [ 25  21   8   0 156]\n",
      " [ 60  13   7   0 605]]\n",
      "0.6850490196078431\n",
      "              precision    recall  f1-score   support\n",
      "\n",
      "           1       0.58      0.77      0.66       276\n",
      "           2       0.62      0.49      0.55       202\n",
      "           3       0.78      0.78      0.78       259\n",
      "           4       0.00      0.00      0.00       210\n",
      "           5       0.71      0.88      0.79       685\n",
      "\n",
      "    accuracy                           0.69      1632\n",
      "   macro avg       0.54      0.58      0.56      1632\n",
      "weighted avg       0.60      0.69      0.63      1632\n",
      "\n"
     ]
    }
   ],
   "source": [
    "y_pred_rfm = model_tuning_RF.predict(X_test)\n",
    "# metrics\n",
    "print(confusion_matrix(Y_test, y_pred_rfm))\n",
    "print(accuracy_score(Y_test, y_pred_rfm))\n",
    "\n",
    "\n",
    "#CLassification Report\n",
    "from sklearn.metrics import classification_report\n",
    "report = classification_report(Y_test,y_pred_rfm)\n",
    "print(report)"
   ]
  },
  {
   "cell_type": "markdown",
   "id": "34b3ec3a",
   "metadata": {
    "papermill": {
     "duration": 0.043015,
     "end_time": "2023-05-09T03:40:42.806104",
     "exception": false,
     "start_time": "2023-05-09T03:40:42.763089",
     "status": "completed"
    },
    "tags": []
   },
   "source": [
    "#### No best score obtained. So, let us choose 84%"
   ]
  },
  {
   "cell_type": "markdown",
   "id": "80721b39",
   "metadata": {
    "papermill": {
     "duration": 0.04272,
     "end_time": "2023-05-09T03:40:42.892263",
     "exception": false,
     "start_time": "2023-05-09T03:40:42.849543",
     "status": "completed"
    },
    "tags": []
   },
   "source": [
    "# Ridge Classifier"
   ]
  },
  {
   "cell_type": "code",
   "execution_count": 78,
   "id": "cb470b37",
   "metadata": {
    "execution": {
     "iopub.execute_input": "2023-05-09T03:40:42.980787Z",
     "iopub.status.busy": "2023-05-09T03:40:42.979961Z",
     "iopub.status.idle": "2023-05-09T03:40:43.071937Z",
     "shell.execute_reply": "2023-05-09T03:40:43.070715Z"
    },
    "papermill": {
     "duration": 0.139902,
     "end_time": "2023-05-09T03:40:43.075765",
     "exception": false,
     "start_time": "2023-05-09T03:40:42.935863",
     "status": "completed"
    },
    "tags": []
   },
   "outputs": [
    {
     "name": "stdout",
     "output_type": "stream",
     "text": [
      "[[266   1   0   0   9]\n",
      " [128   6   0   2  66]\n",
      " [  0   0 259   0   0]\n",
      " [ 16   0   0   1 193]\n",
      " [ 37   0   0   0 648]]\n",
      "0.7230392156862745\n",
      "              precision    recall  f1-score   support\n",
      "\n",
      "           1       0.60      0.96      0.74       276\n",
      "           2       0.86      0.03      0.06       202\n",
      "           3       1.00      1.00      1.00       259\n",
      "           4       0.33      0.00      0.01       210\n",
      "           5       0.71      0.95      0.81       685\n",
      "\n",
      "    accuracy                           0.72      1632\n",
      "   macro avg       0.70      0.59      0.52      1632\n",
      "weighted avg       0.71      0.72      0.63      1632\n",
      "\n"
     ]
    }
   ],
   "source": [
    "from sklearn.linear_model import RidgeClassifier\n",
    "rid_clf = RidgeClassifier()\n",
    "rid_clf.fit(X_train, Y_train)\n",
    "y_pred_rid = rid_clf.predict(X_test)\n",
    "# metrics\n",
    "print(confusion_matrix(Y_test, y_pred_rid))\n",
    "print(accuracy_score(Y_test, y_pred_rid))\n",
    "\n",
    "\n",
    "#CLassification Report\n",
    "from sklearn.metrics import classification_report\n",
    "report = classification_report(Y_test,y_pred_rid)\n",
    "print(report)"
   ]
  },
  {
   "cell_type": "markdown",
   "id": "1e124374",
   "metadata": {
    "papermill": {
     "duration": 0.042782,
     "end_time": "2023-05-09T03:40:43.208692",
     "exception": false,
     "start_time": "2023-05-09T03:40:43.165910",
     "status": "completed"
    },
    "tags": []
   },
   "source": [
    "# Bagging Classifier"
   ]
  },
  {
   "cell_type": "code",
   "execution_count": 79,
   "id": "4288e434",
   "metadata": {
    "execution": {
     "iopub.execute_input": "2023-05-09T03:40:43.299528Z",
     "iopub.status.busy": "2023-05-09T03:40:43.299156Z",
     "iopub.status.idle": "2023-05-09T03:40:43.529168Z",
     "shell.execute_reply": "2023-05-09T03:40:43.527920Z"
    },
    "papermill": {
     "duration": 0.278647,
     "end_time": "2023-05-09T03:40:43.531523",
     "exception": false,
     "start_time": "2023-05-09T03:40:43.252876",
     "status": "completed"
    },
    "tags": []
   },
   "outputs": [
    {
     "name": "stdout",
     "output_type": "stream",
     "text": [
      "[[252  24   0   0   0]\n",
      " [ 42 160   0   0   0]\n",
      " [  0   0 259   0   0]\n",
      " [  0   0   0 160  50]\n",
      " [  0   0   0  48 637]]\n",
      "0.8995098039215687\n",
      "              precision    recall  f1-score   support\n",
      "\n",
      "           1       0.86      0.91      0.88       276\n",
      "           2       0.87      0.79      0.83       202\n",
      "           3       1.00      1.00      1.00       259\n",
      "           4       0.77      0.76      0.77       210\n",
      "           5       0.93      0.93      0.93       685\n",
      "\n",
      "    accuracy                           0.90      1632\n",
      "   macro avg       0.88      0.88      0.88      1632\n",
      "weighted avg       0.90      0.90      0.90      1632\n",
      "\n"
     ]
    }
   ],
   "source": [
    "from sklearn.ensemble import BaggingClassifier\n",
    "bag_clf = BaggingClassifier()\n",
    "bag_clf.fit(X_train, Y_train)\n",
    "y_pred_bag = bag_clf.predict(X_test)\n",
    "# metrics\n",
    "print(confusion_matrix(Y_test, y_pred_bag))\n",
    "print(accuracy_score(Y_test, y_pred_bag))\n",
    "\n",
    "\n",
    "#CLassification Report\n",
    "from sklearn.metrics import classification_report\n",
    "report = classification_report(Y_test,y_pred_bag)\n",
    "print(report)"
   ]
  },
  {
   "cell_type": "code",
   "execution_count": 80,
   "id": "9aaa1c88",
   "metadata": {
    "execution": {
     "iopub.execute_input": "2023-05-09T03:40:43.619986Z",
     "iopub.status.busy": "2023-05-09T03:40:43.619343Z",
     "iopub.status.idle": "2023-05-09T03:40:47.262370Z",
     "shell.execute_reply": "2023-05-09T03:40:47.261113Z"
    },
    "papermill": {
     "duration": 3.690641,
     "end_time": "2023-05-09T03:40:47.264718",
     "exception": false,
     "start_time": "2023-05-09T03:40:43.574077",
     "status": "completed"
    },
    "tags": []
   },
   "outputs": [
    {
     "name": "stdout",
     "output_type": "stream",
     "text": [
      "[[234  42   0   0   0]\n",
      " [ 34 168   0   0   0]\n",
      " [  0   0 259   0   0]\n",
      " [  0   0   0  66 144]\n",
      " [  0   0   0  38 647]]\n",
      "0.8419117647058824\n",
      "              precision    recall  f1-score   support\n",
      "\n",
      "           1       0.87      0.85      0.86       276\n",
      "           2       0.80      0.83      0.82       202\n",
      "           3       1.00      1.00      1.00       259\n",
      "           4       0.63      0.31      0.42       210\n",
      "           5       0.82      0.94      0.88       685\n",
      "\n",
      "    accuracy                           0.84      1632\n",
      "   macro avg       0.83      0.79      0.79      1632\n",
      "weighted avg       0.83      0.84      0.83      1632\n",
      "\n"
     ]
    }
   ],
   "source": [
    "from sklearn.ensemble import GradientBoostingClassifier\n",
    "grd_clf = GradientBoostingClassifier()\n",
    "grd_clf.fit(X_train, Y_train)\n",
    "y_pred_grd = grd_clf.predict(X_test)\n",
    "# metrics\n",
    "print(confusion_matrix(Y_test, y_pred_grd))\n",
    "print(accuracy_score(Y_test, y_pred_grd))\n",
    "\n",
    "\n",
    "#CLassification Report\n",
    "from sklearn.metrics import classification_report\n",
    "report = classification_report(Y_test,y_pred_grd)\n",
    "print(report)"
   ]
  },
  {
   "cell_type": "markdown",
   "id": "d3a17e23",
   "metadata": {
    "papermill": {
     "duration": 0.043406,
     "end_time": "2023-05-09T03:40:47.352625",
     "exception": false,
     "start_time": "2023-05-09T03:40:47.309219",
     "status": "completed"
    },
    "tags": []
   },
   "source": [
    "#### Analysis Result:\n",
    "#### Accuracy Values of each algorithm:\n",
    "#### Logarithmic Regression: 81%\n",
    "#### SVM Polynomial: 84%\n",
    "#### SVM RBF: 84%\n",
    "#### Decision Tree: 89%\n",
    "#### kNN :  78%\n",
    "#### Ridge : 72%\n",
    "#### Bagging Classifier : 90%\n",
    "#### GradientBoostingClassifier :  72%\n",
    "#### Random Forest Classifier gave an accuracy of 92%. Hence, this model is selected"
   ]
  },
  {
   "cell_type": "code",
   "execution_count": null,
   "id": "e578a561",
   "metadata": {},
   "outputs": [],
   "source": []
  }
 ],
 "metadata": {
  "kernelspec": {
   "display_name": "Python 3 (ipykernel)",
   "language": "python",
   "name": "python3"
  },
  "language_info": {
   "codemirror_mode": {
    "name": "ipython",
    "version": 3
   },
   "file_extension": ".py",
   "mimetype": "text/x-python",
   "name": "python",
   "nbconvert_exporter": "python",
   "pygments_lexer": "ipython3",
   "version": "3.9.13"
  },
  "papermill": {
   "default_parameters": {},
   "duration": 3668.926572,
   "end_time": "2023-05-09T03:40:50.305447",
   "environment_variables": {},
   "exception": null,
   "input_path": "__notebook__.ipynb",
   "output_path": "__notebook__.ipynb",
   "parameters": {},
   "start_time": "2023-05-09T02:39:41.378875",
   "version": "2.4.0"
  }
 },
 "nbformat": 4,
 "nbformat_minor": 5
}
